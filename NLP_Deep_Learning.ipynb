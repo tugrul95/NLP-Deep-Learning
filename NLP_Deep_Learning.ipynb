{
  "nbformat": 4,
  "nbformat_minor": 0,
  "metadata": {
    "colab": {
      "name": "NLP-Deep-Learning.ipynb",
      "provenance": [],
      "collapsed_sections": []
    },
    "kernelspec": {
      "name": "python3",
      "display_name": "Python 3"
    },
    "language_info": {
      "name": "python"
    },
    "widgets": {
      "application/vnd.jupyter.widget-state+json": {
        "d6134efdcfdf4f0eb9d161644e1e6e77": {
          "model_module": "@jupyter-widgets/controls",
          "model_name": "HBoxModel",
          "model_module_version": "1.5.0",
          "state": {
            "_view_name": "HBoxView",
            "_dom_classes": [],
            "_model_name": "HBoxModel",
            "_view_module": "@jupyter-widgets/controls",
            "_model_module_version": "1.5.0",
            "_view_count": null,
            "_view_module_version": "1.5.0",
            "box_style": "",
            "layout": "IPY_MODEL_3fb5ccb6823c4f58a12db46e49f63bea",
            "_model_module": "@jupyter-widgets/controls",
            "children": [
              "IPY_MODEL_34916987a55c4313977c1e3798126aed",
              "IPY_MODEL_bdfa4024a5034df3a6196cedafd79ef6",
              "IPY_MODEL_478dc9d768db4fea99d204fb76d28f9b"
            ]
          }
        },
        "3fb5ccb6823c4f58a12db46e49f63bea": {
          "model_module": "@jupyter-widgets/base",
          "model_name": "LayoutModel",
          "model_module_version": "1.2.0",
          "state": {
            "_view_name": "LayoutView",
            "grid_template_rows": null,
            "right": null,
            "justify_content": null,
            "_view_module": "@jupyter-widgets/base",
            "overflow": null,
            "_model_module_version": "1.2.0",
            "_view_count": null,
            "flex_flow": null,
            "width": null,
            "min_width": null,
            "border": null,
            "align_items": null,
            "bottom": null,
            "_model_module": "@jupyter-widgets/base",
            "top": null,
            "grid_column": null,
            "overflow_y": null,
            "overflow_x": null,
            "grid_auto_flow": null,
            "grid_area": null,
            "grid_template_columns": null,
            "flex": null,
            "_model_name": "LayoutModel",
            "justify_items": null,
            "grid_row": null,
            "max_height": null,
            "align_content": null,
            "visibility": null,
            "align_self": null,
            "height": null,
            "min_height": null,
            "padding": null,
            "grid_auto_rows": null,
            "grid_gap": null,
            "max_width": null,
            "order": null,
            "_view_module_version": "1.2.0",
            "grid_template_areas": null,
            "object_position": null,
            "object_fit": null,
            "grid_auto_columns": null,
            "margin": null,
            "display": null,
            "left": null
          }
        },
        "34916987a55c4313977c1e3798126aed": {
          "model_module": "@jupyter-widgets/controls",
          "model_name": "HTMLModel",
          "model_module_version": "1.5.0",
          "state": {
            "_view_name": "HTMLView",
            "style": "IPY_MODEL_ee2f0896512341179d8e273ff1f88f9b",
            "_dom_classes": [],
            "description": "",
            "_model_name": "HTMLModel",
            "placeholder": "​",
            "_view_module": "@jupyter-widgets/controls",
            "_model_module_version": "1.5.0",
            "value": "Downloading: 100%",
            "_view_count": null,
            "_view_module_version": "1.5.0",
            "description_tooltip": null,
            "_model_module": "@jupyter-widgets/controls",
            "layout": "IPY_MODEL_28054fd055f3451496d8c2b6a5dcff34"
          }
        },
        "bdfa4024a5034df3a6196cedafd79ef6": {
          "model_module": "@jupyter-widgets/controls",
          "model_name": "FloatProgressModel",
          "model_module_version": "1.5.0",
          "state": {
            "_view_name": "ProgressView",
            "style": "IPY_MODEL_55695ad958f946f89162ee9d1027578e",
            "_dom_classes": [],
            "description": "",
            "_model_name": "FloatProgressModel",
            "bar_style": "success",
            "max": 231508,
            "_view_module": "@jupyter-widgets/controls",
            "_model_module_version": "1.5.0",
            "value": 231508,
            "_view_count": null,
            "_view_module_version": "1.5.0",
            "orientation": "horizontal",
            "min": 0,
            "description_tooltip": null,
            "_model_module": "@jupyter-widgets/controls",
            "layout": "IPY_MODEL_c3d722831a8b4ce18549b20aee4be0b2"
          }
        },
        "478dc9d768db4fea99d204fb76d28f9b": {
          "model_module": "@jupyter-widgets/controls",
          "model_name": "HTMLModel",
          "model_module_version": "1.5.0",
          "state": {
            "_view_name": "HTMLView",
            "style": "IPY_MODEL_5305d47d30a64091a7e9c6424ae8c208",
            "_dom_classes": [],
            "description": "",
            "_model_name": "HTMLModel",
            "placeholder": "​",
            "_view_module": "@jupyter-widgets/controls",
            "_model_module_version": "1.5.0",
            "value": " 226k/226k [00:00&lt;00:00, 873kB/s]",
            "_view_count": null,
            "_view_module_version": "1.5.0",
            "description_tooltip": null,
            "_model_module": "@jupyter-widgets/controls",
            "layout": "IPY_MODEL_6151518cf176482eb0317c2789db0c38"
          }
        },
        "ee2f0896512341179d8e273ff1f88f9b": {
          "model_module": "@jupyter-widgets/controls",
          "model_name": "DescriptionStyleModel",
          "model_module_version": "1.5.0",
          "state": {
            "_view_name": "StyleView",
            "_model_name": "DescriptionStyleModel",
            "description_width": "",
            "_view_module": "@jupyter-widgets/base",
            "_model_module_version": "1.5.0",
            "_view_count": null,
            "_view_module_version": "1.2.0",
            "_model_module": "@jupyter-widgets/controls"
          }
        },
        "28054fd055f3451496d8c2b6a5dcff34": {
          "model_module": "@jupyter-widgets/base",
          "model_name": "LayoutModel",
          "model_module_version": "1.2.0",
          "state": {
            "_view_name": "LayoutView",
            "grid_template_rows": null,
            "right": null,
            "justify_content": null,
            "_view_module": "@jupyter-widgets/base",
            "overflow": null,
            "_model_module_version": "1.2.0",
            "_view_count": null,
            "flex_flow": null,
            "width": null,
            "min_width": null,
            "border": null,
            "align_items": null,
            "bottom": null,
            "_model_module": "@jupyter-widgets/base",
            "top": null,
            "grid_column": null,
            "overflow_y": null,
            "overflow_x": null,
            "grid_auto_flow": null,
            "grid_area": null,
            "grid_template_columns": null,
            "flex": null,
            "_model_name": "LayoutModel",
            "justify_items": null,
            "grid_row": null,
            "max_height": null,
            "align_content": null,
            "visibility": null,
            "align_self": null,
            "height": null,
            "min_height": null,
            "padding": null,
            "grid_auto_rows": null,
            "grid_gap": null,
            "max_width": null,
            "order": null,
            "_view_module_version": "1.2.0",
            "grid_template_areas": null,
            "object_position": null,
            "object_fit": null,
            "grid_auto_columns": null,
            "margin": null,
            "display": null,
            "left": null
          }
        },
        "55695ad958f946f89162ee9d1027578e": {
          "model_module": "@jupyter-widgets/controls",
          "model_name": "ProgressStyleModel",
          "model_module_version": "1.5.0",
          "state": {
            "_view_name": "StyleView",
            "_model_name": "ProgressStyleModel",
            "description_width": "",
            "_view_module": "@jupyter-widgets/base",
            "_model_module_version": "1.5.0",
            "_view_count": null,
            "_view_module_version": "1.2.0",
            "bar_color": null,
            "_model_module": "@jupyter-widgets/controls"
          }
        },
        "c3d722831a8b4ce18549b20aee4be0b2": {
          "model_module": "@jupyter-widgets/base",
          "model_name": "LayoutModel",
          "model_module_version": "1.2.0",
          "state": {
            "_view_name": "LayoutView",
            "grid_template_rows": null,
            "right": null,
            "justify_content": null,
            "_view_module": "@jupyter-widgets/base",
            "overflow": null,
            "_model_module_version": "1.2.0",
            "_view_count": null,
            "flex_flow": null,
            "width": null,
            "min_width": null,
            "border": null,
            "align_items": null,
            "bottom": null,
            "_model_module": "@jupyter-widgets/base",
            "top": null,
            "grid_column": null,
            "overflow_y": null,
            "overflow_x": null,
            "grid_auto_flow": null,
            "grid_area": null,
            "grid_template_columns": null,
            "flex": null,
            "_model_name": "LayoutModel",
            "justify_items": null,
            "grid_row": null,
            "max_height": null,
            "align_content": null,
            "visibility": null,
            "align_self": null,
            "height": null,
            "min_height": null,
            "padding": null,
            "grid_auto_rows": null,
            "grid_gap": null,
            "max_width": null,
            "order": null,
            "_view_module_version": "1.2.0",
            "grid_template_areas": null,
            "object_position": null,
            "object_fit": null,
            "grid_auto_columns": null,
            "margin": null,
            "display": null,
            "left": null
          }
        },
        "5305d47d30a64091a7e9c6424ae8c208": {
          "model_module": "@jupyter-widgets/controls",
          "model_name": "DescriptionStyleModel",
          "model_module_version": "1.5.0",
          "state": {
            "_view_name": "StyleView",
            "_model_name": "DescriptionStyleModel",
            "description_width": "",
            "_view_module": "@jupyter-widgets/base",
            "_model_module_version": "1.5.0",
            "_view_count": null,
            "_view_module_version": "1.2.0",
            "_model_module": "@jupyter-widgets/controls"
          }
        },
        "6151518cf176482eb0317c2789db0c38": {
          "model_module": "@jupyter-widgets/base",
          "model_name": "LayoutModel",
          "model_module_version": "1.2.0",
          "state": {
            "_view_name": "LayoutView",
            "grid_template_rows": null,
            "right": null,
            "justify_content": null,
            "_view_module": "@jupyter-widgets/base",
            "overflow": null,
            "_model_module_version": "1.2.0",
            "_view_count": null,
            "flex_flow": null,
            "width": null,
            "min_width": null,
            "border": null,
            "align_items": null,
            "bottom": null,
            "_model_module": "@jupyter-widgets/base",
            "top": null,
            "grid_column": null,
            "overflow_y": null,
            "overflow_x": null,
            "grid_auto_flow": null,
            "grid_area": null,
            "grid_template_columns": null,
            "flex": null,
            "_model_name": "LayoutModel",
            "justify_items": null,
            "grid_row": null,
            "max_height": null,
            "align_content": null,
            "visibility": null,
            "align_self": null,
            "height": null,
            "min_height": null,
            "padding": null,
            "grid_auto_rows": null,
            "grid_gap": null,
            "max_width": null,
            "order": null,
            "_view_module_version": "1.2.0",
            "grid_template_areas": null,
            "object_position": null,
            "object_fit": null,
            "grid_auto_columns": null,
            "margin": null,
            "display": null,
            "left": null
          }
        },
        "f343e3ece7094bf89113bd6a66415cab": {
          "model_module": "@jupyter-widgets/controls",
          "model_name": "HBoxModel",
          "model_module_version": "1.5.0",
          "state": {
            "_view_name": "HBoxView",
            "_dom_classes": [],
            "_model_name": "HBoxModel",
            "_view_module": "@jupyter-widgets/controls",
            "_model_module_version": "1.5.0",
            "_view_count": null,
            "_view_module_version": "1.5.0",
            "box_style": "",
            "layout": "IPY_MODEL_a313e10695da4290a27b5b119340b1e2",
            "_model_module": "@jupyter-widgets/controls",
            "children": [
              "IPY_MODEL_48cb3c53148f43fa9b6f87e2d78b1116",
              "IPY_MODEL_ea6279968c9240ac81a0d66b9919b3ac",
              "IPY_MODEL_acf4ef95420b4aac89d41775765a9741"
            ]
          }
        },
        "a313e10695da4290a27b5b119340b1e2": {
          "model_module": "@jupyter-widgets/base",
          "model_name": "LayoutModel",
          "model_module_version": "1.2.0",
          "state": {
            "_view_name": "LayoutView",
            "grid_template_rows": null,
            "right": null,
            "justify_content": null,
            "_view_module": "@jupyter-widgets/base",
            "overflow": null,
            "_model_module_version": "1.2.0",
            "_view_count": null,
            "flex_flow": null,
            "width": null,
            "min_width": null,
            "border": null,
            "align_items": null,
            "bottom": null,
            "_model_module": "@jupyter-widgets/base",
            "top": null,
            "grid_column": null,
            "overflow_y": null,
            "overflow_x": null,
            "grid_auto_flow": null,
            "grid_area": null,
            "grid_template_columns": null,
            "flex": null,
            "_model_name": "LayoutModel",
            "justify_items": null,
            "grid_row": null,
            "max_height": null,
            "align_content": null,
            "visibility": null,
            "align_self": null,
            "height": null,
            "min_height": null,
            "padding": null,
            "grid_auto_rows": null,
            "grid_gap": null,
            "max_width": null,
            "order": null,
            "_view_module_version": "1.2.0",
            "grid_template_areas": null,
            "object_position": null,
            "object_fit": null,
            "grid_auto_columns": null,
            "margin": null,
            "display": null,
            "left": null
          }
        },
        "48cb3c53148f43fa9b6f87e2d78b1116": {
          "model_module": "@jupyter-widgets/controls",
          "model_name": "HTMLModel",
          "model_module_version": "1.5.0",
          "state": {
            "_view_name": "HTMLView",
            "style": "IPY_MODEL_cf0fb7f8986b4f6da4f232283235c37f",
            "_dom_classes": [],
            "description": "",
            "_model_name": "HTMLModel",
            "placeholder": "​",
            "_view_module": "@jupyter-widgets/controls",
            "_model_module_version": "1.5.0",
            "value": "Downloading: 100%",
            "_view_count": null,
            "_view_module_version": "1.5.0",
            "description_tooltip": null,
            "_model_module": "@jupyter-widgets/controls",
            "layout": "IPY_MODEL_07e65f20132b4aa18376d7c2ab39010e"
          }
        },
        "ea6279968c9240ac81a0d66b9919b3ac": {
          "model_module": "@jupyter-widgets/controls",
          "model_name": "FloatProgressModel",
          "model_module_version": "1.5.0",
          "state": {
            "_view_name": "ProgressView",
            "style": "IPY_MODEL_4f94a71cd3874635aa54c26a3067d360",
            "_dom_classes": [],
            "description": "",
            "_model_name": "FloatProgressModel",
            "bar_style": "success",
            "max": 28,
            "_view_module": "@jupyter-widgets/controls",
            "_model_module_version": "1.5.0",
            "value": 28,
            "_view_count": null,
            "_view_module_version": "1.5.0",
            "orientation": "horizontal",
            "min": 0,
            "description_tooltip": null,
            "_model_module": "@jupyter-widgets/controls",
            "layout": "IPY_MODEL_689da93d77b74e219e68ae0e75c77e2b"
          }
        },
        "acf4ef95420b4aac89d41775765a9741": {
          "model_module": "@jupyter-widgets/controls",
          "model_name": "HTMLModel",
          "model_module_version": "1.5.0",
          "state": {
            "_view_name": "HTMLView",
            "style": "IPY_MODEL_b4e977cd71894f55acc1358abfd68312",
            "_dom_classes": [],
            "description": "",
            "_model_name": "HTMLModel",
            "placeholder": "​",
            "_view_module": "@jupyter-widgets/controls",
            "_model_module_version": "1.5.0",
            "value": " 28.0/28.0 [00:00&lt;00:00, 682B/s]",
            "_view_count": null,
            "_view_module_version": "1.5.0",
            "description_tooltip": null,
            "_model_module": "@jupyter-widgets/controls",
            "layout": "IPY_MODEL_1c0fa7ba776c46c7be40b77f998747dd"
          }
        },
        "cf0fb7f8986b4f6da4f232283235c37f": {
          "model_module": "@jupyter-widgets/controls",
          "model_name": "DescriptionStyleModel",
          "model_module_version": "1.5.0",
          "state": {
            "_view_name": "StyleView",
            "_model_name": "DescriptionStyleModel",
            "description_width": "",
            "_view_module": "@jupyter-widgets/base",
            "_model_module_version": "1.5.0",
            "_view_count": null,
            "_view_module_version": "1.2.0",
            "_model_module": "@jupyter-widgets/controls"
          }
        },
        "07e65f20132b4aa18376d7c2ab39010e": {
          "model_module": "@jupyter-widgets/base",
          "model_name": "LayoutModel",
          "model_module_version": "1.2.0",
          "state": {
            "_view_name": "LayoutView",
            "grid_template_rows": null,
            "right": null,
            "justify_content": null,
            "_view_module": "@jupyter-widgets/base",
            "overflow": null,
            "_model_module_version": "1.2.0",
            "_view_count": null,
            "flex_flow": null,
            "width": null,
            "min_width": null,
            "border": null,
            "align_items": null,
            "bottom": null,
            "_model_module": "@jupyter-widgets/base",
            "top": null,
            "grid_column": null,
            "overflow_y": null,
            "overflow_x": null,
            "grid_auto_flow": null,
            "grid_area": null,
            "grid_template_columns": null,
            "flex": null,
            "_model_name": "LayoutModel",
            "justify_items": null,
            "grid_row": null,
            "max_height": null,
            "align_content": null,
            "visibility": null,
            "align_self": null,
            "height": null,
            "min_height": null,
            "padding": null,
            "grid_auto_rows": null,
            "grid_gap": null,
            "max_width": null,
            "order": null,
            "_view_module_version": "1.2.0",
            "grid_template_areas": null,
            "object_position": null,
            "object_fit": null,
            "grid_auto_columns": null,
            "margin": null,
            "display": null,
            "left": null
          }
        },
        "4f94a71cd3874635aa54c26a3067d360": {
          "model_module": "@jupyter-widgets/controls",
          "model_name": "ProgressStyleModel",
          "model_module_version": "1.5.0",
          "state": {
            "_view_name": "StyleView",
            "_model_name": "ProgressStyleModel",
            "description_width": "",
            "_view_module": "@jupyter-widgets/base",
            "_model_module_version": "1.5.0",
            "_view_count": null,
            "_view_module_version": "1.2.0",
            "bar_color": null,
            "_model_module": "@jupyter-widgets/controls"
          }
        },
        "689da93d77b74e219e68ae0e75c77e2b": {
          "model_module": "@jupyter-widgets/base",
          "model_name": "LayoutModel",
          "model_module_version": "1.2.0",
          "state": {
            "_view_name": "LayoutView",
            "grid_template_rows": null,
            "right": null,
            "justify_content": null,
            "_view_module": "@jupyter-widgets/base",
            "overflow": null,
            "_model_module_version": "1.2.0",
            "_view_count": null,
            "flex_flow": null,
            "width": null,
            "min_width": null,
            "border": null,
            "align_items": null,
            "bottom": null,
            "_model_module": "@jupyter-widgets/base",
            "top": null,
            "grid_column": null,
            "overflow_y": null,
            "overflow_x": null,
            "grid_auto_flow": null,
            "grid_area": null,
            "grid_template_columns": null,
            "flex": null,
            "_model_name": "LayoutModel",
            "justify_items": null,
            "grid_row": null,
            "max_height": null,
            "align_content": null,
            "visibility": null,
            "align_self": null,
            "height": null,
            "min_height": null,
            "padding": null,
            "grid_auto_rows": null,
            "grid_gap": null,
            "max_width": null,
            "order": null,
            "_view_module_version": "1.2.0",
            "grid_template_areas": null,
            "object_position": null,
            "object_fit": null,
            "grid_auto_columns": null,
            "margin": null,
            "display": null,
            "left": null
          }
        },
        "b4e977cd71894f55acc1358abfd68312": {
          "model_module": "@jupyter-widgets/controls",
          "model_name": "DescriptionStyleModel",
          "model_module_version": "1.5.0",
          "state": {
            "_view_name": "StyleView",
            "_model_name": "DescriptionStyleModel",
            "description_width": "",
            "_view_module": "@jupyter-widgets/base",
            "_model_module_version": "1.5.0",
            "_view_count": null,
            "_view_module_version": "1.2.0",
            "_model_module": "@jupyter-widgets/controls"
          }
        },
        "1c0fa7ba776c46c7be40b77f998747dd": {
          "model_module": "@jupyter-widgets/base",
          "model_name": "LayoutModel",
          "model_module_version": "1.2.0",
          "state": {
            "_view_name": "LayoutView",
            "grid_template_rows": null,
            "right": null,
            "justify_content": null,
            "_view_module": "@jupyter-widgets/base",
            "overflow": null,
            "_model_module_version": "1.2.0",
            "_view_count": null,
            "flex_flow": null,
            "width": null,
            "min_width": null,
            "border": null,
            "align_items": null,
            "bottom": null,
            "_model_module": "@jupyter-widgets/base",
            "top": null,
            "grid_column": null,
            "overflow_y": null,
            "overflow_x": null,
            "grid_auto_flow": null,
            "grid_area": null,
            "grid_template_columns": null,
            "flex": null,
            "_model_name": "LayoutModel",
            "justify_items": null,
            "grid_row": null,
            "max_height": null,
            "align_content": null,
            "visibility": null,
            "align_self": null,
            "height": null,
            "min_height": null,
            "padding": null,
            "grid_auto_rows": null,
            "grid_gap": null,
            "max_width": null,
            "order": null,
            "_view_module_version": "1.2.0",
            "grid_template_areas": null,
            "object_position": null,
            "object_fit": null,
            "grid_auto_columns": null,
            "margin": null,
            "display": null,
            "left": null
          }
        },
        "60bb4443a5f14652b411002748f1aca9": {
          "model_module": "@jupyter-widgets/controls",
          "model_name": "HBoxModel",
          "model_module_version": "1.5.0",
          "state": {
            "_view_name": "HBoxView",
            "_dom_classes": [],
            "_model_name": "HBoxModel",
            "_view_module": "@jupyter-widgets/controls",
            "_model_module_version": "1.5.0",
            "_view_count": null,
            "_view_module_version": "1.5.0",
            "box_style": "",
            "layout": "IPY_MODEL_d9a8122728de4258b2236503f4791186",
            "_model_module": "@jupyter-widgets/controls",
            "children": [
              "IPY_MODEL_23590ee070c5458b95880ca28d687313",
              "IPY_MODEL_fbf54c55224c48f88257cfef718e218b",
              "IPY_MODEL_a5d44b1a1df149529ebccede915fcbda"
            ]
          }
        },
        "d9a8122728de4258b2236503f4791186": {
          "model_module": "@jupyter-widgets/base",
          "model_name": "LayoutModel",
          "model_module_version": "1.2.0",
          "state": {
            "_view_name": "LayoutView",
            "grid_template_rows": null,
            "right": null,
            "justify_content": null,
            "_view_module": "@jupyter-widgets/base",
            "overflow": null,
            "_model_module_version": "1.2.0",
            "_view_count": null,
            "flex_flow": null,
            "width": null,
            "min_width": null,
            "border": null,
            "align_items": null,
            "bottom": null,
            "_model_module": "@jupyter-widgets/base",
            "top": null,
            "grid_column": null,
            "overflow_y": null,
            "overflow_x": null,
            "grid_auto_flow": null,
            "grid_area": null,
            "grid_template_columns": null,
            "flex": null,
            "_model_name": "LayoutModel",
            "justify_items": null,
            "grid_row": null,
            "max_height": null,
            "align_content": null,
            "visibility": null,
            "align_self": null,
            "height": null,
            "min_height": null,
            "padding": null,
            "grid_auto_rows": null,
            "grid_gap": null,
            "max_width": null,
            "order": null,
            "_view_module_version": "1.2.0",
            "grid_template_areas": null,
            "object_position": null,
            "object_fit": null,
            "grid_auto_columns": null,
            "margin": null,
            "display": null,
            "left": null
          }
        },
        "23590ee070c5458b95880ca28d687313": {
          "model_module": "@jupyter-widgets/controls",
          "model_name": "HTMLModel",
          "model_module_version": "1.5.0",
          "state": {
            "_view_name": "HTMLView",
            "style": "IPY_MODEL_4ee8c922966e4c248d3372bad7391982",
            "_dom_classes": [],
            "description": "",
            "_model_name": "HTMLModel",
            "placeholder": "​",
            "_view_module": "@jupyter-widgets/controls",
            "_model_module_version": "1.5.0",
            "value": "Downloading: 100%",
            "_view_count": null,
            "_view_module_version": "1.5.0",
            "description_tooltip": null,
            "_model_module": "@jupyter-widgets/controls",
            "layout": "IPY_MODEL_76e60c1336f04e138a586330645639fe"
          }
        },
        "fbf54c55224c48f88257cfef718e218b": {
          "model_module": "@jupyter-widgets/controls",
          "model_name": "FloatProgressModel",
          "model_module_version": "1.5.0",
          "state": {
            "_view_name": "ProgressView",
            "style": "IPY_MODEL_084adca8ca3440088a58fbceadf8e500",
            "_dom_classes": [],
            "description": "",
            "_model_name": "FloatProgressModel",
            "bar_style": "success",
            "max": 466062,
            "_view_module": "@jupyter-widgets/controls",
            "_model_module_version": "1.5.0",
            "value": 466062,
            "_view_count": null,
            "_view_module_version": "1.5.0",
            "orientation": "horizontal",
            "min": 0,
            "description_tooltip": null,
            "_model_module": "@jupyter-widgets/controls",
            "layout": "IPY_MODEL_7024497307984895b28499dd808009b0"
          }
        },
        "a5d44b1a1df149529ebccede915fcbda": {
          "model_module": "@jupyter-widgets/controls",
          "model_name": "HTMLModel",
          "model_module_version": "1.5.0",
          "state": {
            "_view_name": "HTMLView",
            "style": "IPY_MODEL_ff4b314be54144b0956e5fb719536c5d",
            "_dom_classes": [],
            "description": "",
            "_model_name": "HTMLModel",
            "placeholder": "​",
            "_view_module": "@jupyter-widgets/controls",
            "_model_module_version": "1.5.0",
            "value": " 455k/455k [00:00&lt;00:00, 822kB/s]",
            "_view_count": null,
            "_view_module_version": "1.5.0",
            "description_tooltip": null,
            "_model_module": "@jupyter-widgets/controls",
            "layout": "IPY_MODEL_32789bd15bca45deb4f142fdbceeb746"
          }
        },
        "4ee8c922966e4c248d3372bad7391982": {
          "model_module": "@jupyter-widgets/controls",
          "model_name": "DescriptionStyleModel",
          "model_module_version": "1.5.0",
          "state": {
            "_view_name": "StyleView",
            "_model_name": "DescriptionStyleModel",
            "description_width": "",
            "_view_module": "@jupyter-widgets/base",
            "_model_module_version": "1.5.0",
            "_view_count": null,
            "_view_module_version": "1.2.0",
            "_model_module": "@jupyter-widgets/controls"
          }
        },
        "76e60c1336f04e138a586330645639fe": {
          "model_module": "@jupyter-widgets/base",
          "model_name": "LayoutModel",
          "model_module_version": "1.2.0",
          "state": {
            "_view_name": "LayoutView",
            "grid_template_rows": null,
            "right": null,
            "justify_content": null,
            "_view_module": "@jupyter-widgets/base",
            "overflow": null,
            "_model_module_version": "1.2.0",
            "_view_count": null,
            "flex_flow": null,
            "width": null,
            "min_width": null,
            "border": null,
            "align_items": null,
            "bottom": null,
            "_model_module": "@jupyter-widgets/base",
            "top": null,
            "grid_column": null,
            "overflow_y": null,
            "overflow_x": null,
            "grid_auto_flow": null,
            "grid_area": null,
            "grid_template_columns": null,
            "flex": null,
            "_model_name": "LayoutModel",
            "justify_items": null,
            "grid_row": null,
            "max_height": null,
            "align_content": null,
            "visibility": null,
            "align_self": null,
            "height": null,
            "min_height": null,
            "padding": null,
            "grid_auto_rows": null,
            "grid_gap": null,
            "max_width": null,
            "order": null,
            "_view_module_version": "1.2.0",
            "grid_template_areas": null,
            "object_position": null,
            "object_fit": null,
            "grid_auto_columns": null,
            "margin": null,
            "display": null,
            "left": null
          }
        },
        "084adca8ca3440088a58fbceadf8e500": {
          "model_module": "@jupyter-widgets/controls",
          "model_name": "ProgressStyleModel",
          "model_module_version": "1.5.0",
          "state": {
            "_view_name": "StyleView",
            "_model_name": "ProgressStyleModel",
            "description_width": "",
            "_view_module": "@jupyter-widgets/base",
            "_model_module_version": "1.5.0",
            "_view_count": null,
            "_view_module_version": "1.2.0",
            "bar_color": null,
            "_model_module": "@jupyter-widgets/controls"
          }
        },
        "7024497307984895b28499dd808009b0": {
          "model_module": "@jupyter-widgets/base",
          "model_name": "LayoutModel",
          "model_module_version": "1.2.0",
          "state": {
            "_view_name": "LayoutView",
            "grid_template_rows": null,
            "right": null,
            "justify_content": null,
            "_view_module": "@jupyter-widgets/base",
            "overflow": null,
            "_model_module_version": "1.2.0",
            "_view_count": null,
            "flex_flow": null,
            "width": null,
            "min_width": null,
            "border": null,
            "align_items": null,
            "bottom": null,
            "_model_module": "@jupyter-widgets/base",
            "top": null,
            "grid_column": null,
            "overflow_y": null,
            "overflow_x": null,
            "grid_auto_flow": null,
            "grid_area": null,
            "grid_template_columns": null,
            "flex": null,
            "_model_name": "LayoutModel",
            "justify_items": null,
            "grid_row": null,
            "max_height": null,
            "align_content": null,
            "visibility": null,
            "align_self": null,
            "height": null,
            "min_height": null,
            "padding": null,
            "grid_auto_rows": null,
            "grid_gap": null,
            "max_width": null,
            "order": null,
            "_view_module_version": "1.2.0",
            "grid_template_areas": null,
            "object_position": null,
            "object_fit": null,
            "grid_auto_columns": null,
            "margin": null,
            "display": null,
            "left": null
          }
        },
        "ff4b314be54144b0956e5fb719536c5d": {
          "model_module": "@jupyter-widgets/controls",
          "model_name": "DescriptionStyleModel",
          "model_module_version": "1.5.0",
          "state": {
            "_view_name": "StyleView",
            "_model_name": "DescriptionStyleModel",
            "description_width": "",
            "_view_module": "@jupyter-widgets/base",
            "_model_module_version": "1.5.0",
            "_view_count": null,
            "_view_module_version": "1.2.0",
            "_model_module": "@jupyter-widgets/controls"
          }
        },
        "32789bd15bca45deb4f142fdbceeb746": {
          "model_module": "@jupyter-widgets/base",
          "model_name": "LayoutModel",
          "model_module_version": "1.2.0",
          "state": {
            "_view_name": "LayoutView",
            "grid_template_rows": null,
            "right": null,
            "justify_content": null,
            "_view_module": "@jupyter-widgets/base",
            "overflow": null,
            "_model_module_version": "1.2.0",
            "_view_count": null,
            "flex_flow": null,
            "width": null,
            "min_width": null,
            "border": null,
            "align_items": null,
            "bottom": null,
            "_model_module": "@jupyter-widgets/base",
            "top": null,
            "grid_column": null,
            "overflow_y": null,
            "overflow_x": null,
            "grid_auto_flow": null,
            "grid_area": null,
            "grid_template_columns": null,
            "flex": null,
            "_model_name": "LayoutModel",
            "justify_items": null,
            "grid_row": null,
            "max_height": null,
            "align_content": null,
            "visibility": null,
            "align_self": null,
            "height": null,
            "min_height": null,
            "padding": null,
            "grid_auto_rows": null,
            "grid_gap": null,
            "max_width": null,
            "order": null,
            "_view_module_version": "1.2.0",
            "grid_template_areas": null,
            "object_position": null,
            "object_fit": null,
            "grid_auto_columns": null,
            "margin": null,
            "display": null,
            "left": null
          }
        },
        "f82958f4ab1c43b9b5658ea262a7dec6": {
          "model_module": "@jupyter-widgets/controls",
          "model_name": "HBoxModel",
          "model_module_version": "1.5.0",
          "state": {
            "_view_name": "HBoxView",
            "_dom_classes": [],
            "_model_name": "HBoxModel",
            "_view_module": "@jupyter-widgets/controls",
            "_model_module_version": "1.5.0",
            "_view_count": null,
            "_view_module_version": "1.5.0",
            "box_style": "",
            "layout": "IPY_MODEL_ed3defba92254cca982097de0312a343",
            "_model_module": "@jupyter-widgets/controls",
            "children": [
              "IPY_MODEL_d31e7db13f6240c18631c06c51226571",
              "IPY_MODEL_87792fad38b8436589dcd48b71ee25a0",
              "IPY_MODEL_8ccfa0ebc82949cd93ba62ca5549b482"
            ]
          }
        },
        "ed3defba92254cca982097de0312a343": {
          "model_module": "@jupyter-widgets/base",
          "model_name": "LayoutModel",
          "model_module_version": "1.2.0",
          "state": {
            "_view_name": "LayoutView",
            "grid_template_rows": null,
            "right": null,
            "justify_content": null,
            "_view_module": "@jupyter-widgets/base",
            "overflow": null,
            "_model_module_version": "1.2.0",
            "_view_count": null,
            "flex_flow": null,
            "width": null,
            "min_width": null,
            "border": null,
            "align_items": null,
            "bottom": null,
            "_model_module": "@jupyter-widgets/base",
            "top": null,
            "grid_column": null,
            "overflow_y": null,
            "overflow_x": null,
            "grid_auto_flow": null,
            "grid_area": null,
            "grid_template_columns": null,
            "flex": null,
            "_model_name": "LayoutModel",
            "justify_items": null,
            "grid_row": null,
            "max_height": null,
            "align_content": null,
            "visibility": null,
            "align_self": null,
            "height": null,
            "min_height": null,
            "padding": null,
            "grid_auto_rows": null,
            "grid_gap": null,
            "max_width": null,
            "order": null,
            "_view_module_version": "1.2.0",
            "grid_template_areas": null,
            "object_position": null,
            "object_fit": null,
            "grid_auto_columns": null,
            "margin": null,
            "display": null,
            "left": null
          }
        },
        "d31e7db13f6240c18631c06c51226571": {
          "model_module": "@jupyter-widgets/controls",
          "model_name": "HTMLModel",
          "model_module_version": "1.5.0",
          "state": {
            "_view_name": "HTMLView",
            "style": "IPY_MODEL_f2f861ade5b74065b655324e625fd073",
            "_dom_classes": [],
            "description": "",
            "_model_name": "HTMLModel",
            "placeholder": "​",
            "_view_module": "@jupyter-widgets/controls",
            "_model_module_version": "1.5.0",
            "value": "Downloading: 100%",
            "_view_count": null,
            "_view_module_version": "1.5.0",
            "description_tooltip": null,
            "_model_module": "@jupyter-widgets/controls",
            "layout": "IPY_MODEL_79a4be10b7044d369d5db55b821db376"
          }
        },
        "87792fad38b8436589dcd48b71ee25a0": {
          "model_module": "@jupyter-widgets/controls",
          "model_name": "FloatProgressModel",
          "model_module_version": "1.5.0",
          "state": {
            "_view_name": "ProgressView",
            "style": "IPY_MODEL_3d1895c2935b445dad421bb53850b0b7",
            "_dom_classes": [],
            "description": "",
            "_model_name": "FloatProgressModel",
            "bar_style": "success",
            "max": 571,
            "_view_module": "@jupyter-widgets/controls",
            "_model_module_version": "1.5.0",
            "value": 571,
            "_view_count": null,
            "_view_module_version": "1.5.0",
            "orientation": "horizontal",
            "min": 0,
            "description_tooltip": null,
            "_model_module": "@jupyter-widgets/controls",
            "layout": "IPY_MODEL_cabc4d75948b4143b4eb2f936d8b59be"
          }
        },
        "8ccfa0ebc82949cd93ba62ca5549b482": {
          "model_module": "@jupyter-widgets/controls",
          "model_name": "HTMLModel",
          "model_module_version": "1.5.0",
          "state": {
            "_view_name": "HTMLView",
            "style": "IPY_MODEL_c885cba0e2f0477d849b8edb8543ef05",
            "_dom_classes": [],
            "description": "",
            "_model_name": "HTMLModel",
            "placeholder": "​",
            "_view_module": "@jupyter-widgets/controls",
            "_model_module_version": "1.5.0",
            "value": " 571/571 [00:00&lt;00:00, 14.4kB/s]",
            "_view_count": null,
            "_view_module_version": "1.5.0",
            "description_tooltip": null,
            "_model_module": "@jupyter-widgets/controls",
            "layout": "IPY_MODEL_c7de6448f08c4e798d67ccbe5094e389"
          }
        },
        "f2f861ade5b74065b655324e625fd073": {
          "model_module": "@jupyter-widgets/controls",
          "model_name": "DescriptionStyleModel",
          "model_module_version": "1.5.0",
          "state": {
            "_view_name": "StyleView",
            "_model_name": "DescriptionStyleModel",
            "description_width": "",
            "_view_module": "@jupyter-widgets/base",
            "_model_module_version": "1.5.0",
            "_view_count": null,
            "_view_module_version": "1.2.0",
            "_model_module": "@jupyter-widgets/controls"
          }
        },
        "79a4be10b7044d369d5db55b821db376": {
          "model_module": "@jupyter-widgets/base",
          "model_name": "LayoutModel",
          "model_module_version": "1.2.0",
          "state": {
            "_view_name": "LayoutView",
            "grid_template_rows": null,
            "right": null,
            "justify_content": null,
            "_view_module": "@jupyter-widgets/base",
            "overflow": null,
            "_model_module_version": "1.2.0",
            "_view_count": null,
            "flex_flow": null,
            "width": null,
            "min_width": null,
            "border": null,
            "align_items": null,
            "bottom": null,
            "_model_module": "@jupyter-widgets/base",
            "top": null,
            "grid_column": null,
            "overflow_y": null,
            "overflow_x": null,
            "grid_auto_flow": null,
            "grid_area": null,
            "grid_template_columns": null,
            "flex": null,
            "_model_name": "LayoutModel",
            "justify_items": null,
            "grid_row": null,
            "max_height": null,
            "align_content": null,
            "visibility": null,
            "align_self": null,
            "height": null,
            "min_height": null,
            "padding": null,
            "grid_auto_rows": null,
            "grid_gap": null,
            "max_width": null,
            "order": null,
            "_view_module_version": "1.2.0",
            "grid_template_areas": null,
            "object_position": null,
            "object_fit": null,
            "grid_auto_columns": null,
            "margin": null,
            "display": null,
            "left": null
          }
        },
        "3d1895c2935b445dad421bb53850b0b7": {
          "model_module": "@jupyter-widgets/controls",
          "model_name": "ProgressStyleModel",
          "model_module_version": "1.5.0",
          "state": {
            "_view_name": "StyleView",
            "_model_name": "ProgressStyleModel",
            "description_width": "",
            "_view_module": "@jupyter-widgets/base",
            "_model_module_version": "1.5.0",
            "_view_count": null,
            "_view_module_version": "1.2.0",
            "bar_color": null,
            "_model_module": "@jupyter-widgets/controls"
          }
        },
        "cabc4d75948b4143b4eb2f936d8b59be": {
          "model_module": "@jupyter-widgets/base",
          "model_name": "LayoutModel",
          "model_module_version": "1.2.0",
          "state": {
            "_view_name": "LayoutView",
            "grid_template_rows": null,
            "right": null,
            "justify_content": null,
            "_view_module": "@jupyter-widgets/base",
            "overflow": null,
            "_model_module_version": "1.2.0",
            "_view_count": null,
            "flex_flow": null,
            "width": null,
            "min_width": null,
            "border": null,
            "align_items": null,
            "bottom": null,
            "_model_module": "@jupyter-widgets/base",
            "top": null,
            "grid_column": null,
            "overflow_y": null,
            "overflow_x": null,
            "grid_auto_flow": null,
            "grid_area": null,
            "grid_template_columns": null,
            "flex": null,
            "_model_name": "LayoutModel",
            "justify_items": null,
            "grid_row": null,
            "max_height": null,
            "align_content": null,
            "visibility": null,
            "align_self": null,
            "height": null,
            "min_height": null,
            "padding": null,
            "grid_auto_rows": null,
            "grid_gap": null,
            "max_width": null,
            "order": null,
            "_view_module_version": "1.2.0",
            "grid_template_areas": null,
            "object_position": null,
            "object_fit": null,
            "grid_auto_columns": null,
            "margin": null,
            "display": null,
            "left": null
          }
        },
        "c885cba0e2f0477d849b8edb8543ef05": {
          "model_module": "@jupyter-widgets/controls",
          "model_name": "DescriptionStyleModel",
          "model_module_version": "1.5.0",
          "state": {
            "_view_name": "StyleView",
            "_model_name": "DescriptionStyleModel",
            "description_width": "",
            "_view_module": "@jupyter-widgets/base",
            "_model_module_version": "1.5.0",
            "_view_count": null,
            "_view_module_version": "1.2.0",
            "_model_module": "@jupyter-widgets/controls"
          }
        },
        "c7de6448f08c4e798d67ccbe5094e389": {
          "model_module": "@jupyter-widgets/base",
          "model_name": "LayoutModel",
          "model_module_version": "1.2.0",
          "state": {
            "_view_name": "LayoutView",
            "grid_template_rows": null,
            "right": null,
            "justify_content": null,
            "_view_module": "@jupyter-widgets/base",
            "overflow": null,
            "_model_module_version": "1.2.0",
            "_view_count": null,
            "flex_flow": null,
            "width": null,
            "min_width": null,
            "border": null,
            "align_items": null,
            "bottom": null,
            "_model_module": "@jupyter-widgets/base",
            "top": null,
            "grid_column": null,
            "overflow_y": null,
            "overflow_x": null,
            "grid_auto_flow": null,
            "grid_area": null,
            "grid_template_columns": null,
            "flex": null,
            "_model_name": "LayoutModel",
            "justify_items": null,
            "grid_row": null,
            "max_height": null,
            "align_content": null,
            "visibility": null,
            "align_self": null,
            "height": null,
            "min_height": null,
            "padding": null,
            "grid_auto_rows": null,
            "grid_gap": null,
            "max_width": null,
            "order": null,
            "_view_module_version": "1.2.0",
            "grid_template_areas": null,
            "object_position": null,
            "object_fit": null,
            "grid_auto_columns": null,
            "margin": null,
            "display": null,
            "left": null
          }
        },
        "ebaa49ff022844b698f7247eb751cb23": {
          "model_module": "@jupyter-widgets/controls",
          "model_name": "HBoxModel",
          "model_module_version": "1.5.0",
          "state": {
            "_view_name": "HBoxView",
            "_dom_classes": [],
            "_model_name": "HBoxModel",
            "_view_module": "@jupyter-widgets/controls",
            "_model_module_version": "1.5.0",
            "_view_count": null,
            "_view_module_version": "1.5.0",
            "box_style": "",
            "layout": "IPY_MODEL_a84a46cfdbbc46d893aaa130ddef055f",
            "_model_module": "@jupyter-widgets/controls",
            "children": [
              "IPY_MODEL_47ffe577b78345688ad9c5088b92d126",
              "IPY_MODEL_0a54e24f5bfb42758a263d2525ab222d",
              "IPY_MODEL_fdc35234b2114ae9a394afe20fba2c57"
            ]
          }
        },
        "a84a46cfdbbc46d893aaa130ddef055f": {
          "model_module": "@jupyter-widgets/base",
          "model_name": "LayoutModel",
          "model_module_version": "1.2.0",
          "state": {
            "_view_name": "LayoutView",
            "grid_template_rows": null,
            "right": null,
            "justify_content": null,
            "_view_module": "@jupyter-widgets/base",
            "overflow": null,
            "_model_module_version": "1.2.0",
            "_view_count": null,
            "flex_flow": null,
            "width": null,
            "min_width": null,
            "border": null,
            "align_items": null,
            "bottom": null,
            "_model_module": "@jupyter-widgets/base",
            "top": null,
            "grid_column": null,
            "overflow_y": null,
            "overflow_x": null,
            "grid_auto_flow": null,
            "grid_area": null,
            "grid_template_columns": null,
            "flex": null,
            "_model_name": "LayoutModel",
            "justify_items": null,
            "grid_row": null,
            "max_height": null,
            "align_content": null,
            "visibility": null,
            "align_self": null,
            "height": null,
            "min_height": null,
            "padding": null,
            "grid_auto_rows": null,
            "grid_gap": null,
            "max_width": null,
            "order": null,
            "_view_module_version": "1.2.0",
            "grid_template_areas": null,
            "object_position": null,
            "object_fit": null,
            "grid_auto_columns": null,
            "margin": null,
            "display": null,
            "left": null
          }
        },
        "47ffe577b78345688ad9c5088b92d126": {
          "model_module": "@jupyter-widgets/controls",
          "model_name": "HTMLModel",
          "model_module_version": "1.5.0",
          "state": {
            "_view_name": "HTMLView",
            "style": "IPY_MODEL_5b0009425cf64356893eded4c2b6c5e3",
            "_dom_classes": [],
            "description": "",
            "_model_name": "HTMLModel",
            "placeholder": "​",
            "_view_module": "@jupyter-widgets/controls",
            "_model_module_version": "1.5.0",
            "value": "Downloading: 100%",
            "_view_count": null,
            "_view_module_version": "1.5.0",
            "description_tooltip": null,
            "_model_module": "@jupyter-widgets/controls",
            "layout": "IPY_MODEL_7bacd3aadeb34e7cadaa9fa02fad52bb"
          }
        },
        "0a54e24f5bfb42758a263d2525ab222d": {
          "model_module": "@jupyter-widgets/controls",
          "model_name": "FloatProgressModel",
          "model_module_version": "1.5.0",
          "state": {
            "_view_name": "ProgressView",
            "style": "IPY_MODEL_b0e95b19c7574e9c9a7cf2c4f799367f",
            "_dom_classes": [],
            "description": "",
            "_model_name": "FloatProgressModel",
            "bar_style": "success",
            "max": 1472569832,
            "_view_module": "@jupyter-widgets/controls",
            "_model_module_version": "1.5.0",
            "value": 1472569832,
            "_view_count": null,
            "_view_module_version": "1.5.0",
            "orientation": "horizontal",
            "min": 0,
            "description_tooltip": null,
            "_model_module": "@jupyter-widgets/controls",
            "layout": "IPY_MODEL_87a4b6758b294c8b921e73304f4fa382"
          }
        },
        "fdc35234b2114ae9a394afe20fba2c57": {
          "model_module": "@jupyter-widgets/controls",
          "model_name": "HTMLModel",
          "model_module_version": "1.5.0",
          "state": {
            "_view_name": "HTMLView",
            "style": "IPY_MODEL_9e80da85ccaa4848b0080e0069900ea5",
            "_dom_classes": [],
            "description": "",
            "_model_name": "HTMLModel",
            "placeholder": "​",
            "_view_module": "@jupyter-widgets/controls",
            "_model_module_version": "1.5.0",
            "value": " 1.37G/1.37G [00:43&lt;00:00, 40.7MB/s]",
            "_view_count": null,
            "_view_module_version": "1.5.0",
            "description_tooltip": null,
            "_model_module": "@jupyter-widgets/controls",
            "layout": "IPY_MODEL_c0f8f7f02b7b43ed8551e723eaa9ed66"
          }
        },
        "5b0009425cf64356893eded4c2b6c5e3": {
          "model_module": "@jupyter-widgets/controls",
          "model_name": "DescriptionStyleModel",
          "model_module_version": "1.5.0",
          "state": {
            "_view_name": "StyleView",
            "_model_name": "DescriptionStyleModel",
            "description_width": "",
            "_view_module": "@jupyter-widgets/base",
            "_model_module_version": "1.5.0",
            "_view_count": null,
            "_view_module_version": "1.2.0",
            "_model_module": "@jupyter-widgets/controls"
          }
        },
        "7bacd3aadeb34e7cadaa9fa02fad52bb": {
          "model_module": "@jupyter-widgets/base",
          "model_name": "LayoutModel",
          "model_module_version": "1.2.0",
          "state": {
            "_view_name": "LayoutView",
            "grid_template_rows": null,
            "right": null,
            "justify_content": null,
            "_view_module": "@jupyter-widgets/base",
            "overflow": null,
            "_model_module_version": "1.2.0",
            "_view_count": null,
            "flex_flow": null,
            "width": null,
            "min_width": null,
            "border": null,
            "align_items": null,
            "bottom": null,
            "_model_module": "@jupyter-widgets/base",
            "top": null,
            "grid_column": null,
            "overflow_y": null,
            "overflow_x": null,
            "grid_auto_flow": null,
            "grid_area": null,
            "grid_template_columns": null,
            "flex": null,
            "_model_name": "LayoutModel",
            "justify_items": null,
            "grid_row": null,
            "max_height": null,
            "align_content": null,
            "visibility": null,
            "align_self": null,
            "height": null,
            "min_height": null,
            "padding": null,
            "grid_auto_rows": null,
            "grid_gap": null,
            "max_width": null,
            "order": null,
            "_view_module_version": "1.2.0",
            "grid_template_areas": null,
            "object_position": null,
            "object_fit": null,
            "grid_auto_columns": null,
            "margin": null,
            "display": null,
            "left": null
          }
        },
        "b0e95b19c7574e9c9a7cf2c4f799367f": {
          "model_module": "@jupyter-widgets/controls",
          "model_name": "ProgressStyleModel",
          "model_module_version": "1.5.0",
          "state": {
            "_view_name": "StyleView",
            "_model_name": "ProgressStyleModel",
            "description_width": "",
            "_view_module": "@jupyter-widgets/base",
            "_model_module_version": "1.5.0",
            "_view_count": null,
            "_view_module_version": "1.2.0",
            "bar_color": null,
            "_model_module": "@jupyter-widgets/controls"
          }
        },
        "87a4b6758b294c8b921e73304f4fa382": {
          "model_module": "@jupyter-widgets/base",
          "model_name": "LayoutModel",
          "model_module_version": "1.2.0",
          "state": {
            "_view_name": "LayoutView",
            "grid_template_rows": null,
            "right": null,
            "justify_content": null,
            "_view_module": "@jupyter-widgets/base",
            "overflow": null,
            "_model_module_version": "1.2.0",
            "_view_count": null,
            "flex_flow": null,
            "width": null,
            "min_width": null,
            "border": null,
            "align_items": null,
            "bottom": null,
            "_model_module": "@jupyter-widgets/base",
            "top": null,
            "grid_column": null,
            "overflow_y": null,
            "overflow_x": null,
            "grid_auto_flow": null,
            "grid_area": null,
            "grid_template_columns": null,
            "flex": null,
            "_model_name": "LayoutModel",
            "justify_items": null,
            "grid_row": null,
            "max_height": null,
            "align_content": null,
            "visibility": null,
            "align_self": null,
            "height": null,
            "min_height": null,
            "padding": null,
            "grid_auto_rows": null,
            "grid_gap": null,
            "max_width": null,
            "order": null,
            "_view_module_version": "1.2.0",
            "grid_template_areas": null,
            "object_position": null,
            "object_fit": null,
            "grid_auto_columns": null,
            "margin": null,
            "display": null,
            "left": null
          }
        },
        "9e80da85ccaa4848b0080e0069900ea5": {
          "model_module": "@jupyter-widgets/controls",
          "model_name": "DescriptionStyleModel",
          "model_module_version": "1.5.0",
          "state": {
            "_view_name": "StyleView",
            "_model_name": "DescriptionStyleModel",
            "description_width": "",
            "_view_module": "@jupyter-widgets/base",
            "_model_module_version": "1.5.0",
            "_view_count": null,
            "_view_module_version": "1.2.0",
            "_model_module": "@jupyter-widgets/controls"
          }
        },
        "c0f8f7f02b7b43ed8551e723eaa9ed66": {
          "model_module": "@jupyter-widgets/base",
          "model_name": "LayoutModel",
          "model_module_version": "1.2.0",
          "state": {
            "_view_name": "LayoutView",
            "grid_template_rows": null,
            "right": null,
            "justify_content": null,
            "_view_module": "@jupyter-widgets/base",
            "overflow": null,
            "_model_module_version": "1.2.0",
            "_view_count": null,
            "flex_flow": null,
            "width": null,
            "min_width": null,
            "border": null,
            "align_items": null,
            "bottom": null,
            "_model_module": "@jupyter-widgets/base",
            "top": null,
            "grid_column": null,
            "overflow_y": null,
            "overflow_x": null,
            "grid_auto_flow": null,
            "grid_area": null,
            "grid_template_columns": null,
            "flex": null,
            "_model_name": "LayoutModel",
            "justify_items": null,
            "grid_row": null,
            "max_height": null,
            "align_content": null,
            "visibility": null,
            "align_self": null,
            "height": null,
            "min_height": null,
            "padding": null,
            "grid_auto_rows": null,
            "grid_gap": null,
            "max_width": null,
            "order": null,
            "_view_module_version": "1.2.0",
            "grid_template_areas": null,
            "object_position": null,
            "object_fit": null,
            "grid_auto_columns": null,
            "margin": null,
            "display": null,
            "left": null
          }
        },
        "72a0c78bacf34a3aa6ce104c5d35ee98": {
          "model_module": "@jupyter-widgets/controls",
          "model_name": "HBoxModel",
          "model_module_version": "1.5.0",
          "state": {
            "_view_name": "HBoxView",
            "_dom_classes": [],
            "_model_name": "HBoxModel",
            "_view_module": "@jupyter-widgets/controls",
            "_model_module_version": "1.5.0",
            "_view_count": null,
            "_view_module_version": "1.5.0",
            "box_style": "",
            "layout": "IPY_MODEL_94ae67a5965d4d1cb9c43dc4c9db17eb",
            "_model_module": "@jupyter-widgets/controls",
            "children": [
              "IPY_MODEL_df3bd4ec09224847a7702cf26a842ca0",
              "IPY_MODEL_3d55653d39cd41ffa1fb8379f073417b",
              "IPY_MODEL_ca4b2d4371c943a0be6909ea92479dd0"
            ]
          }
        },
        "94ae67a5965d4d1cb9c43dc4c9db17eb": {
          "model_module": "@jupyter-widgets/base",
          "model_name": "LayoutModel",
          "model_module_version": "1.2.0",
          "state": {
            "_view_name": "LayoutView",
            "grid_template_rows": null,
            "right": null,
            "justify_content": null,
            "_view_module": "@jupyter-widgets/base",
            "overflow": null,
            "_model_module_version": "1.2.0",
            "_view_count": null,
            "flex_flow": null,
            "width": null,
            "min_width": null,
            "border": null,
            "align_items": null,
            "bottom": null,
            "_model_module": "@jupyter-widgets/base",
            "top": null,
            "grid_column": null,
            "overflow_y": null,
            "overflow_x": null,
            "grid_auto_flow": null,
            "grid_area": null,
            "grid_template_columns": null,
            "flex": null,
            "_model_name": "LayoutModel",
            "justify_items": null,
            "grid_row": null,
            "max_height": null,
            "align_content": null,
            "visibility": null,
            "align_self": null,
            "height": null,
            "min_height": null,
            "padding": null,
            "grid_auto_rows": null,
            "grid_gap": null,
            "max_width": null,
            "order": null,
            "_view_module_version": "1.2.0",
            "grid_template_areas": null,
            "object_position": null,
            "object_fit": null,
            "grid_auto_columns": null,
            "margin": null,
            "display": null,
            "left": null
          }
        },
        "df3bd4ec09224847a7702cf26a842ca0": {
          "model_module": "@jupyter-widgets/controls",
          "model_name": "HTMLModel",
          "model_module_version": "1.5.0",
          "state": {
            "_view_name": "HTMLView",
            "style": "IPY_MODEL_79e44554d756474fb2e7ef994545ffe0",
            "_dom_classes": [],
            "description": "",
            "_model_name": "HTMLModel",
            "placeholder": "​",
            "_view_module": "@jupyter-widgets/controls",
            "_model_module_version": "1.5.0",
            "value": "Downloading: 100%",
            "_view_count": null,
            "_view_module_version": "1.5.0",
            "description_tooltip": null,
            "_model_module": "@jupyter-widgets/controls",
            "layout": "IPY_MODEL_5579f6829cfa48ef94ed769ca1569eae"
          }
        },
        "3d55653d39cd41ffa1fb8379f073417b": {
          "model_module": "@jupyter-widgets/controls",
          "model_name": "FloatProgressModel",
          "model_module_version": "1.5.0",
          "state": {
            "_view_name": "ProgressView",
            "style": "IPY_MODEL_c3e13718e8b94e52b8751e7ab4fddb47",
            "_dom_classes": [],
            "description": "",
            "_model_name": "FloatProgressModel",
            "bar_style": "success",
            "max": 898823,
            "_view_module": "@jupyter-widgets/controls",
            "_model_module_version": "1.5.0",
            "value": 898823,
            "_view_count": null,
            "_view_module_version": "1.5.0",
            "orientation": "horizontal",
            "min": 0,
            "description_tooltip": null,
            "_model_module": "@jupyter-widgets/controls",
            "layout": "IPY_MODEL_d35408e91fc544c5a01de1a80c1aeedd"
          }
        },
        "ca4b2d4371c943a0be6909ea92479dd0": {
          "model_module": "@jupyter-widgets/controls",
          "model_name": "HTMLModel",
          "model_module_version": "1.5.0",
          "state": {
            "_view_name": "HTMLView",
            "style": "IPY_MODEL_51f5c89094c346229139cd9e6f0dc5b9",
            "_dom_classes": [],
            "description": "",
            "_model_name": "HTMLModel",
            "placeholder": "​",
            "_view_module": "@jupyter-widgets/controls",
            "_model_module_version": "1.5.0",
            "value": " 878k/878k [00:00&lt;00:00, 2.47MB/s]",
            "_view_count": null,
            "_view_module_version": "1.5.0",
            "description_tooltip": null,
            "_model_module": "@jupyter-widgets/controls",
            "layout": "IPY_MODEL_f76940785c1a4a1fa8f6256f118a9028"
          }
        },
        "79e44554d756474fb2e7ef994545ffe0": {
          "model_module": "@jupyter-widgets/controls",
          "model_name": "DescriptionStyleModel",
          "model_module_version": "1.5.0",
          "state": {
            "_view_name": "StyleView",
            "_model_name": "DescriptionStyleModel",
            "description_width": "",
            "_view_module": "@jupyter-widgets/base",
            "_model_module_version": "1.5.0",
            "_view_count": null,
            "_view_module_version": "1.2.0",
            "_model_module": "@jupyter-widgets/controls"
          }
        },
        "5579f6829cfa48ef94ed769ca1569eae": {
          "model_module": "@jupyter-widgets/base",
          "model_name": "LayoutModel",
          "model_module_version": "1.2.0",
          "state": {
            "_view_name": "LayoutView",
            "grid_template_rows": null,
            "right": null,
            "justify_content": null,
            "_view_module": "@jupyter-widgets/base",
            "overflow": null,
            "_model_module_version": "1.2.0",
            "_view_count": null,
            "flex_flow": null,
            "width": null,
            "min_width": null,
            "border": null,
            "align_items": null,
            "bottom": null,
            "_model_module": "@jupyter-widgets/base",
            "top": null,
            "grid_column": null,
            "overflow_y": null,
            "overflow_x": null,
            "grid_auto_flow": null,
            "grid_area": null,
            "grid_template_columns": null,
            "flex": null,
            "_model_name": "LayoutModel",
            "justify_items": null,
            "grid_row": null,
            "max_height": null,
            "align_content": null,
            "visibility": null,
            "align_self": null,
            "height": null,
            "min_height": null,
            "padding": null,
            "grid_auto_rows": null,
            "grid_gap": null,
            "max_width": null,
            "order": null,
            "_view_module_version": "1.2.0",
            "grid_template_areas": null,
            "object_position": null,
            "object_fit": null,
            "grid_auto_columns": null,
            "margin": null,
            "display": null,
            "left": null
          }
        },
        "c3e13718e8b94e52b8751e7ab4fddb47": {
          "model_module": "@jupyter-widgets/controls",
          "model_name": "ProgressStyleModel",
          "model_module_version": "1.5.0",
          "state": {
            "_view_name": "StyleView",
            "_model_name": "ProgressStyleModel",
            "description_width": "",
            "_view_module": "@jupyter-widgets/base",
            "_model_module_version": "1.5.0",
            "_view_count": null,
            "_view_module_version": "1.2.0",
            "bar_color": null,
            "_model_module": "@jupyter-widgets/controls"
          }
        },
        "d35408e91fc544c5a01de1a80c1aeedd": {
          "model_module": "@jupyter-widgets/base",
          "model_name": "LayoutModel",
          "model_module_version": "1.2.0",
          "state": {
            "_view_name": "LayoutView",
            "grid_template_rows": null,
            "right": null,
            "justify_content": null,
            "_view_module": "@jupyter-widgets/base",
            "overflow": null,
            "_model_module_version": "1.2.0",
            "_view_count": null,
            "flex_flow": null,
            "width": null,
            "min_width": null,
            "border": null,
            "align_items": null,
            "bottom": null,
            "_model_module": "@jupyter-widgets/base",
            "top": null,
            "grid_column": null,
            "overflow_y": null,
            "overflow_x": null,
            "grid_auto_flow": null,
            "grid_area": null,
            "grid_template_columns": null,
            "flex": null,
            "_model_name": "LayoutModel",
            "justify_items": null,
            "grid_row": null,
            "max_height": null,
            "align_content": null,
            "visibility": null,
            "align_self": null,
            "height": null,
            "min_height": null,
            "padding": null,
            "grid_auto_rows": null,
            "grid_gap": null,
            "max_width": null,
            "order": null,
            "_view_module_version": "1.2.0",
            "grid_template_areas": null,
            "object_position": null,
            "object_fit": null,
            "grid_auto_columns": null,
            "margin": null,
            "display": null,
            "left": null
          }
        },
        "51f5c89094c346229139cd9e6f0dc5b9": {
          "model_module": "@jupyter-widgets/controls",
          "model_name": "DescriptionStyleModel",
          "model_module_version": "1.5.0",
          "state": {
            "_view_name": "StyleView",
            "_model_name": "DescriptionStyleModel",
            "description_width": "",
            "_view_module": "@jupyter-widgets/base",
            "_model_module_version": "1.5.0",
            "_view_count": null,
            "_view_module_version": "1.2.0",
            "_model_module": "@jupyter-widgets/controls"
          }
        },
        "f76940785c1a4a1fa8f6256f118a9028": {
          "model_module": "@jupyter-widgets/base",
          "model_name": "LayoutModel",
          "model_module_version": "1.2.0",
          "state": {
            "_view_name": "LayoutView",
            "grid_template_rows": null,
            "right": null,
            "justify_content": null,
            "_view_module": "@jupyter-widgets/base",
            "overflow": null,
            "_model_module_version": "1.2.0",
            "_view_count": null,
            "flex_flow": null,
            "width": null,
            "min_width": null,
            "border": null,
            "align_items": null,
            "bottom": null,
            "_model_module": "@jupyter-widgets/base",
            "top": null,
            "grid_column": null,
            "overflow_y": null,
            "overflow_x": null,
            "grid_auto_flow": null,
            "grid_area": null,
            "grid_template_columns": null,
            "flex": null,
            "_model_name": "LayoutModel",
            "justify_items": null,
            "grid_row": null,
            "max_height": null,
            "align_content": null,
            "visibility": null,
            "align_self": null,
            "height": null,
            "min_height": null,
            "padding": null,
            "grid_auto_rows": null,
            "grid_gap": null,
            "max_width": null,
            "order": null,
            "_view_module_version": "1.2.0",
            "grid_template_areas": null,
            "object_position": null,
            "object_fit": null,
            "grid_auto_columns": null,
            "margin": null,
            "display": null,
            "left": null
          }
        },
        "a04f0a462dce4adb9e69cf2c4dd1d0ef": {
          "model_module": "@jupyter-widgets/controls",
          "model_name": "HBoxModel",
          "model_module_version": "1.5.0",
          "state": {
            "_view_name": "HBoxView",
            "_dom_classes": [],
            "_model_name": "HBoxModel",
            "_view_module": "@jupyter-widgets/controls",
            "_model_module_version": "1.5.0",
            "_view_count": null,
            "_view_module_version": "1.5.0",
            "box_style": "",
            "layout": "IPY_MODEL_650e4503f5bc468098d6a647aa9a1fb7",
            "_model_module": "@jupyter-widgets/controls",
            "children": [
              "IPY_MODEL_e3a51b040333489ab55d93a5e31b57da",
              "IPY_MODEL_1421be27e2d94326aabefbf2aaa9790a",
              "IPY_MODEL_f7ef884a8e51455780fae30d28c7c3d2"
            ]
          }
        },
        "650e4503f5bc468098d6a647aa9a1fb7": {
          "model_module": "@jupyter-widgets/base",
          "model_name": "LayoutModel",
          "model_module_version": "1.2.0",
          "state": {
            "_view_name": "LayoutView",
            "grid_template_rows": null,
            "right": null,
            "justify_content": null,
            "_view_module": "@jupyter-widgets/base",
            "overflow": null,
            "_model_module_version": "1.2.0",
            "_view_count": null,
            "flex_flow": null,
            "width": null,
            "min_width": null,
            "border": null,
            "align_items": null,
            "bottom": null,
            "_model_module": "@jupyter-widgets/base",
            "top": null,
            "grid_column": null,
            "overflow_y": null,
            "overflow_x": null,
            "grid_auto_flow": null,
            "grid_area": null,
            "grid_template_columns": null,
            "flex": null,
            "_model_name": "LayoutModel",
            "justify_items": null,
            "grid_row": null,
            "max_height": null,
            "align_content": null,
            "visibility": null,
            "align_self": null,
            "height": null,
            "min_height": null,
            "padding": null,
            "grid_auto_rows": null,
            "grid_gap": null,
            "max_width": null,
            "order": null,
            "_view_module_version": "1.2.0",
            "grid_template_areas": null,
            "object_position": null,
            "object_fit": null,
            "grid_auto_columns": null,
            "margin": null,
            "display": null,
            "left": null
          }
        },
        "e3a51b040333489ab55d93a5e31b57da": {
          "model_module": "@jupyter-widgets/controls",
          "model_name": "HTMLModel",
          "model_module_version": "1.5.0",
          "state": {
            "_view_name": "HTMLView",
            "style": "IPY_MODEL_44daa5ed3e0342ec9f8e4f3ec05a15ed",
            "_dom_classes": [],
            "description": "",
            "_model_name": "HTMLModel",
            "placeholder": "​",
            "_view_module": "@jupyter-widgets/controls",
            "_model_module_version": "1.5.0",
            "value": "Downloading: 100%",
            "_view_count": null,
            "_view_module_version": "1.5.0",
            "description_tooltip": null,
            "_model_module": "@jupyter-widgets/controls",
            "layout": "IPY_MODEL_c15d4fef682c4c24b7834860d2b21f59"
          }
        },
        "1421be27e2d94326aabefbf2aaa9790a": {
          "model_module": "@jupyter-widgets/controls",
          "model_name": "FloatProgressModel",
          "model_module_version": "1.5.0",
          "state": {
            "_view_name": "ProgressView",
            "style": "IPY_MODEL_ef6a79d1c447450e90030ab57cef8520",
            "_dom_classes": [],
            "description": "",
            "_model_name": "FloatProgressModel",
            "bar_style": "success",
            "max": 456318,
            "_view_module": "@jupyter-widgets/controls",
            "_model_module_version": "1.5.0",
            "value": 456318,
            "_view_count": null,
            "_view_module_version": "1.5.0",
            "orientation": "horizontal",
            "min": 0,
            "description_tooltip": null,
            "_model_module": "@jupyter-widgets/controls",
            "layout": "IPY_MODEL_814ed51f5d184bb59ad77bdf5286d370"
          }
        },
        "f7ef884a8e51455780fae30d28c7c3d2": {
          "model_module": "@jupyter-widgets/controls",
          "model_name": "HTMLModel",
          "model_module_version": "1.5.0",
          "state": {
            "_view_name": "HTMLView",
            "style": "IPY_MODEL_9b858faa36254288bb227b2c89b157a5",
            "_dom_classes": [],
            "description": "",
            "_model_name": "HTMLModel",
            "placeholder": "​",
            "_view_module": "@jupyter-widgets/controls",
            "_model_module_version": "1.5.0",
            "value": " 446k/446k [00:00&lt;00:00, 822kB/s]",
            "_view_count": null,
            "_view_module_version": "1.5.0",
            "description_tooltip": null,
            "_model_module": "@jupyter-widgets/controls",
            "layout": "IPY_MODEL_fbce02f9f71c4b47a602f59912633be6"
          }
        },
        "44daa5ed3e0342ec9f8e4f3ec05a15ed": {
          "model_module": "@jupyter-widgets/controls",
          "model_name": "DescriptionStyleModel",
          "model_module_version": "1.5.0",
          "state": {
            "_view_name": "StyleView",
            "_model_name": "DescriptionStyleModel",
            "description_width": "",
            "_view_module": "@jupyter-widgets/base",
            "_model_module_version": "1.5.0",
            "_view_count": null,
            "_view_module_version": "1.2.0",
            "_model_module": "@jupyter-widgets/controls"
          }
        },
        "c15d4fef682c4c24b7834860d2b21f59": {
          "model_module": "@jupyter-widgets/base",
          "model_name": "LayoutModel",
          "model_module_version": "1.2.0",
          "state": {
            "_view_name": "LayoutView",
            "grid_template_rows": null,
            "right": null,
            "justify_content": null,
            "_view_module": "@jupyter-widgets/base",
            "overflow": null,
            "_model_module_version": "1.2.0",
            "_view_count": null,
            "flex_flow": null,
            "width": null,
            "min_width": null,
            "border": null,
            "align_items": null,
            "bottom": null,
            "_model_module": "@jupyter-widgets/base",
            "top": null,
            "grid_column": null,
            "overflow_y": null,
            "overflow_x": null,
            "grid_auto_flow": null,
            "grid_area": null,
            "grid_template_columns": null,
            "flex": null,
            "_model_name": "LayoutModel",
            "justify_items": null,
            "grid_row": null,
            "max_height": null,
            "align_content": null,
            "visibility": null,
            "align_self": null,
            "height": null,
            "min_height": null,
            "padding": null,
            "grid_auto_rows": null,
            "grid_gap": null,
            "max_width": null,
            "order": null,
            "_view_module_version": "1.2.0",
            "grid_template_areas": null,
            "object_position": null,
            "object_fit": null,
            "grid_auto_columns": null,
            "margin": null,
            "display": null,
            "left": null
          }
        },
        "ef6a79d1c447450e90030ab57cef8520": {
          "model_module": "@jupyter-widgets/controls",
          "model_name": "ProgressStyleModel",
          "model_module_version": "1.5.0",
          "state": {
            "_view_name": "StyleView",
            "_model_name": "ProgressStyleModel",
            "description_width": "",
            "_view_module": "@jupyter-widgets/base",
            "_model_module_version": "1.5.0",
            "_view_count": null,
            "_view_module_version": "1.2.0",
            "bar_color": null,
            "_model_module": "@jupyter-widgets/controls"
          }
        },
        "814ed51f5d184bb59ad77bdf5286d370": {
          "model_module": "@jupyter-widgets/base",
          "model_name": "LayoutModel",
          "model_module_version": "1.2.0",
          "state": {
            "_view_name": "LayoutView",
            "grid_template_rows": null,
            "right": null,
            "justify_content": null,
            "_view_module": "@jupyter-widgets/base",
            "overflow": null,
            "_model_module_version": "1.2.0",
            "_view_count": null,
            "flex_flow": null,
            "width": null,
            "min_width": null,
            "border": null,
            "align_items": null,
            "bottom": null,
            "_model_module": "@jupyter-widgets/base",
            "top": null,
            "grid_column": null,
            "overflow_y": null,
            "overflow_x": null,
            "grid_auto_flow": null,
            "grid_area": null,
            "grid_template_columns": null,
            "flex": null,
            "_model_name": "LayoutModel",
            "justify_items": null,
            "grid_row": null,
            "max_height": null,
            "align_content": null,
            "visibility": null,
            "align_self": null,
            "height": null,
            "min_height": null,
            "padding": null,
            "grid_auto_rows": null,
            "grid_gap": null,
            "max_width": null,
            "order": null,
            "_view_module_version": "1.2.0",
            "grid_template_areas": null,
            "object_position": null,
            "object_fit": null,
            "grid_auto_columns": null,
            "margin": null,
            "display": null,
            "left": null
          }
        },
        "9b858faa36254288bb227b2c89b157a5": {
          "model_module": "@jupyter-widgets/controls",
          "model_name": "DescriptionStyleModel",
          "model_module_version": "1.5.0",
          "state": {
            "_view_name": "StyleView",
            "_model_name": "DescriptionStyleModel",
            "description_width": "",
            "_view_module": "@jupyter-widgets/base",
            "_model_module_version": "1.5.0",
            "_view_count": null,
            "_view_module_version": "1.2.0",
            "_model_module": "@jupyter-widgets/controls"
          }
        },
        "fbce02f9f71c4b47a602f59912633be6": {
          "model_module": "@jupyter-widgets/base",
          "model_name": "LayoutModel",
          "model_module_version": "1.2.0",
          "state": {
            "_view_name": "LayoutView",
            "grid_template_rows": null,
            "right": null,
            "justify_content": null,
            "_view_module": "@jupyter-widgets/base",
            "overflow": null,
            "_model_module_version": "1.2.0",
            "_view_count": null,
            "flex_flow": null,
            "width": null,
            "min_width": null,
            "border": null,
            "align_items": null,
            "bottom": null,
            "_model_module": "@jupyter-widgets/base",
            "top": null,
            "grid_column": null,
            "overflow_y": null,
            "overflow_x": null,
            "grid_auto_flow": null,
            "grid_area": null,
            "grid_template_columns": null,
            "flex": null,
            "_model_name": "LayoutModel",
            "justify_items": null,
            "grid_row": null,
            "max_height": null,
            "align_content": null,
            "visibility": null,
            "align_self": null,
            "height": null,
            "min_height": null,
            "padding": null,
            "grid_auto_rows": null,
            "grid_gap": null,
            "max_width": null,
            "order": null,
            "_view_module_version": "1.2.0",
            "grid_template_areas": null,
            "object_position": null,
            "object_fit": null,
            "grid_auto_columns": null,
            "margin": null,
            "display": null,
            "left": null
          }
        },
        "d34ee00663d64aebb502e9056134c8ab": {
          "model_module": "@jupyter-widgets/controls",
          "model_name": "HBoxModel",
          "model_module_version": "1.5.0",
          "state": {
            "_view_name": "HBoxView",
            "_dom_classes": [],
            "_model_name": "HBoxModel",
            "_view_module": "@jupyter-widgets/controls",
            "_model_module_version": "1.5.0",
            "_view_count": null,
            "_view_module_version": "1.5.0",
            "box_style": "",
            "layout": "IPY_MODEL_c0d03b4afdc0425cba035aff7de4bafb",
            "_model_module": "@jupyter-widgets/controls",
            "children": [
              "IPY_MODEL_34346314a9d5459da75dc1aa9e7b211c",
              "IPY_MODEL_f3d529fff2d74d29b90875d5a21f09d1",
              "IPY_MODEL_772be41ea3e44dd2a7eb29891cb226f8"
            ]
          }
        },
        "c0d03b4afdc0425cba035aff7de4bafb": {
          "model_module": "@jupyter-widgets/base",
          "model_name": "LayoutModel",
          "model_module_version": "1.2.0",
          "state": {
            "_view_name": "LayoutView",
            "grid_template_rows": null,
            "right": null,
            "justify_content": null,
            "_view_module": "@jupyter-widgets/base",
            "overflow": null,
            "_model_module_version": "1.2.0",
            "_view_count": null,
            "flex_flow": null,
            "width": null,
            "min_width": null,
            "border": null,
            "align_items": null,
            "bottom": null,
            "_model_module": "@jupyter-widgets/base",
            "top": null,
            "grid_column": null,
            "overflow_y": null,
            "overflow_x": null,
            "grid_auto_flow": null,
            "grid_area": null,
            "grid_template_columns": null,
            "flex": null,
            "_model_name": "LayoutModel",
            "justify_items": null,
            "grid_row": null,
            "max_height": null,
            "align_content": null,
            "visibility": null,
            "align_self": null,
            "height": null,
            "min_height": null,
            "padding": null,
            "grid_auto_rows": null,
            "grid_gap": null,
            "max_width": null,
            "order": null,
            "_view_module_version": "1.2.0",
            "grid_template_areas": null,
            "object_position": null,
            "object_fit": null,
            "grid_auto_columns": null,
            "margin": null,
            "display": null,
            "left": null
          }
        },
        "34346314a9d5459da75dc1aa9e7b211c": {
          "model_module": "@jupyter-widgets/controls",
          "model_name": "HTMLModel",
          "model_module_version": "1.5.0",
          "state": {
            "_view_name": "HTMLView",
            "style": "IPY_MODEL_d066ba60bdc148d9a4c276036b86a70c",
            "_dom_classes": [],
            "description": "",
            "_model_name": "HTMLModel",
            "placeholder": "​",
            "_view_module": "@jupyter-widgets/controls",
            "_model_module_version": "1.5.0",
            "value": "Downloading: 100%",
            "_view_count": null,
            "_view_module_version": "1.5.0",
            "description_tooltip": null,
            "_model_module": "@jupyter-widgets/controls",
            "layout": "IPY_MODEL_44d976e59337473598101d19986a9afd"
          }
        },
        "f3d529fff2d74d29b90875d5a21f09d1": {
          "model_module": "@jupyter-widgets/controls",
          "model_name": "FloatProgressModel",
          "model_module_version": "1.5.0",
          "state": {
            "_view_name": "ProgressView",
            "style": "IPY_MODEL_3376b41621184db3b4196427cc23f6fa",
            "_dom_classes": [],
            "description": "",
            "_model_name": "FloatProgressModel",
            "bar_style": "success",
            "max": 1355863,
            "_view_module": "@jupyter-widgets/controls",
            "_model_module_version": "1.5.0",
            "value": 1355863,
            "_view_count": null,
            "_view_module_version": "1.5.0",
            "orientation": "horizontal",
            "min": 0,
            "description_tooltip": null,
            "_model_module": "@jupyter-widgets/controls",
            "layout": "IPY_MODEL_e7f113b1a6734b6dbe177e5db5222599"
          }
        },
        "772be41ea3e44dd2a7eb29891cb226f8": {
          "model_module": "@jupyter-widgets/controls",
          "model_name": "HTMLModel",
          "model_module_version": "1.5.0",
          "state": {
            "_view_name": "HTMLView",
            "style": "IPY_MODEL_94db9c1a7b9d42a3b5271a724bf34200",
            "_dom_classes": [],
            "description": "",
            "_model_name": "HTMLModel",
            "placeholder": "​",
            "_view_module": "@jupyter-widgets/controls",
            "_model_module_version": "1.5.0",
            "value": " 1.29M/1.29M [00:00&lt;00:00, 2.58MB/s]",
            "_view_count": null,
            "_view_module_version": "1.5.0",
            "description_tooltip": null,
            "_model_module": "@jupyter-widgets/controls",
            "layout": "IPY_MODEL_5d9d69203af14f0a906cc30eca2181b1"
          }
        },
        "d066ba60bdc148d9a4c276036b86a70c": {
          "model_module": "@jupyter-widgets/controls",
          "model_name": "DescriptionStyleModel",
          "model_module_version": "1.5.0",
          "state": {
            "_view_name": "StyleView",
            "_model_name": "DescriptionStyleModel",
            "description_width": "",
            "_view_module": "@jupyter-widgets/base",
            "_model_module_version": "1.5.0",
            "_view_count": null,
            "_view_module_version": "1.2.0",
            "_model_module": "@jupyter-widgets/controls"
          }
        },
        "44d976e59337473598101d19986a9afd": {
          "model_module": "@jupyter-widgets/base",
          "model_name": "LayoutModel",
          "model_module_version": "1.2.0",
          "state": {
            "_view_name": "LayoutView",
            "grid_template_rows": null,
            "right": null,
            "justify_content": null,
            "_view_module": "@jupyter-widgets/base",
            "overflow": null,
            "_model_module_version": "1.2.0",
            "_view_count": null,
            "flex_flow": null,
            "width": null,
            "min_width": null,
            "border": null,
            "align_items": null,
            "bottom": null,
            "_model_module": "@jupyter-widgets/base",
            "top": null,
            "grid_column": null,
            "overflow_y": null,
            "overflow_x": null,
            "grid_auto_flow": null,
            "grid_area": null,
            "grid_template_columns": null,
            "flex": null,
            "_model_name": "LayoutModel",
            "justify_items": null,
            "grid_row": null,
            "max_height": null,
            "align_content": null,
            "visibility": null,
            "align_self": null,
            "height": null,
            "min_height": null,
            "padding": null,
            "grid_auto_rows": null,
            "grid_gap": null,
            "max_width": null,
            "order": null,
            "_view_module_version": "1.2.0",
            "grid_template_areas": null,
            "object_position": null,
            "object_fit": null,
            "grid_auto_columns": null,
            "margin": null,
            "display": null,
            "left": null
          }
        },
        "3376b41621184db3b4196427cc23f6fa": {
          "model_module": "@jupyter-widgets/controls",
          "model_name": "ProgressStyleModel",
          "model_module_version": "1.5.0",
          "state": {
            "_view_name": "StyleView",
            "_model_name": "ProgressStyleModel",
            "description_width": "",
            "_view_module": "@jupyter-widgets/base",
            "_model_module_version": "1.5.0",
            "_view_count": null,
            "_view_module_version": "1.2.0",
            "bar_color": null,
            "_model_module": "@jupyter-widgets/controls"
          }
        },
        "e7f113b1a6734b6dbe177e5db5222599": {
          "model_module": "@jupyter-widgets/base",
          "model_name": "LayoutModel",
          "model_module_version": "1.2.0",
          "state": {
            "_view_name": "LayoutView",
            "grid_template_rows": null,
            "right": null,
            "justify_content": null,
            "_view_module": "@jupyter-widgets/base",
            "overflow": null,
            "_model_module_version": "1.2.0",
            "_view_count": null,
            "flex_flow": null,
            "width": null,
            "min_width": null,
            "border": null,
            "align_items": null,
            "bottom": null,
            "_model_module": "@jupyter-widgets/base",
            "top": null,
            "grid_column": null,
            "overflow_y": null,
            "overflow_x": null,
            "grid_auto_flow": null,
            "grid_area": null,
            "grid_template_columns": null,
            "flex": null,
            "_model_name": "LayoutModel",
            "justify_items": null,
            "grid_row": null,
            "max_height": null,
            "align_content": null,
            "visibility": null,
            "align_self": null,
            "height": null,
            "min_height": null,
            "padding": null,
            "grid_auto_rows": null,
            "grid_gap": null,
            "max_width": null,
            "order": null,
            "_view_module_version": "1.2.0",
            "grid_template_areas": null,
            "object_position": null,
            "object_fit": null,
            "grid_auto_columns": null,
            "margin": null,
            "display": null,
            "left": null
          }
        },
        "94db9c1a7b9d42a3b5271a724bf34200": {
          "model_module": "@jupyter-widgets/controls",
          "model_name": "DescriptionStyleModel",
          "model_module_version": "1.5.0",
          "state": {
            "_view_name": "StyleView",
            "_model_name": "DescriptionStyleModel",
            "description_width": "",
            "_view_module": "@jupyter-widgets/base",
            "_model_module_version": "1.5.0",
            "_view_count": null,
            "_view_module_version": "1.2.0",
            "_model_module": "@jupyter-widgets/controls"
          }
        },
        "5d9d69203af14f0a906cc30eca2181b1": {
          "model_module": "@jupyter-widgets/base",
          "model_name": "LayoutModel",
          "model_module_version": "1.2.0",
          "state": {
            "_view_name": "LayoutView",
            "grid_template_rows": null,
            "right": null,
            "justify_content": null,
            "_view_module": "@jupyter-widgets/base",
            "overflow": null,
            "_model_module_version": "1.2.0",
            "_view_count": null,
            "flex_flow": null,
            "width": null,
            "min_width": null,
            "border": null,
            "align_items": null,
            "bottom": null,
            "_model_module": "@jupyter-widgets/base",
            "top": null,
            "grid_column": null,
            "overflow_y": null,
            "overflow_x": null,
            "grid_auto_flow": null,
            "grid_area": null,
            "grid_template_columns": null,
            "flex": null,
            "_model_name": "LayoutModel",
            "justify_items": null,
            "grid_row": null,
            "max_height": null,
            "align_content": null,
            "visibility": null,
            "align_self": null,
            "height": null,
            "min_height": null,
            "padding": null,
            "grid_auto_rows": null,
            "grid_gap": null,
            "max_width": null,
            "order": null,
            "_view_module_version": "1.2.0",
            "grid_template_areas": null,
            "object_position": null,
            "object_fit": null,
            "grid_auto_columns": null,
            "margin": null,
            "display": null,
            "left": null
          }
        },
        "c4426d80f3674bf597f61135673a279c": {
          "model_module": "@jupyter-widgets/controls",
          "model_name": "HBoxModel",
          "model_module_version": "1.5.0",
          "state": {
            "_view_name": "HBoxView",
            "_dom_classes": [],
            "_model_name": "HBoxModel",
            "_view_module": "@jupyter-widgets/controls",
            "_model_module_version": "1.5.0",
            "_view_count": null,
            "_view_module_version": "1.5.0",
            "box_style": "",
            "layout": "IPY_MODEL_9a3ebdaf8ca4452a858423db9789a5ee",
            "_model_module": "@jupyter-widgets/controls",
            "children": [
              "IPY_MODEL_a8da3998a58341d6a0c68e886b984b49",
              "IPY_MODEL_522bcfef6aff4749abb6874d62c07c80",
              "IPY_MODEL_6235f900530344f6835d1975c1e506e4"
            ]
          }
        },
        "9a3ebdaf8ca4452a858423db9789a5ee": {
          "model_module": "@jupyter-widgets/base",
          "model_name": "LayoutModel",
          "model_module_version": "1.2.0",
          "state": {
            "_view_name": "LayoutView",
            "grid_template_rows": null,
            "right": null,
            "justify_content": null,
            "_view_module": "@jupyter-widgets/base",
            "overflow": null,
            "_model_module_version": "1.2.0",
            "_view_count": null,
            "flex_flow": null,
            "width": null,
            "min_width": null,
            "border": null,
            "align_items": null,
            "bottom": null,
            "_model_module": "@jupyter-widgets/base",
            "top": null,
            "grid_column": null,
            "overflow_y": null,
            "overflow_x": null,
            "grid_auto_flow": null,
            "grid_area": null,
            "grid_template_columns": null,
            "flex": null,
            "_model_name": "LayoutModel",
            "justify_items": null,
            "grid_row": null,
            "max_height": null,
            "align_content": null,
            "visibility": null,
            "align_self": null,
            "height": null,
            "min_height": null,
            "padding": null,
            "grid_auto_rows": null,
            "grid_gap": null,
            "max_width": null,
            "order": null,
            "_view_module_version": "1.2.0",
            "grid_template_areas": null,
            "object_position": null,
            "object_fit": null,
            "grid_auto_columns": null,
            "margin": null,
            "display": null,
            "left": null
          }
        },
        "a8da3998a58341d6a0c68e886b984b49": {
          "model_module": "@jupyter-widgets/controls",
          "model_name": "HTMLModel",
          "model_module_version": "1.5.0",
          "state": {
            "_view_name": "HTMLView",
            "style": "IPY_MODEL_d0a3b4c34b584dfcbb992547fbc4dbd8",
            "_dom_classes": [],
            "description": "",
            "_model_name": "HTMLModel",
            "placeholder": "​",
            "_view_module": "@jupyter-widgets/controls",
            "_model_module_version": "1.5.0",
            "value": "Downloading: 100%",
            "_view_count": null,
            "_view_module_version": "1.5.0",
            "description_tooltip": null,
            "_model_module": "@jupyter-widgets/controls",
            "layout": "IPY_MODEL_16abad7301dc4953a3a78f82b2f2a918"
          }
        },
        "522bcfef6aff4749abb6874d62c07c80": {
          "model_module": "@jupyter-widgets/controls",
          "model_name": "FloatProgressModel",
          "model_module_version": "1.5.0",
          "state": {
            "_view_name": "ProgressView",
            "style": "IPY_MODEL_9ce9aa9b7c4e41399fefd3ade48e2645",
            "_dom_classes": [],
            "description": "",
            "_model_name": "FloatProgressModel",
            "bar_style": "success",
            "max": 481,
            "_view_module": "@jupyter-widgets/controls",
            "_model_module_version": "1.5.0",
            "value": 481,
            "_view_count": null,
            "_view_module_version": "1.5.0",
            "orientation": "horizontal",
            "min": 0,
            "description_tooltip": null,
            "_model_module": "@jupyter-widgets/controls",
            "layout": "IPY_MODEL_8ac76fc59d1541b990c82f8efd6075f1"
          }
        },
        "6235f900530344f6835d1975c1e506e4": {
          "model_module": "@jupyter-widgets/controls",
          "model_name": "HTMLModel",
          "model_module_version": "1.5.0",
          "state": {
            "_view_name": "HTMLView",
            "style": "IPY_MODEL_d0e42d12b40d4cb8b6d3c945fed842d9",
            "_dom_classes": [],
            "description": "",
            "_model_name": "HTMLModel",
            "placeholder": "​",
            "_view_module": "@jupyter-widgets/controls",
            "_model_module_version": "1.5.0",
            "value": " 481/481 [00:00&lt;00:00, 9.87kB/s]",
            "_view_count": null,
            "_view_module_version": "1.5.0",
            "description_tooltip": null,
            "_model_module": "@jupyter-widgets/controls",
            "layout": "IPY_MODEL_686341f6850a4ba3af606cf96cd2ce7a"
          }
        },
        "d0a3b4c34b584dfcbb992547fbc4dbd8": {
          "model_module": "@jupyter-widgets/controls",
          "model_name": "DescriptionStyleModel",
          "model_module_version": "1.5.0",
          "state": {
            "_view_name": "StyleView",
            "_model_name": "DescriptionStyleModel",
            "description_width": "",
            "_view_module": "@jupyter-widgets/base",
            "_model_module_version": "1.5.0",
            "_view_count": null,
            "_view_module_version": "1.2.0",
            "_model_module": "@jupyter-widgets/controls"
          }
        },
        "16abad7301dc4953a3a78f82b2f2a918": {
          "model_module": "@jupyter-widgets/base",
          "model_name": "LayoutModel",
          "model_module_version": "1.2.0",
          "state": {
            "_view_name": "LayoutView",
            "grid_template_rows": null,
            "right": null,
            "justify_content": null,
            "_view_module": "@jupyter-widgets/base",
            "overflow": null,
            "_model_module_version": "1.2.0",
            "_view_count": null,
            "flex_flow": null,
            "width": null,
            "min_width": null,
            "border": null,
            "align_items": null,
            "bottom": null,
            "_model_module": "@jupyter-widgets/base",
            "top": null,
            "grid_column": null,
            "overflow_y": null,
            "overflow_x": null,
            "grid_auto_flow": null,
            "grid_area": null,
            "grid_template_columns": null,
            "flex": null,
            "_model_name": "LayoutModel",
            "justify_items": null,
            "grid_row": null,
            "max_height": null,
            "align_content": null,
            "visibility": null,
            "align_self": null,
            "height": null,
            "min_height": null,
            "padding": null,
            "grid_auto_rows": null,
            "grid_gap": null,
            "max_width": null,
            "order": null,
            "_view_module_version": "1.2.0",
            "grid_template_areas": null,
            "object_position": null,
            "object_fit": null,
            "grid_auto_columns": null,
            "margin": null,
            "display": null,
            "left": null
          }
        },
        "9ce9aa9b7c4e41399fefd3ade48e2645": {
          "model_module": "@jupyter-widgets/controls",
          "model_name": "ProgressStyleModel",
          "model_module_version": "1.5.0",
          "state": {
            "_view_name": "StyleView",
            "_model_name": "ProgressStyleModel",
            "description_width": "",
            "_view_module": "@jupyter-widgets/base",
            "_model_module_version": "1.5.0",
            "_view_count": null,
            "_view_module_version": "1.2.0",
            "bar_color": null,
            "_model_module": "@jupyter-widgets/controls"
          }
        },
        "8ac76fc59d1541b990c82f8efd6075f1": {
          "model_module": "@jupyter-widgets/base",
          "model_name": "LayoutModel",
          "model_module_version": "1.2.0",
          "state": {
            "_view_name": "LayoutView",
            "grid_template_rows": null,
            "right": null,
            "justify_content": null,
            "_view_module": "@jupyter-widgets/base",
            "overflow": null,
            "_model_module_version": "1.2.0",
            "_view_count": null,
            "flex_flow": null,
            "width": null,
            "min_width": null,
            "border": null,
            "align_items": null,
            "bottom": null,
            "_model_module": "@jupyter-widgets/base",
            "top": null,
            "grid_column": null,
            "overflow_y": null,
            "overflow_x": null,
            "grid_auto_flow": null,
            "grid_area": null,
            "grid_template_columns": null,
            "flex": null,
            "_model_name": "LayoutModel",
            "justify_items": null,
            "grid_row": null,
            "max_height": null,
            "align_content": null,
            "visibility": null,
            "align_self": null,
            "height": null,
            "min_height": null,
            "padding": null,
            "grid_auto_rows": null,
            "grid_gap": null,
            "max_width": null,
            "order": null,
            "_view_module_version": "1.2.0",
            "grid_template_areas": null,
            "object_position": null,
            "object_fit": null,
            "grid_auto_columns": null,
            "margin": null,
            "display": null,
            "left": null
          }
        },
        "d0e42d12b40d4cb8b6d3c945fed842d9": {
          "model_module": "@jupyter-widgets/controls",
          "model_name": "DescriptionStyleModel",
          "model_module_version": "1.5.0",
          "state": {
            "_view_name": "StyleView",
            "_model_name": "DescriptionStyleModel",
            "description_width": "",
            "_view_module": "@jupyter-widgets/base",
            "_model_module_version": "1.5.0",
            "_view_count": null,
            "_view_module_version": "1.2.0",
            "_model_module": "@jupyter-widgets/controls"
          }
        },
        "686341f6850a4ba3af606cf96cd2ce7a": {
          "model_module": "@jupyter-widgets/base",
          "model_name": "LayoutModel",
          "model_module_version": "1.2.0",
          "state": {
            "_view_name": "LayoutView",
            "grid_template_rows": null,
            "right": null,
            "justify_content": null,
            "_view_module": "@jupyter-widgets/base",
            "overflow": null,
            "_model_module_version": "1.2.0",
            "_view_count": null,
            "flex_flow": null,
            "width": null,
            "min_width": null,
            "border": null,
            "align_items": null,
            "bottom": null,
            "_model_module": "@jupyter-widgets/base",
            "top": null,
            "grid_column": null,
            "overflow_y": null,
            "overflow_x": null,
            "grid_auto_flow": null,
            "grid_area": null,
            "grid_template_columns": null,
            "flex": null,
            "_model_name": "LayoutModel",
            "justify_items": null,
            "grid_row": null,
            "max_height": null,
            "align_content": null,
            "visibility": null,
            "align_self": null,
            "height": null,
            "min_height": null,
            "padding": null,
            "grid_auto_rows": null,
            "grid_gap": null,
            "max_width": null,
            "order": null,
            "_view_module_version": "1.2.0",
            "grid_template_areas": null,
            "object_position": null,
            "object_fit": null,
            "grid_auto_columns": null,
            "margin": null,
            "display": null,
            "left": null
          }
        },
        "00819e3797ee404082dccd46120765f3": {
          "model_module": "@jupyter-widgets/controls",
          "model_name": "HBoxModel",
          "model_module_version": "1.5.0",
          "state": {
            "_view_name": "HBoxView",
            "_dom_classes": [],
            "_model_name": "HBoxModel",
            "_view_module": "@jupyter-widgets/controls",
            "_model_module_version": "1.5.0",
            "_view_count": null,
            "_view_module_version": "1.5.0",
            "box_style": "",
            "layout": "IPY_MODEL_a224913c678c4b20b1e3313681b21d92",
            "_model_module": "@jupyter-widgets/controls",
            "children": [
              "IPY_MODEL_7d6c90f709c44dca92f28af0dd29d79a",
              "IPY_MODEL_b5fd4fb724764ac383bd7c6333930aab",
              "IPY_MODEL_6df7d3cac66d47979fe342326551d759"
            ]
          }
        },
        "a224913c678c4b20b1e3313681b21d92": {
          "model_module": "@jupyter-widgets/base",
          "model_name": "LayoutModel",
          "model_module_version": "1.2.0",
          "state": {
            "_view_name": "LayoutView",
            "grid_template_rows": null,
            "right": null,
            "justify_content": null,
            "_view_module": "@jupyter-widgets/base",
            "overflow": null,
            "_model_module_version": "1.2.0",
            "_view_count": null,
            "flex_flow": null,
            "width": null,
            "min_width": null,
            "border": null,
            "align_items": null,
            "bottom": null,
            "_model_module": "@jupyter-widgets/base",
            "top": null,
            "grid_column": null,
            "overflow_y": null,
            "overflow_x": null,
            "grid_auto_flow": null,
            "grid_area": null,
            "grid_template_columns": null,
            "flex": null,
            "_model_name": "LayoutModel",
            "justify_items": null,
            "grid_row": null,
            "max_height": null,
            "align_content": null,
            "visibility": null,
            "align_self": null,
            "height": null,
            "min_height": null,
            "padding": null,
            "grid_auto_rows": null,
            "grid_gap": null,
            "max_width": null,
            "order": null,
            "_view_module_version": "1.2.0",
            "grid_template_areas": null,
            "object_position": null,
            "object_fit": null,
            "grid_auto_columns": null,
            "margin": null,
            "display": null,
            "left": null
          }
        },
        "7d6c90f709c44dca92f28af0dd29d79a": {
          "model_module": "@jupyter-widgets/controls",
          "model_name": "HTMLModel",
          "model_module_version": "1.5.0",
          "state": {
            "_view_name": "HTMLView",
            "style": "IPY_MODEL_1953c1cab65146268259d3605c90d7b1",
            "_dom_classes": [],
            "description": "",
            "_model_name": "HTMLModel",
            "placeholder": "​",
            "_view_module": "@jupyter-widgets/controls",
            "_model_module_version": "1.5.0",
            "value": "Downloading: 100%",
            "_view_count": null,
            "_view_module_version": "1.5.0",
            "description_tooltip": null,
            "_model_module": "@jupyter-widgets/controls",
            "layout": "IPY_MODEL_bd8b2a7b09c64852abb1aca6d214992c"
          }
        },
        "b5fd4fb724764ac383bd7c6333930aab": {
          "model_module": "@jupyter-widgets/controls",
          "model_name": "FloatProgressModel",
          "model_module_version": "1.5.0",
          "state": {
            "_view_name": "ProgressView",
            "style": "IPY_MODEL_32730224c1094a7299dcaf5454878f2a",
            "_dom_classes": [],
            "description": "",
            "_model_name": "FloatProgressModel",
            "bar_style": "success",
            "max": 657434796,
            "_view_module": "@jupyter-widgets/controls",
            "_model_module_version": "1.5.0",
            "value": 657434796,
            "_view_count": null,
            "_view_module_version": "1.5.0",
            "orientation": "horizontal",
            "min": 0,
            "description_tooltip": null,
            "_model_module": "@jupyter-widgets/controls",
            "layout": "IPY_MODEL_15446afdd7a4466aab0263f1af1c1d71"
          }
        },
        "6df7d3cac66d47979fe342326551d759": {
          "model_module": "@jupyter-widgets/controls",
          "model_name": "HTMLModel",
          "model_module_version": "1.5.0",
          "state": {
            "_view_name": "HTMLView",
            "style": "IPY_MODEL_5cbbea6b18af4673981fd94f38fb8f8c",
            "_dom_classes": [],
            "description": "",
            "_model_name": "HTMLModel",
            "placeholder": "​",
            "_view_module": "@jupyter-widgets/controls",
            "_model_module_version": "1.5.0",
            "value": " 627M/627M [00:18&lt;00:00, 32.2MB/s]",
            "_view_count": null,
            "_view_module_version": "1.5.0",
            "description_tooltip": null,
            "_model_module": "@jupyter-widgets/controls",
            "layout": "IPY_MODEL_540df20065204cef959c34bc555acc2d"
          }
        },
        "1953c1cab65146268259d3605c90d7b1": {
          "model_module": "@jupyter-widgets/controls",
          "model_name": "DescriptionStyleModel",
          "model_module_version": "1.5.0",
          "state": {
            "_view_name": "StyleView",
            "_model_name": "DescriptionStyleModel",
            "description_width": "",
            "_view_module": "@jupyter-widgets/base",
            "_model_module_version": "1.5.0",
            "_view_count": null,
            "_view_module_version": "1.2.0",
            "_model_module": "@jupyter-widgets/controls"
          }
        },
        "bd8b2a7b09c64852abb1aca6d214992c": {
          "model_module": "@jupyter-widgets/base",
          "model_name": "LayoutModel",
          "model_module_version": "1.2.0",
          "state": {
            "_view_name": "LayoutView",
            "grid_template_rows": null,
            "right": null,
            "justify_content": null,
            "_view_module": "@jupyter-widgets/base",
            "overflow": null,
            "_model_module_version": "1.2.0",
            "_view_count": null,
            "flex_flow": null,
            "width": null,
            "min_width": null,
            "border": null,
            "align_items": null,
            "bottom": null,
            "_model_module": "@jupyter-widgets/base",
            "top": null,
            "grid_column": null,
            "overflow_y": null,
            "overflow_x": null,
            "grid_auto_flow": null,
            "grid_area": null,
            "grid_template_columns": null,
            "flex": null,
            "_model_name": "LayoutModel",
            "justify_items": null,
            "grid_row": null,
            "max_height": null,
            "align_content": null,
            "visibility": null,
            "align_self": null,
            "height": null,
            "min_height": null,
            "padding": null,
            "grid_auto_rows": null,
            "grid_gap": null,
            "max_width": null,
            "order": null,
            "_view_module_version": "1.2.0",
            "grid_template_areas": null,
            "object_position": null,
            "object_fit": null,
            "grid_auto_columns": null,
            "margin": null,
            "display": null,
            "left": null
          }
        },
        "32730224c1094a7299dcaf5454878f2a": {
          "model_module": "@jupyter-widgets/controls",
          "model_name": "ProgressStyleModel",
          "model_module_version": "1.5.0",
          "state": {
            "_view_name": "StyleView",
            "_model_name": "ProgressStyleModel",
            "description_width": "",
            "_view_module": "@jupyter-widgets/base",
            "_model_module_version": "1.5.0",
            "_view_count": null,
            "_view_module_version": "1.2.0",
            "bar_color": null,
            "_model_module": "@jupyter-widgets/controls"
          }
        },
        "15446afdd7a4466aab0263f1af1c1d71": {
          "model_module": "@jupyter-widgets/base",
          "model_name": "LayoutModel",
          "model_module_version": "1.2.0",
          "state": {
            "_view_name": "LayoutView",
            "grid_template_rows": null,
            "right": null,
            "justify_content": null,
            "_view_module": "@jupyter-widgets/base",
            "overflow": null,
            "_model_module_version": "1.2.0",
            "_view_count": null,
            "flex_flow": null,
            "width": null,
            "min_width": null,
            "border": null,
            "align_items": null,
            "bottom": null,
            "_model_module": "@jupyter-widgets/base",
            "top": null,
            "grid_column": null,
            "overflow_y": null,
            "overflow_x": null,
            "grid_auto_flow": null,
            "grid_area": null,
            "grid_template_columns": null,
            "flex": null,
            "_model_name": "LayoutModel",
            "justify_items": null,
            "grid_row": null,
            "max_height": null,
            "align_content": null,
            "visibility": null,
            "align_self": null,
            "height": null,
            "min_height": null,
            "padding": null,
            "grid_auto_rows": null,
            "grid_gap": null,
            "max_width": null,
            "order": null,
            "_view_module_version": "1.2.0",
            "grid_template_areas": null,
            "object_position": null,
            "object_fit": null,
            "grid_auto_columns": null,
            "margin": null,
            "display": null,
            "left": null
          }
        },
        "5cbbea6b18af4673981fd94f38fb8f8c": {
          "model_module": "@jupyter-widgets/controls",
          "model_name": "DescriptionStyleModel",
          "model_module_version": "1.5.0",
          "state": {
            "_view_name": "StyleView",
            "_model_name": "DescriptionStyleModel",
            "description_width": "",
            "_view_module": "@jupyter-widgets/base",
            "_model_module_version": "1.5.0",
            "_view_count": null,
            "_view_module_version": "1.2.0",
            "_model_module": "@jupyter-widgets/controls"
          }
        },
        "540df20065204cef959c34bc555acc2d": {
          "model_module": "@jupyter-widgets/base",
          "model_name": "LayoutModel",
          "model_module_version": "1.2.0",
          "state": {
            "_view_name": "LayoutView",
            "grid_template_rows": null,
            "right": null,
            "justify_content": null,
            "_view_module": "@jupyter-widgets/base",
            "overflow": null,
            "_model_module_version": "1.2.0",
            "_view_count": null,
            "flex_flow": null,
            "width": null,
            "min_width": null,
            "border": null,
            "align_items": null,
            "bottom": null,
            "_model_module": "@jupyter-widgets/base",
            "top": null,
            "grid_column": null,
            "overflow_y": null,
            "overflow_x": null,
            "grid_auto_flow": null,
            "grid_area": null,
            "grid_template_columns": null,
            "flex": null,
            "_model_name": "LayoutModel",
            "justify_items": null,
            "grid_row": null,
            "max_height": null,
            "align_content": null,
            "visibility": null,
            "align_self": null,
            "height": null,
            "min_height": null,
            "padding": null,
            "grid_auto_rows": null,
            "grid_gap": null,
            "max_width": null,
            "order": null,
            "_view_module_version": "1.2.0",
            "grid_template_areas": null,
            "object_position": null,
            "object_fit": null,
            "grid_auto_columns": null,
            "margin": null,
            "display": null,
            "left": null
          }
        }
      }
    }
  },
  "cells": [
    {
      "cell_type": "code",
      "metadata": {
        "id": "cRlwj35mDfQE"
      },
      "source": [
        "import numpy as np\n",
        "import pandas as pd\n",
        "import time\n",
        "import string\n",
        "import re\n",
        "import math\n",
        "\n",
        "from collections import Counter\n",
        "\n",
        "from sklearn.model_selection import train_test_split, cross_val_score\n",
        "from sklearn.pipeline import make_pipeline\n",
        "from sklearn.feature_extraction.text import CountVectorizer, TfidfVectorizer\n",
        "from sklearn.linear_model import LinearRegression, Ridge, Lasso, HuberRegressor\n",
        "from sklearn.naive_bayes import MultinomialNB\n",
        "from sklearn.metrics import mean_squared_error as mse\n",
        "\n",
        "\n",
        "import xgboost as xgb\n",
        "\n",
        "import tensorflow as tf\n",
        "from tensorflow import keras\n",
        "from tensorflow.keras.metrics import RootMeanSquaredError\n",
        "from tensorflow.keras.preprocessing.text import Tokenizer\n",
        "from tensorflow.keras.preprocessing.sequence import pad_sequences\n",
        "from tensorflow.keras.callbacks import EarlyStopping, ModelCheckpoint, LearningRateScheduler, ReduceLROnPlateau\n",
        "#!pip install -q -U keras-tuner\n",
        "import keras_tuner as kt\n",
        "from tensorflow.keras.models import Sequential\n",
        "\n",
        "from tensorflow.keras.layers import Dense,Dropout,Activation, Flatten, Conv2D, MaxPooling2D\n",
        "\n",
        "import matplotlib.pyplot as plt\n",
        "import seaborn as sns\n",
        "from wordcloud import WordCloud\n",
        "\n",
        "from bokeh.plotting import figure\n",
        "from bokeh.models import ColumnDataSource\n",
        "from bokeh.io import curdoc, show, output_notebook\n",
        "output_notebook()\n",
        "\n",
        "import nltk\n",
        "#nltk.download('stopwords')\n",
        "#nltk.download('punkt')\n",
        "from nltk import word_tokenize\n",
        "from nltk.stem.snowball import SnowballStemmer\n",
        "from nltk.corpus import stopwords\n",
        "from nltk import pos_tag\n",
        "stop_words = stopwords.words('english')\n",
        "\n",
        "import spacy\n",
        "#nlp = spacy.load('en_core_web_lg')\n",
        "from spacy import displacy\n",
        "#pip install transformers\n",
        "import transformers\n",
        "\n",
        "from transformers import BertTokenizer, TFBertModel, RobertaTokenizer, TFRobertaModel\n",
        "\n",
        "\n"
      ],
      "execution_count": 85,
      "outputs": []
    },
    {
      "cell_type": "code",
      "metadata": {
        "id": "lsB1mdYm2jYZ"
      },
      "source": [
        "df_train = pd.read_csv('train.csv')\n",
        "df_test = pd.read_csv('test.csv')"
      ],
      "execution_count": 2,
      "outputs": []
    },
    {
      "cell_type": "code",
      "metadata": {
        "id": "j8WKXVsJAGG3"
      },
      "source": [
        ""
      ],
      "execution_count": null,
      "outputs": []
    },
    {
      "cell_type": "code",
      "metadata": {
        "id": "xwy5O9JE8XpI"
      },
      "source": [
        "df_train['excerpt_len'] = df_train['excerpt'].apply(\n",
        "    lambda x : len(x)\n",
        ")\n",
        "df_train['excerpt_word_count'] = df_train['excerpt'].apply(\n",
        "    lambda x : len(x.split(' '))\n",
        ")"
      ],
      "execution_count": 5,
      "outputs": []
    },
    {
      "cell_type": "code",
      "metadata": {
        "id": "2677DicD8kWf"
      },
      "source": [
        "def removeStopwords(text):\n",
        "    doc = nlp(text)\n",
        "    clean_text = ' '\n",
        "    for txt in doc:\n",
        "        if (txt.is_stop == False):\n",
        "            clean_text = clean_text + \" \" + str(txt)        \n",
        "    \n",
        "    return clean_text"
      ],
      "execution_count": 7,
      "outputs": []
    },
    {
      "cell_type": "code",
      "metadata": {
        "id": "MKAtB3918mBI"
      },
      "source": [
        "def removePunctuations(text):\n",
        "    return text.translate(str.maketrans('', '', string.punctuation))"
      ],
      "execution_count": 8,
      "outputs": []
    },
    {
      "cell_type": "code",
      "metadata": {
        "id": "RPv0XhOr9BhX"
      },
      "source": [
        "def removeLinks(text):\n",
        "    clean_text = re.sub('https?://\\S+|www\\.\\S+', '', text)\n",
        "    #https? will match both http and https\n",
        "    #A|B, where A and B can be arbitrary REs, creates a regular expression that will match either A or B.\n",
        "    #\\S Matches any character which is not a whitespace character.\n",
        "    #+ Causes the resulting RE to match 1 or more repetitions of the preceding RE. ab+ will match ‘a’ followed by any non-zero number of ‘b’s; it will not match just ‘a’.\n",
        "    return clean_text"
      ],
      "execution_count": 9,
      "outputs": []
    },
    {
      "cell_type": "code",
      "metadata": {
        "id": "V2iTunVh9Gn5"
      },
      "source": [
        "def removeNumbers(text):\n",
        "    clean_text = re.sub(r'\\d+', '', text)\n",
        "    return clean_text"
      ],
      "execution_count": 10,
      "outputs": []
    },
    {
      "cell_type": "code",
      "metadata": {
        "id": "drk7o4bm9Lss"
      },
      "source": [
        "def clean(text):\n",
        "    text = text.lower() #Lets make it lowercase\n",
        "    text = removeStopwords(text)\n",
        "    text = removePunctuations(text)\n",
        "    text = removeNumbers(text)\n",
        "    text = removeLinks(text)\n",
        "    return text"
      ],
      "execution_count": 11,
      "outputs": []
    },
    {
      "cell_type": "code",
      "metadata": {
        "id": "xUp-N9x19O2f"
      },
      "source": [
        "df_train['excerpt_clean'] = df_train['excerpt'].apply(clean)\n",
        "df_test['excerpt_clean'] = df_test['excerpt'].apply(clean)"
      ],
      "execution_count": 12,
      "outputs": []
    },
    {
      "cell_type": "code",
      "metadata": {
        "id": "09W6bVIC9SXP"
      },
      "source": [
        "stemmer = SnowballStemmer(language='english')\n",
        "\n",
        "tokens = df_train['excerpt'][1].split()\n",
        "clean_text = ' '"
      ],
      "execution_count": 13,
      "outputs": []
    },
    {
      "cell_type": "code",
      "metadata": {
        "id": "lLRSIMkE9kCw"
      },
      "source": [
        "def stemWord(text):\n",
        "    stemmer = SnowballStemmer(language='english')\n",
        "    tokens = text.split()\n",
        "    clean_text = ' '\n",
        "    for token in tokens:\n",
        "        clean_text = clean_text + \" \" + stemmer.stem(token)      \n",
        "    \n",
        "    return clean_text"
      ],
      "execution_count": 14,
      "outputs": []
    },
    {
      "cell_type": "code",
      "metadata": {
        "id": "wQPea5dn9plS"
      },
      "source": [
        "df_train['excerpt_clean'] = df_train['excerpt_clean'].apply(stemWord)\n",
        "df_test['excerpt_clean'] = df_test['excerpt_clean'].apply(stemWord)"
      ],
      "execution_count": 15,
      "outputs": []
    },
    {
      "cell_type": "code",
      "metadata": {
        "id": "LZIQZH5q9r_X"
      },
      "source": [
        "def lemmatizeWord(text):\n",
        "    tokens=nlp(text)\n",
        "    clean_text = ' '\n",
        "    for token in tokens:\n",
        "        clean_text = clean_text + \" \" + token.lemma_      \n",
        "    \n",
        "    return clean_text"
      ],
      "execution_count": 16,
      "outputs": []
    },
    {
      "cell_type": "code",
      "metadata": {
        "id": "HXi-2cem9wfk"
      },
      "source": [
        "rmse = lambda y_true, y_pred: np.sqrt(mse(y_true, y_pred))\n",
        "rmse_loss = lambda Estimator, X, y: rmse(y, Estimator.predict(X))"
      ],
      "execution_count": 17,
      "outputs": []
    },
    {
      "cell_type": "code",
      "metadata": {
        "colab": {
          "base_uri": "https://localhost:8080/"
        },
        "id": "6wKJDWT89y52",
        "outputId": "1dcb5612-d8d4-4a7b-f4b1-b89ebc321b77"
      },
      "source": [
        "# Split into train and test sets\n",
        "\n",
        "\n",
        "x = df_train['excerpt_clean']\n",
        "y = df_train['target']\n",
        "\n",
        "print(len(x), len(y))\n",
        "\n",
        "x_train, x_test, y_train, y_test = train_test_split(x, y, random_state=42)"
      ],
      "execution_count": 18,
      "outputs": [
        {
          "output_type": "stream",
          "name": "stdout",
          "text": [
            "2834 2834\n"
          ]
        }
      ]
    },
    {
      "cell_type": "code",
      "metadata": {
        "colab": {
          "base_uri": "https://localhost:8080/"
        },
        "id": "uqrj5Y2794dp",
        "outputId": "ca8701da-55eb-4cf2-f2fb-3ef727450084"
      },
      "source": [
        "model = make_pipeline(\n",
        "    CountVectorizer(ngram_range=(1,1)),#unigram only\n",
        "    LinearRegression(),\n",
        ")\n",
        "\n",
        "val_score = cross_val_score(\n",
        "    model, \n",
        "    df_train['excerpt_clean'], \n",
        "    df_train['target'], \n",
        "    scoring=rmse_loss\n",
        ").mean()\n",
        "\n",
        "print(f'Train Score for CountVectorizer(1,1): {val_score}')"
      ],
      "execution_count": 19,
      "outputs": [
        {
          "output_type": "stream",
          "name": "stdout",
          "text": [
            "Train Score for CountVectorizer(1,1): 0.9259460212919036\n"
          ]
        }
      ]
    },
    {
      "cell_type": "code",
      "metadata": {
        "colab": {
          "base_uri": "https://localhost:8080/"
        },
        "id": "q2Euwirk-IfL",
        "outputId": "da50aa9d-b35f-4fc8-ab3d-8773b143a181"
      },
      "source": [
        "model = make_pipeline(\n",
        "    CountVectorizer(ngram_range=(2,2)),#bigram only\n",
        "    LinearRegression(),\n",
        ")\n",
        "\n",
        "val_score = cross_val_score(\n",
        "    model, \n",
        "    df_train['excerpt_clean'], \n",
        "    df_train['target'], \n",
        "    scoring=rmse_loss\n",
        ").mean()\n",
        "\n",
        "print(f'Train Score for CountVectorizer(2,2): {val_score}')"
      ],
      "execution_count": 20,
      "outputs": [
        {
          "output_type": "stream",
          "name": "stdout",
          "text": [
            "Train Score for CountVectorizer(2,2): 0.9870700155125688\n"
          ]
        }
      ]
    },
    {
      "cell_type": "code",
      "metadata": {
        "colab": {
          "base_uri": "https://localhost:8080/"
        },
        "id": "s34PARGM-UZh",
        "outputId": "b545f8c2-7949-4d6f-df8c-3763fe33866c"
      },
      "source": [
        "model = make_pipeline(\n",
        "    CountVectorizer(ngram_range=(1,2)),#unigram and bigrams\n",
        "    LinearRegression(),\n",
        ")\n",
        "\n",
        "val_score = cross_val_score(\n",
        "    model, \n",
        "    df_train['excerpt_clean'], \n",
        "    df_train['target'], \n",
        "    scoring=rmse_loss\n",
        ").mean()\n",
        "\n",
        "print(f'Train Score for CountVectorizer(1,2): {val_score}')"
      ],
      "execution_count": 21,
      "outputs": [
        {
          "output_type": "stream",
          "name": "stdout",
          "text": [
            "Train Score for CountVectorizer(1,2): 0.8059500096790234\n"
          ]
        }
      ]
    },
    {
      "cell_type": "code",
      "metadata": {
        "colab": {
          "base_uri": "https://localhost:8080/"
        },
        "id": "cDkU2KRX-bfR",
        "outputId": "41ae4000-87c3-42c8-b2b2-0d958db43d4b"
      },
      "source": [
        "model = make_pipeline(\n",
        "    CountVectorizer(ngram_range=(1,3)),#Unigrams + Bi-grams + Tri-grams\n",
        "    LinearRegression(),\n",
        ")\n",
        "\n",
        "val_score = cross_val_score(\n",
        "    model, \n",
        "    df_train['excerpt_clean'], \n",
        "    df_train['target'], \n",
        "    scoring=rmse_loss\n",
        ").mean()\n",
        "\n",
        "print(f'Train Score for CountVectorizer(1,3): {val_score}')"
      ],
      "execution_count": 22,
      "outputs": [
        {
          "output_type": "stream",
          "name": "stdout",
          "text": [
            "Train Score for CountVectorizer(1,3): 0.8007469454152325\n"
          ]
        }
      ]
    },
    {
      "cell_type": "code",
      "metadata": {
        "colab": {
          "base_uri": "https://localhost:8080/"
        },
        "id": "l8YLyFXF-jm3",
        "outputId": "9c402b09-564f-4ce2-b083-5c2d9cc755c8"
      },
      "source": [
        "#Ridge_Regression\n",
        "model = make_pipeline(\n",
        "    CountVectorizer(ngram_range=(1,1)),\n",
        "    Ridge(),\n",
        ")\n",
        "\n",
        "val_score = cross_val_score(\n",
        "    model, \n",
        "    df_train['excerpt_clean'], \n",
        "    df_train['target'], \n",
        "    scoring=rmse_loss\n",
        ").mean()\n",
        "\n",
        "print(f'Train Score for Ridge Regression: {val_score}')"
      ],
      "execution_count": 23,
      "outputs": [
        {
          "output_type": "stream",
          "name": "stdout",
          "text": [
            "Train Score for Ridge Regression: 0.9167814642279296\n"
          ]
        }
      ]
    },
    {
      "cell_type": "code",
      "metadata": {
        "colab": {
          "base_uri": "https://localhost:8080/"
        },
        "id": "YOpYByzP-vBM",
        "outputId": "4fc4b684-93e3-4778-bfd5-b267cab52ffa"
      },
      "source": [
        "#Extreme Gradient Boosting\n",
        "model = make_pipeline(\n",
        "    CountVectorizer(ngram_range=(1,1)),\n",
        "    xgb.XGBRegressor() ,\n",
        ")\n",
        "\n",
        "val_score = cross_val_score(\n",
        "    model, \n",
        "    df_train['excerpt_clean'], \n",
        "    df_train['target'], \n",
        "    scoring=rmse_loss\n",
        ").mean()\n",
        "\n",
        "print(f'Train Score for Extreme Gradient Boosting: {val_score}')"
      ],
      "execution_count": 24,
      "outputs": [
        {
          "output_type": "stream",
          "name": "stdout",
          "text": [
            "[13:55:16] WARNING: /workspace/src/objective/regression_obj.cu:152: reg:linear is now deprecated in favor of reg:squarederror.\n",
            "[13:55:18] WARNING: /workspace/src/objective/regression_obj.cu:152: reg:linear is now deprecated in favor of reg:squarederror.\n",
            "[13:55:21] WARNING: /workspace/src/objective/regression_obj.cu:152: reg:linear is now deprecated in favor of reg:squarederror.\n",
            "[13:55:23] WARNING: /workspace/src/objective/regression_obj.cu:152: reg:linear is now deprecated in favor of reg:squarederror.\n",
            "[13:55:26] WARNING: /workspace/src/objective/regression_obj.cu:152: reg:linear is now deprecated in favor of reg:squarederror.\n",
            "Train Score for Extreme Gradient Boosting: 0.8923204941533942\n"
          ]
        }
      ]
    },
    {
      "cell_type": "code",
      "metadata": {
        "id": "DAmEYrG5-0Nn"
      },
      "source": [
        "#TD-IDF\n",
        "def training(model, X_train, y_train, X_test, y_test, model_name, ngram_range):\n",
        "    t1 = time.time()\n",
        "    \n",
        "    model = make_pipeline(\n",
        "        TfidfVectorizer(binary=True, ngram_range=ngram_range),\n",
        "        model,\n",
        "    )\n",
        "    model.fit(X_train, y_train)\n",
        "    y_pred = model.predict(X_test)\n",
        "    MSE = mse(y_test, y_pred)\n",
        "    \n",
        "    t2 = time.time()\n",
        "    training_time = t2-t1 \n",
        "    \n",
        "    print(\"--- Model:\", model_name,\"---\")\n",
        "    print(\"MSE: \",MSE)\n",
        "    print(\"Training time:\",training_time)\n",
        "    print(\"\\n\")"
      ],
      "execution_count": 25,
      "outputs": []
    },
    {
      "cell_type": "code",
      "metadata": {
        "id": "IltB_tET_GTm"
      },
      "source": [
        "ridge = Ridge(fit_intercept = True, normalize = False)\n",
        "lr = LinearRegression()\n",
        "xgbr = xgb.XGBRegressor()\n",
        "lasso = Lasso(alpha=0.1)\n",
        "hr = HuberRegressor(max_iter = 300)\n",
        "models = [ridge,lr,xgbr,lasso,hr]\n",
        "\n",
        "modelnames = [\"Ridge Regression\",\"Linear Regression\",\"Extreme Gradient Boosting\", \"Lasso Regression\",\"Tweedie Regressor\",\"Huber Regressor\"]"
      ],
      "execution_count": 29,
      "outputs": []
    },
    {
      "cell_type": "code",
      "metadata": {
        "colab": {
          "base_uri": "https://localhost:8080/"
        },
        "id": "OarkLeoQ_mXH",
        "outputId": "97309fd6-c89c-4c0b-931d-ff0be794d84d"
      },
      "source": [
        "X = df_train[\"excerpt_clean\"]\n",
        "y = df_train['target']\n",
        "\n",
        "X_train, X_test, y_train, y_test = train_test_split(X, y, test_size=0.33, random_state=42)\n",
        "\n",
        "n_gram_dict = { \"Unigram\" : (1,1), \"Unigrams + Bigrams\": (1,2), \"Bigrams alone\": (2,2), \"Unigrams + Bigrams + Trigrams\": (1,3)}\n",
        "\n",
        "for n_gram in n_gram_dict.keys():\n",
        "    print(\"\\033[1m \" + n_gram + \" \\n \\033[0m\")\n",
        "    for i in range(0,len(models)):\n",
        "        training(model=models[i], X_train=X_train, y_train=y_train, X_test=X_test,y_test=y_test, model_name=modelnames[i],ngram_range=n_gram_dict[n_gram])\n",
        "    print(\"*\" * 40)"
      ],
      "execution_count": 30,
      "outputs": [
        {
          "output_type": "stream",
          "name": "stdout",
          "text": [
            "\u001b[1m Unigram \n",
            " \u001b[0m\n",
            "--- Model: Ridge Regression ---\n",
            "MSE:  0.5407258653311647\n",
            "Training time: 0.3176107406616211\n",
            "\n",
            "\n",
            "--- Model: Linear Regression ---\n",
            "MSE:  0.621813893389428\n",
            "Training time: 0.33685970306396484\n",
            "\n",
            "\n",
            "[14:01:57] WARNING: /workspace/src/objective/regression_obj.cu:152: reg:linear is now deprecated in favor of reg:squarederror.\n",
            "--- Model: Extreme Gradient Boosting ---\n",
            "MSE:  0.6909057311435994\n",
            "Training time: 3.0572779178619385\n",
            "\n",
            "\n",
            "--- Model: Lasso Regression ---\n",
            "MSE:  1.0813873356865098\n",
            "Training time: 0.35517263412475586\n",
            "\n",
            "\n"
          ]
        },
        {
          "output_type": "stream",
          "name": "stderr",
          "text": [
            "/usr/local/lib/python3.7/dist-packages/sklearn/linear_model/_huber.py:296: ConvergenceWarning: lbfgs failed to converge (status=1):\n",
            "STOP: TOTAL NO. of ITERATIONS REACHED LIMIT.\n",
            "\n",
            "Increase the number of iterations (max_iter) or scale the data as shown in:\n",
            "    https://scikit-learn.org/stable/modules/preprocessing.html\n",
            "  self.n_iter_ = _check_optimize_result(\"lbfgs\", opt_res, self.max_iter)\n"
          ]
        },
        {
          "output_type": "stream",
          "name": "stdout",
          "text": [
            "--- Model: Tweedie Regressor ---\n",
            "MSE:  0.6144128775091242\n",
            "Training time: 3.3459632396698\n",
            "\n",
            "\n",
            "****************************************\n",
            "\u001b[1m Unigrams + Bigrams \n",
            " \u001b[0m\n",
            "--- Model: Ridge Regression ---\n",
            "MSE:  0.5748399358343904\n",
            "Training time: 1.0788676738739014\n",
            "\n",
            "\n",
            "--- Model: Linear Regression ---\n",
            "MSE:  0.5822784170965322\n",
            "Training time: 1.18141508102417\n",
            "\n",
            "\n",
            "[14:02:07] WARNING: /workspace/src/objective/regression_obj.cu:152: reg:linear is now deprecated in favor of reg:squarederror.\n",
            "--- Model: Extreme Gradient Boosting ---\n",
            "MSE:  0.9074474061034213\n",
            "Training time: 16.26211404800415\n",
            "\n",
            "\n",
            "--- Model: Lasso Regression ---\n",
            "MSE:  1.0813873356865098\n",
            "Training time: 1.670393943786621\n",
            "\n",
            "\n"
          ]
        },
        {
          "output_type": "stream",
          "name": "stderr",
          "text": [
            "/usr/local/lib/python3.7/dist-packages/sklearn/linear_model/_huber.py:296: ConvergenceWarning: lbfgs failed to converge (status=1):\n",
            "STOP: TOTAL NO. of ITERATIONS REACHED LIMIT.\n",
            "\n",
            "Increase the number of iterations (max_iter) or scale the data as shown in:\n",
            "    https://scikit-learn.org/stable/modules/preprocessing.html\n",
            "  self.n_iter_ = _check_optimize_result(\"lbfgs\", opt_res, self.max_iter)\n"
          ]
        },
        {
          "output_type": "stream",
          "name": "stdout",
          "text": [
            "--- Model: Tweedie Regressor ---\n",
            "MSE:  0.5815467321424276\n",
            "Training time: 21.280524253845215\n",
            "\n",
            "\n",
            "****************************************\n",
            "\u001b[1m Bigrams alone \n",
            " \u001b[0m\n",
            "--- Model: Ridge Regression ---\n",
            "MSE:  0.921455706202811\n",
            "Training time: 0.8406388759613037\n",
            "\n",
            "\n",
            "--- Model: Linear Regression ---\n",
            "MSE:  0.8292816149898004\n",
            "Training time: 0.8882155418395996\n",
            "\n",
            "\n",
            "[14:02:48] WARNING: /workspace/src/objective/regression_obj.cu:152: reg:linear is now deprecated in favor of reg:squarederror.\n",
            "--- Model: Extreme Gradient Boosting ---\n",
            "MSE:  1.0181520918784115\n",
            "Training time: 13.264244794845581\n",
            "\n",
            "\n",
            "--- Model: Lasso Regression ---\n",
            "MSE:  1.0813873356865098\n",
            "Training time: 1.3544888496398926\n",
            "\n",
            "\n"
          ]
        },
        {
          "output_type": "stream",
          "name": "stderr",
          "text": [
            "/usr/local/lib/python3.7/dist-packages/sklearn/linear_model/_huber.py:296: ConvergenceWarning: lbfgs failed to converge (status=1):\n",
            "STOP: TOTAL NO. of ITERATIONS REACHED LIMIT.\n",
            "\n",
            "Increase the number of iterations (max_iter) or scale the data as shown in:\n",
            "    https://scikit-learn.org/stable/modules/preprocessing.html\n",
            "  self.n_iter_ = _check_optimize_result(\"lbfgs\", opt_res, self.max_iter)\n"
          ]
        },
        {
          "output_type": "stream",
          "name": "stdout",
          "text": [
            "--- Model: Tweedie Regressor ---\n",
            "MSE:  0.8299077057868437\n",
            "Training time: 18.908102989196777\n",
            "\n",
            "\n",
            "****************************************\n",
            "\u001b[1m Unigrams + Bigrams + Trigrams \n",
            " \u001b[0m\n",
            "--- Model: Ridge Regression ---\n",
            "MSE:  0.6001715478965208\n",
            "Training time: 1.9212071895599365\n",
            "\n",
            "\n",
            "--- Model: Linear Regression ---\n",
            "MSE:  0.6268210990800221\n",
            "Training time: 2.0422322750091553\n",
            "\n",
            "\n",
            "[14:03:26] WARNING: /workspace/src/objective/regression_obj.cu:152: reg:linear is now deprecated in favor of reg:squarederror.\n",
            "--- Model: Extreme Gradient Boosting ---\n",
            "MSE:  0.8686109449003954\n",
            "Training time: 30.557175636291504\n",
            "\n",
            "\n",
            "--- Model: Lasso Regression ---\n",
            "MSE:  1.0813873356865098\n",
            "Training time: 3.075375556945801\n",
            "\n",
            "\n"
          ]
        },
        {
          "output_type": "stream",
          "name": "stderr",
          "text": [
            "/usr/local/lib/python3.7/dist-packages/sklearn/linear_model/_huber.py:296: ConvergenceWarning: lbfgs failed to converge (status=1):\n",
            "STOP: TOTAL NO. of ITERATIONS REACHED LIMIT.\n",
            "\n",
            "Increase the number of iterations (max_iter) or scale the data as shown in:\n",
            "    https://scikit-learn.org/stable/modules/preprocessing.html\n",
            "  self.n_iter_ = _check_optimize_result(\"lbfgs\", opt_res, self.max_iter)\n"
          ]
        },
        {
          "output_type": "stream",
          "name": "stdout",
          "text": [
            "--- Model: Tweedie Regressor ---\n",
            "MSE:  0.6264647251277394\n",
            "Training time: 41.0884313583374\n",
            "\n",
            "\n",
            "****************************************\n"
          ]
        }
      ]
    },
    {
      "cell_type": "code",
      "metadata": {
        "id": "iNvCBR6dAWFa"
      },
      "source": [
        "learning_rate_reduction = ReduceLROnPlateau(monitor='val_root_mean_squared_error', \n",
        "                                            patience=3, \n",
        "                                            verbose=1, \n",
        "                                            factor=0.5, \n",
        "                                            min_lr=0.00001)\n",
        "                                            \n",
        "early_stopping = EarlyStopping(\n",
        "    min_delta=0.001, # minimium amount of change to count as an improvement\n",
        "    patience=5, # how many epochs to wait before stopping\n",
        "    restore_best_weights=True,)\n"
      ],
      "execution_count": 33,
      "outputs": []
    },
    {
      "cell_type": "code",
      "metadata": {
        "colab": {
          "base_uri": "https://localhost:8080/"
        },
        "id": "CaS5ZFKIAwcj",
        "outputId": "72048638-2a07-45db-bbd7-e75741495b91"
      },
      "source": [
        "vocab_size = 51038\n",
        "embedding_dim = 64\n",
        "max_length = 50\n",
        "trunc_type='post'\n",
        "pad_type='post'\n",
        "oov_tok = \"<OOV>\"\n",
        "model = tf.keras.Sequential([\n",
        "    tf.keras.layers.Embedding(vocab_size, embedding_dim, input_length=max_length),\n",
        "    tf.keras.layers.GlobalAveragePooling1D(),  \n",
        "    tf.keras.layers.Dense(1)\n",
        "])\n",
        "#model.compile(loss='binary_crossentropy',optimizer='adam',)#metrics=[rmse])\n",
        "model.compile(loss='mean_squared_error', metrics=[RootMeanSquaredError()])\n",
        "model.summary()"
      ],
      "execution_count": 34,
      "outputs": [
        {
          "output_type": "stream",
          "name": "stdout",
          "text": [
            "Model: \"sequential\"\n",
            "_________________________________________________________________\n",
            "Layer (type)                 Output Shape              Param #   \n",
            "=================================================================\n",
            "embedding (Embedding)        (None, 50, 64)            3266432   \n",
            "_________________________________________________________________\n",
            "global_average_pooling1d (Gl (None, 64)                0         \n",
            "_________________________________________________________________\n",
            "dense (Dense)                (None, 1)                 65        \n",
            "=================================================================\n",
            "Total params: 3,266,497\n",
            "Trainable params: 3,266,497\n",
            "Non-trainable params: 0\n",
            "_________________________________________________________________\n"
          ]
        }
      ]
    },
    {
      "cell_type": "code",
      "metadata": {
        "colab": {
          "base_uri": "https://localhost:8080/"
        },
        "id": "QHQLrNziBekz",
        "outputId": "9c730cdc-dcc2-4c40-9cfd-3be2b8b9ba22"
      },
      "source": [
        "text = df_train.excerpt_clean\n",
        "tokenizer = Tokenizer(num_words = vocab_size, oov_token=oov_tok)\n",
        "tokenizer.fit_on_texts(text)\n",
        "word_index = tokenizer.word_index\n",
        "training_sequences = tokenizer.texts_to_sequences(text)\n",
        "training_padded = pad_sequences(training_sequences,maxlen=max_length, \n",
        "                                truncating=trunc_type, padding=pad_type)\n",
        "\n",
        "#validation_sequences = tokenizer.texts_to_sequences(text[800:])\n",
        "#validation_padded = pad_sequences(validation_sequences,maxlen=max_length)\n",
        "\n",
        "training_labels_final = np.array(df_train.target)\n",
        "print(training_padded.shape)\n",
        "print(training_labels_final.shape)"
      ],
      "execution_count": 37,
      "outputs": [
        {
          "output_type": "stream",
          "name": "stdout",
          "text": [
            "(2834, 50)\n",
            "(2834,)\n"
          ]
        }
      ]
    },
    {
      "cell_type": "code",
      "metadata": {
        "colab": {
          "base_uri": "https://localhost:8080/"
        },
        "id": "H4BRiCtdB1GP",
        "outputId": "77b1ad7a-780c-4fd2-a635-30c97932a603"
      },
      "source": [
        "num_epochs = 35\n",
        "history = model.fit(training_padded, training_labels_final, epochs=num_epochs, \n",
        "                    validation_split=0.1,\n",
        "                    #validation_data=(validation_padded, validation_labels_final),\n",
        "                   callbacks=[early_stopping,learning_rate_reduction])"
      ],
      "execution_count": 38,
      "outputs": [
        {
          "output_type": "stream",
          "name": "stdout",
          "text": [
            "Epoch 1/35\n",
            "80/80 [==============================] - 3s 20ms/step - loss: 1.5906 - root_mean_squared_error: 1.2612 - val_loss: 1.3815 - val_root_mean_squared_error: 1.1754\n",
            "Epoch 2/35\n",
            "80/80 [==============================] - 1s 17ms/step - loss: 1.0701 - root_mean_squared_error: 1.0344 - val_loss: 1.0467 - val_root_mean_squared_error: 1.0231\n",
            "Epoch 3/35\n",
            "80/80 [==============================] - 1s 17ms/step - loss: 0.7988 - root_mean_squared_error: 0.8937 - val_loss: 0.8617 - val_root_mean_squared_error: 0.9283\n",
            "Epoch 4/35\n",
            "80/80 [==============================] - 1s 17ms/step - loss: 0.6238 - root_mean_squared_error: 0.7898 - val_loss: 0.7573 - val_root_mean_squared_error: 0.8702\n",
            "Epoch 5/35\n",
            "80/80 [==============================] - 1s 17ms/step - loss: 0.5010 - root_mean_squared_error: 0.7078 - val_loss: 0.7088 - val_root_mean_squared_error: 0.8419\n",
            "Epoch 6/35\n",
            "80/80 [==============================] - 1s 16ms/step - loss: 0.4131 - root_mean_squared_error: 0.6427 - val_loss: 0.6937 - val_root_mean_squared_error: 0.8329\n",
            "Epoch 7/35\n",
            "80/80 [==============================] - 1s 17ms/step - loss: 0.3467 - root_mean_squared_error: 0.5888 - val_loss: 0.6884 - val_root_mean_squared_error: 0.8297\n",
            "Epoch 8/35\n",
            "80/80 [==============================] - 1s 17ms/step - loss: 0.2920 - root_mean_squared_error: 0.5404 - val_loss: 0.6921 - val_root_mean_squared_error: 0.8319\n",
            "Epoch 9/35\n",
            "80/80 [==============================] - 1s 17ms/step - loss: 0.2464 - root_mean_squared_error: 0.4964 - val_loss: 0.6973 - val_root_mean_squared_error: 0.8351\n",
            "Epoch 10/35\n",
            "80/80 [==============================] - 1s 16ms/step - loss: 0.2066 - root_mean_squared_error: 0.4545 - val_loss: 0.7108 - val_root_mean_squared_error: 0.8431\n",
            "\n",
            "Epoch 00010: ReduceLROnPlateau reducing learning rate to 0.0005000000237487257.\n",
            "Epoch 11/35\n",
            "80/80 [==============================] - 1s 17ms/step - loss: 0.1689 - root_mean_squared_error: 0.4109 - val_loss: 0.7192 - val_root_mean_squared_error: 0.8481\n",
            "Epoch 12/35\n",
            "80/80 [==============================] - 1s 18ms/step - loss: 0.1532 - root_mean_squared_error: 0.3914 - val_loss: 0.7270 - val_root_mean_squared_error: 0.8526\n"
          ]
        }
      ]
    },
    {
      "cell_type": "code",
      "metadata": {
        "id": "SGt6wbHSCIlo"
      },
      "source": [
        "#Our model is over-fitting now. We need to optimize it."
      ],
      "execution_count": 40,
      "outputs": []
    },
    {
      "cell_type": "code",
      "metadata": {
        "colab": {
          "base_uri": "https://localhost:8080/",
          "height": 295
        },
        "id": "97zjrawNCirO",
        "outputId": "46501915-264f-4e11-fe34-69a0151b56c5"
      },
      "source": [
        "xs=[]\n",
        "ys=[]\n",
        "current_item=1\n",
        "for item in text:\n",
        " xs.append(current_item)\n",
        " current_item=current_item+1\n",
        " ys.append(len(item))\n",
        "newys = sorted(ys)\n",
        "plt.xlabel('Excerpt')\n",
        "plt.ylabel('Word Length')\n",
        "plt.title('Length of Words in Excerpt')\n",
        "plt.plot(xs,newys)\n",
        "\n",
        "plt.show()"
      ],
      "execution_count": 41,
      "outputs": [
        {
          "output_type": "display_data",
          "data": {
            "image/png": "[encoded data removed]",
            "text/plain": [
              "<Figure size 432x288 with 1 Axes>"
            ]
          },
          "metadata": {
            "needs_background": "light"
          }
        }
      ]
    },
    {
      "cell_type": "code",
      "metadata": {
        "id": "qSYK55EVC8_V"
      },
      "source": [
        "#Most excerpts have 800 words or less, so we use that value instead.\n",
        "#We will create a simple model using an embedding after applying all the optimizations."
      ],
      "execution_count": 42,
      "outputs": []
    },
    {
      "cell_type": "code",
      "metadata": {
        "colab": {
          "base_uri": "https://localhost:8080/"
        },
        "id": "2bmYvdt-DMcJ",
        "outputId": "7f43a19e-c4ac-4edd-eb15-46376342dcb2"
      },
      "source": [
        "#Create the model using an Embedding\n",
        "model = tf.keras.Sequential([\n",
        "    tf.keras.layers.Embedding(vocab_size, embedding_dim, input_length=max_length),\n",
        "    tf.keras.layers.GlobalAveragePooling1D(),\n",
        "    tf.keras.layers.Dense(24, activation='relu', kernel_regularizer = tf.keras.regularizers.l2(0.01)),\n",
        "    tf.keras.layers.Dense(1)\n",
        "])\n",
        "model.compile(loss='mean_squared_error',optimizer='adam', metrics=[RootMeanSquaredError()])\n",
        "model.summary()"
      ],
      "execution_count": 43,
      "outputs": [
        {
          "output_type": "stream",
          "name": "stdout",
          "text": [
            "Model: \"sequential_1\"\n",
            "_________________________________________________________________\n",
            "Layer (type)                 Output Shape              Param #   \n",
            "=================================================================\n",
            "embedding_1 (Embedding)      (None, 50, 64)            3266432   \n",
            "_________________________________________________________________\n",
            "global_average_pooling1d_1 ( (None, 64)                0         \n",
            "_________________________________________________________________\n",
            "dense_1 (Dense)              (None, 24)                1560      \n",
            "_________________________________________________________________\n",
            "dense_2 (Dense)              (None, 1)                 25        \n",
            "=================================================================\n",
            "Total params: 3,268,017\n",
            "Trainable params: 3,268,017\n",
            "Non-trainable params: 0\n",
            "_________________________________________________________________\n"
          ]
        }
      ]
    },
    {
      "cell_type": "code",
      "metadata": {
        "colab": {
          "base_uri": "https://localhost:8080/"
        },
        "id": "B48otfuKDRBC",
        "outputId": "bc498116-103d-4925-e9b5-6a36c4002a85"
      },
      "source": [
        "num_epochs = 100\n",
        "history = model.fit(training_padded, training_labels_final, epochs=num_epochs, \n",
        "                    validation_split=0.1,\n",
        "                    #validation_data=(validation_padded, validation_labels_final),\n",
        "                   callbacks=[early_stopping,learning_rate_reduction])"
      ],
      "execution_count": 44,
      "outputs": [
        {
          "output_type": "stream",
          "name": "stdout",
          "text": [
            "Epoch 1/100\n",
            "80/80 [==============================] - 4s 41ms/step - loss: 1.7763 - root_mean_squared_error: 1.2380 - val_loss: 1.3414 - val_root_mean_squared_error: 1.0733\n",
            "Epoch 2/100\n",
            "80/80 [==============================] - 3s 37ms/step - loss: 0.9801 - root_mean_squared_error: 0.9053 - val_loss: 0.9288 - val_root_mean_squared_error: 0.8858\n",
            "Epoch 3/100\n",
            "80/80 [==============================] - 3s 37ms/step - loss: 0.6462 - root_mean_squared_error: 0.7182 - val_loss: 0.7887 - val_root_mean_squared_error: 0.8178\n",
            "Epoch 4/100\n",
            "80/80 [==============================] - 3s 38ms/step - loss: 0.4524 - root_mean_squared_error: 0.5829 - val_loss: 0.7428 - val_root_mean_squared_error: 0.7969\n",
            "Epoch 5/100\n",
            "80/80 [==============================] - 3s 38ms/step - loss: 0.3290 - root_mean_squared_error: 0.4789 - val_loss: 0.7366 - val_root_mean_squared_error: 0.8010\n",
            "Epoch 6/100\n",
            "80/80 [==============================] - 3s 38ms/step - loss: 0.2498 - root_mean_squared_error: 0.3989 - val_loss: 0.7403 - val_root_mean_squared_error: 0.8081\n",
            "Epoch 7/100\n",
            "80/80 [==============================] - 3s 39ms/step - loss: 0.1947 - root_mean_squared_error: 0.3354 - val_loss: 0.7483 - val_root_mean_squared_error: 0.8179\n",
            "\n",
            "Epoch 00007: ReduceLROnPlateau reducing learning rate to 0.0005000000237487257.\n",
            "Epoch 8/100\n",
            "80/80 [==============================] - 3s 38ms/step - loss: 0.1568 - root_mean_squared_error: 0.2819 - val_loss: 0.7507 - val_root_mean_squared_error: 0.8227\n",
            "Epoch 9/100\n",
            "80/80 [==============================] - 3s 38ms/step - loss: 0.1417 - root_mean_squared_error: 0.2617 - val_loss: 0.7524 - val_root_mean_squared_error: 0.8251\n",
            "Epoch 10/100\n",
            "80/80 [==============================] - 3s 39ms/step - loss: 0.1288 - root_mean_squared_error: 0.2421 - val_loss: 0.7511 - val_root_mean_squared_error: 0.8263\n",
            "\n",
            "Epoch 00010: ReduceLROnPlateau reducing learning rate to 0.0002500000118743628.\n"
          ]
        }
      ]
    },
    {
      "cell_type": "code",
      "metadata": {
        "colab": {
          "base_uri": "https://localhost:8080/"
        },
        "id": "65x3d0mHDZqA",
        "outputId": "10ea13f5-56be-4a71-8d95-33cab6d87062"
      },
      "source": [
        "#Convolutional Neural Network (CNN/ConvNet)\n",
        "model = tf.keras.Sequential([\n",
        "    tf.keras.layers.Embedding(vocab_size, embedding_dim, input_length=max_length),\n",
        "    tf.keras.layers.Conv1D(embedding_dim, 5, activation='relu'),\n",
        "    tf.keras.layers.GlobalMaxPooling1D(), \n",
        "    tf.keras.layers.Dense(24, activation='relu', kernel_regularizer = tf.keras.regularizers.l2(0.01)),\n",
        "    tf.keras.layers.Dense(1)\n",
        "])\n",
        "\n",
        "# Default learning rate for the Adam optimizer is 0.001\n",
        "# Let's slow down the learning rate by 10.\n",
        "learning_rate = 0.0001\n",
        "model.compile(loss='mean_squared_error',optimizer=tf.keras.optimizers.Adam(learning_rate), metrics=[RootMeanSquaredError()])\n",
        "model.summary()"
      ],
      "execution_count": 46,
      "outputs": [
        {
          "output_type": "stream",
          "name": "stdout",
          "text": [
            "Model: \"sequential_2\"\n",
            "_________________________________________________________________\n",
            "Layer (type)                 Output Shape              Param #   \n",
            "=================================================================\n",
            "embedding_2 (Embedding)      (None, 50, 64)            3266432   \n",
            "_________________________________________________________________\n",
            "conv1d (Conv1D)              (None, 46, 64)            20544     \n",
            "_________________________________________________________________\n",
            "global_max_pooling1d (Global (None, 64)                0         \n",
            "_________________________________________________________________\n",
            "dense_3 (Dense)              (None, 24)                1560      \n",
            "_________________________________________________________________\n",
            "dense_4 (Dense)              (None, 1)                 25        \n",
            "=================================================================\n",
            "Total params: 3,288,561\n",
            "Trainable params: 3,288,561\n",
            "Non-trainable params: 0\n",
            "_________________________________________________________________\n"
          ]
        }
      ]
    },
    {
      "cell_type": "code",
      "metadata": {
        "colab": {
          "base_uri": "https://localhost:8080/"
        },
        "id": "7w-rPbbADvAv",
        "outputId": "2e51ddcd-822d-4555-d8c1-35906411eaa2"
      },
      "source": [
        "num_epochs = 100\n",
        "history = model.fit(training_padded, training_labels_final, epochs=num_epochs, \n",
        "                    validation_split=0.1,\n",
        "                    #validation_data=(validation_padded, validation_labels_final),\n",
        "                   callbacks=[early_stopping,learning_rate_reduction])"
      ],
      "execution_count": 47,
      "outputs": [
        {
          "output_type": "stream",
          "name": "stdout",
          "text": [
            "Epoch 1/100\n",
            "80/80 [==============================] - 4s 46ms/step - loss: 2.1931 - root_mean_squared_error: 1.3644 - val_loss: 2.1149 - val_root_mean_squared_error: 1.3378\n",
            "Epoch 2/100\n",
            "80/80 [==============================] - 3s 43ms/step - loss: 1.8778 - root_mean_squared_error: 1.2485 - val_loss: 1.8717 - val_root_mean_squared_error: 1.2485\n",
            "Epoch 3/100\n",
            "80/80 [==============================] - 3s 43ms/step - loss: 1.6439 - root_mean_squared_error: 1.1562 - val_loss: 1.6931 - val_root_mean_squared_error: 1.1797\n",
            "Epoch 4/100\n",
            "80/80 [==============================] - 3s 42ms/step - loss: 1.4570 - root_mean_squared_error: 1.0776 - val_loss: 1.5594 - val_root_mean_squared_error: 1.1266\n",
            "Epoch 5/100\n",
            "80/80 [==============================] - 3s 43ms/step - loss: 1.3186 - root_mean_squared_error: 1.0167 - val_loss: 1.4722 - val_root_mean_squared_error: 1.0923\n",
            "Epoch 6/100\n",
            "80/80 [==============================] - 3s 43ms/step - loss: 1.2204 - root_mean_squared_error: 0.9732 - val_loss: 1.4154 - val_root_mean_squared_error: 1.0715\n",
            "Epoch 7/100\n",
            "80/80 [==============================] - 4s 44ms/step - loss: 1.1410 - root_mean_squared_error: 0.9376 - val_loss: 1.3736 - val_root_mean_squared_error: 1.0572\n",
            "Epoch 8/100\n",
            "80/80 [==============================] - 3s 43ms/step - loss: 1.0733 - root_mean_squared_error: 0.9071 - val_loss: 1.3367 - val_root_mean_squared_error: 1.0448\n",
            "Epoch 9/100\n",
            "80/80 [==============================] - 4s 44ms/step - loss: 1.0044 - root_mean_squared_error: 0.8742 - val_loss: 1.2965 - val_root_mean_squared_error: 1.0303\n",
            "Epoch 10/100\n",
            "80/80 [==============================] - 3s 43ms/step - loss: 0.9261 - root_mean_squared_error: 0.8337 - val_loss: 1.2451 - val_root_mean_squared_error: 1.0089\n",
            "Epoch 11/100\n",
            "80/80 [==============================] - 3s 43ms/step - loss: 0.8330 - root_mean_squared_error: 0.7806 - val_loss: 1.1868 - val_root_mean_squared_error: 0.9831\n",
            "Epoch 12/100\n",
            "80/80 [==============================] - 4s 44ms/step - loss: 0.7224 - root_mean_squared_error: 0.7102 - val_loss: 1.1163 - val_root_mean_squared_error: 0.9490\n",
            "Epoch 13/100\n",
            "80/80 [==============================] - 3s 42ms/step - loss: 0.6132 - root_mean_squared_error: 0.6320 - val_loss: 1.0553 - val_root_mean_squared_error: 0.9184\n",
            "Epoch 14/100\n",
            "80/80 [==============================] - 3s 43ms/step - loss: 0.5174 - root_mean_squared_error: 0.5542 - val_loss: 1.0082 - val_root_mean_squared_error: 0.8943\n",
            "Epoch 15/100\n",
            "80/80 [==============================] - 3s 43ms/step - loss: 0.4382 - root_mean_squared_error: 0.4812 - val_loss: 0.9803 - val_root_mean_squared_error: 0.8807\n",
            "Epoch 16/100\n",
            "80/80 [==============================] - 3s 42ms/step - loss: 0.3757 - root_mean_squared_error: 0.4158 - val_loss: 0.9532 - val_root_mean_squared_error: 0.8674\n",
            "Epoch 17/100\n",
            "80/80 [==============================] - 3s 43ms/step - loss: 0.3268 - root_mean_squared_error: 0.3580 - val_loss: 0.9373 - val_root_mean_squared_error: 0.8608\n",
            "Epoch 18/100\n",
            "80/80 [==============================] - 3s 43ms/step - loss: 0.2884 - root_mean_squared_error: 0.3072 - val_loss: 0.9230 - val_root_mean_squared_error: 0.8552\n",
            "Epoch 19/100\n",
            "80/80 [==============================] - 3s 42ms/step - loss: 0.2580 - root_mean_squared_error: 0.2625 - val_loss: 0.9174 - val_root_mean_squared_error: 0.8549\n",
            "Epoch 20/100\n",
            "80/80 [==============================] - 3s 43ms/step - loss: 0.2348 - root_mean_squared_error: 0.2253 - val_loss: 0.9056 - val_root_mean_squared_error: 0.8511\n",
            "Epoch 21/100\n",
            "80/80 [==============================] - 3s 41ms/step - loss: 0.2162 - root_mean_squared_error: 0.1944 - val_loss: 0.8989 - val_root_mean_squared_error: 0.8505\n",
            "Epoch 22/100\n",
            "80/80 [==============================] - 3s 43ms/step - loss: 0.2011 - root_mean_squared_error: 0.1680 - val_loss: 0.8952 - val_root_mean_squared_error: 0.8516\n",
            "Epoch 23/100\n",
            "80/80 [==============================] - 3s 43ms/step - loss: 0.1883 - root_mean_squared_error: 0.1459 - val_loss: 0.8935 - val_root_mean_squared_error: 0.8541\n",
            "Epoch 24/100\n",
            "80/80 [==============================] - 3s 43ms/step - loss: 0.1774 - root_mean_squared_error: 0.1270 - val_loss: 0.8829 - val_root_mean_squared_error: 0.8512\n",
            "\n",
            "Epoch 00024: ReduceLROnPlateau reducing learning rate to 4.999999873689376e-05.\n",
            "Epoch 25/100\n",
            "80/80 [==============================] - 3s 43ms/step - loss: 0.1692 - root_mean_squared_error: 0.1112 - val_loss: 0.8820 - val_root_mean_squared_error: 0.8524\n",
            "Epoch 26/100\n",
            "80/80 [==============================] - 4s 44ms/step - loss: 0.1648 - root_mean_squared_error: 0.1042 - val_loss: 0.8771 - val_root_mean_squared_error: 0.8513\n",
            "Epoch 27/100\n",
            "80/80 [==============================] - 3s 42ms/step - loss: 0.1605 - root_mean_squared_error: 0.0979 - val_loss: 0.8740 - val_root_mean_squared_error: 0.8513\n",
            "\n",
            "Epoch 00027: ReduceLROnPlateau reducing learning rate to 2.499999936844688e-05.\n",
            "Epoch 28/100\n",
            "80/80 [==============================] - 3s 43ms/step - loss: 0.1571 - root_mean_squared_error: 0.0919 - val_loss: 0.8733 - val_root_mean_squared_error: 0.8517\n",
            "Epoch 29/100\n",
            "80/80 [==============================] - 3s 43ms/step - loss: 0.1550 - root_mean_squared_error: 0.0891 - val_loss: 0.8717 - val_root_mean_squared_error: 0.8517\n",
            "Epoch 30/100\n",
            "80/80 [==============================] - 3s 43ms/step - loss: 0.1530 - root_mean_squared_error: 0.0864 - val_loss: 0.8695 - val_root_mean_squared_error: 0.8513\n",
            "\n",
            "Epoch 00030: ReduceLROnPlateau reducing learning rate to 1.249999968422344e-05.\n",
            "Epoch 31/100\n",
            "80/80 [==============================] - 3s 43ms/step - loss: 0.1513 - root_mean_squared_error: 0.0837 - val_loss: 0.8691 - val_root_mean_squared_error: 0.8516\n",
            "Epoch 32/100\n",
            "80/80 [==============================] - 3s 43ms/step - loss: 0.1503 - root_mean_squared_error: 0.0824 - val_loss: 0.8677 - val_root_mean_squared_error: 0.8513\n",
            "Epoch 33/100\n",
            "80/80 [==============================] - 3s 42ms/step - loss: 0.1492 - root_mean_squared_error: 0.0811 - val_loss: 0.8675 - val_root_mean_squared_error: 0.8517\n",
            "\n",
            "Epoch 00033: ReduceLROnPlateau reducing learning rate to 1e-05.\n",
            "Epoch 34/100\n",
            "80/80 [==============================] - 3s 42ms/step - loss: 0.1482 - root_mean_squared_error: 0.0798 - val_loss: 0.8662 - val_root_mean_squared_error: 0.8513\n",
            "Epoch 35/100\n",
            "80/80 [==============================] - 3s 43ms/step - loss: 0.1474 - root_mean_squared_error: 0.0787 - val_loss: 0.8656 - val_root_mean_squared_error: 0.8513\n",
            "Epoch 36/100\n",
            "80/80 [==============================] - 4s 44ms/step - loss: 0.1465 - root_mean_squared_error: 0.0778 - val_loss: 0.8651 - val_root_mean_squared_error: 0.8515\n",
            "Epoch 37/100\n",
            "80/80 [==============================] - 3s 43ms/step - loss: 0.1456 - root_mean_squared_error: 0.0766 - val_loss: 0.8639 - val_root_mean_squared_error: 0.8512\n",
            "Epoch 38/100\n",
            "80/80 [==============================] - 4s 45ms/step - loss: 0.1447 - root_mean_squared_error: 0.0756 - val_loss: 0.8636 - val_root_mean_squared_error: 0.8515\n",
            "Epoch 39/100\n",
            "80/80 [==============================] - 4s 44ms/step - loss: 0.1438 - root_mean_squared_error: 0.0746 - val_loss: 0.8624 - val_root_mean_squared_error: 0.8512\n",
            "Epoch 40/100\n",
            "80/80 [==============================] - 3s 43ms/step - loss: 0.1428 - root_mean_squared_error: 0.0735 - val_loss: 0.8615 - val_root_mean_squared_error: 0.8511\n",
            "Epoch 41/100\n",
            "80/80 [==============================] - 3s 43ms/step - loss: 0.1419 - root_mean_squared_error: 0.0725 - val_loss: 0.8606 - val_root_mean_squared_error: 0.8511\n",
            "Epoch 42/100\n",
            "80/80 [==============================] - 3s 43ms/step - loss: 0.1410 - root_mean_squared_error: 0.0714 - val_loss: 0.8592 - val_root_mean_squared_error: 0.8508\n",
            "Epoch 43/100\n",
            "80/80 [==============================] - 3s 43ms/step - loss: 0.1400 - root_mean_squared_error: 0.0703 - val_loss: 0.8589 - val_root_mean_squared_error: 0.8511\n",
            "Epoch 44/100\n",
            "80/80 [==============================] - 3s 42ms/step - loss: 0.1390 - root_mean_squared_error: 0.0692 - val_loss: 0.8582 - val_root_mean_squared_error: 0.8511\n",
            "Epoch 45/100\n",
            "80/80 [==============================] - 3s 43ms/step - loss: 0.1380 - root_mean_squared_error: 0.0681 - val_loss: 0.8570 - val_root_mean_squared_error: 0.8509\n",
            "Epoch 46/100\n",
            "80/80 [==============================] - 3s 43ms/step - loss: 0.1370 - root_mean_squared_error: 0.0670 - val_loss: 0.8557 - val_root_mean_squared_error: 0.8507\n",
            "Epoch 47/100\n",
            "80/80 [==============================] - 3s 43ms/step - loss: 0.1360 - root_mean_squared_error: 0.0661 - val_loss: 0.8552 - val_root_mean_squared_error: 0.8509\n",
            "Epoch 48/100\n",
            "80/80 [==============================] - 3s 43ms/step - loss: 0.1350 - root_mean_squared_error: 0.0648 - val_loss: 0.8539 - val_root_mean_squared_error: 0.8506\n",
            "Epoch 49/100\n",
            "80/80 [==============================] - 4s 44ms/step - loss: 0.1340 - root_mean_squared_error: 0.0638 - val_loss: 0.8530 - val_root_mean_squared_error: 0.8506\n",
            "Epoch 50/100\n",
            "80/80 [==============================] - 4s 44ms/step - loss: 0.1330 - root_mean_squared_error: 0.0628 - val_loss: 0.8518 - val_root_mean_squared_error: 0.8504\n",
            "Epoch 51/100\n",
            "80/80 [==============================] - 3s 43ms/step - loss: 0.1319 - root_mean_squared_error: 0.0617 - val_loss: 0.8514 - val_root_mean_squared_error: 0.8507\n",
            "Epoch 52/100\n",
            "80/80 [==============================] - 3s 43ms/step - loss: 0.1309 - root_mean_squared_error: 0.0607 - val_loss: 0.8501 - val_root_mean_squared_error: 0.8505\n",
            "Epoch 53/100\n",
            "80/80 [==============================] - 3s 42ms/step - loss: 0.1298 - root_mean_squared_error: 0.0597 - val_loss: 0.8494 - val_root_mean_squared_error: 0.8506\n",
            "Epoch 54/100\n",
            "80/80 [==============================] - 3s 42ms/step - loss: 0.1288 - root_mean_squared_error: 0.0586 - val_loss: 0.8482 - val_root_mean_squared_error: 0.8505\n",
            "Epoch 55/100\n",
            "80/80 [==============================] - 4s 44ms/step - loss: 0.1277 - root_mean_squared_error: 0.0576 - val_loss: 0.8465 - val_root_mean_squared_error: 0.8500\n",
            "Epoch 56/100\n",
            "80/80 [==============================] - 3s 43ms/step - loss: 0.1267 - root_mean_squared_error: 0.0565 - val_loss: 0.8457 - val_root_mean_squared_error: 0.8501\n",
            "Epoch 57/100\n",
            "80/80 [==============================] - 3s 43ms/step - loss: 0.1256 - root_mean_squared_error: 0.0555 - val_loss: 0.8443 - val_root_mean_squared_error: 0.8499\n",
            "Epoch 58/100\n",
            "80/80 [==============================] - 3s 44ms/step - loss: 0.1246 - root_mean_squared_error: 0.0546 - val_loss: 0.8439 - val_root_mean_squared_error: 0.8502\n",
            "Epoch 59/100\n",
            "80/80 [==============================] - 3s 42ms/step - loss: 0.1235 - root_mean_squared_error: 0.0536 - val_loss: 0.8429 - val_root_mean_squared_error: 0.8502\n",
            "Epoch 60/100\n",
            "80/80 [==============================] - 3s 42ms/step - loss: 0.1224 - root_mean_squared_error: 0.0526 - val_loss: 0.8411 - val_root_mean_squared_error: 0.8497\n",
            "Epoch 61/100\n",
            "80/80 [==============================] - 3s 43ms/step - loss: 0.1213 - root_mean_squared_error: 0.0517 - val_loss: 0.8402 - val_root_mean_squared_error: 0.8497\n",
            "Epoch 62/100\n",
            "80/80 [==============================] - 3s 42ms/step - loss: 0.1203 - root_mean_squared_error: 0.0507 - val_loss: 0.8396 - val_root_mean_squared_error: 0.8499\n",
            "Epoch 63/100\n",
            "80/80 [==============================] - 3s 43ms/step - loss: 0.1192 - root_mean_squared_error: 0.0498 - val_loss: 0.8387 - val_root_mean_squared_error: 0.8500\n",
            "Epoch 64/100\n",
            "80/80 [==============================] - 4s 46ms/step - loss: 0.1181 - root_mean_squared_error: 0.0489 - val_loss: 0.8371 - val_root_mean_squared_error: 0.8496\n",
            "Epoch 65/100\n",
            "80/80 [==============================] - 3s 42ms/step - loss: 0.1170 - root_mean_squared_error: 0.0480 - val_loss: 0.8361 - val_root_mean_squared_error: 0.8496\n",
            "Epoch 66/100\n",
            "80/80 [==============================] - 3s 43ms/step - loss: 0.1159 - root_mean_squared_error: 0.0471 - val_loss: 0.8340 - val_root_mean_squared_error: 0.8490\n",
            "Epoch 67/100\n",
            "80/80 [==============================] - 3s 43ms/step - loss: 0.1149 - root_mean_squared_error: 0.0463 - val_loss: 0.8337 - val_root_mean_squared_error: 0.8494\n",
            "Epoch 68/100\n",
            "80/80 [==============================] - 3s 43ms/step - loss: 0.1138 - root_mean_squared_error: 0.0454 - val_loss: 0.8324 - val_root_mean_squared_error: 0.8492\n",
            "Epoch 69/100\n",
            "80/80 [==============================] - 3s 43ms/step - loss: 0.1127 - root_mean_squared_error: 0.0446 - val_loss: 0.8310 - val_root_mean_squared_error: 0.8490\n",
            "Epoch 70/100\n",
            "80/80 [==============================] - 3s 44ms/step - loss: 0.1116 - root_mean_squared_error: 0.0437 - val_loss: 0.8299 - val_root_mean_squared_error: 0.8489\n",
            "Epoch 71/100\n",
            "80/80 [==============================] - 3s 43ms/step - loss: 0.1106 - root_mean_squared_error: 0.0429 - val_loss: 0.8293 - val_root_mean_squared_error: 0.8491\n",
            "Epoch 72/100\n",
            "80/80 [==============================] - 3s 43ms/step - loss: 0.1095 - root_mean_squared_error: 0.0422 - val_loss: 0.8283 - val_root_mean_squared_error: 0.8491\n",
            "Epoch 73/100\n",
            "80/80 [==============================] - 3s 43ms/step - loss: 0.1084 - root_mean_squared_error: 0.0414 - val_loss: 0.8261 - val_root_mean_squared_error: 0.8485\n",
            "Epoch 74/100\n",
            "80/80 [==============================] - 3s 43ms/step - loss: 0.1074 - root_mean_squared_error: 0.0407 - val_loss: 0.8254 - val_root_mean_squared_error: 0.8487\n",
            "Epoch 75/100\n",
            "80/80 [==============================] - 4s 44ms/step - loss: 0.1063 - root_mean_squared_error: 0.0399 - val_loss: 0.8238 - val_root_mean_squared_error: 0.8483\n",
            "Epoch 76/100\n",
            "80/80 [==============================] - 4s 44ms/step - loss: 0.1052 - root_mean_squared_error: 0.0392 - val_loss: 0.8231 - val_root_mean_squared_error: 0.8485\n",
            "Epoch 77/100\n",
            "80/80 [==============================] - 4s 45ms/step - loss: 0.1042 - root_mean_squared_error: 0.0385 - val_loss: 0.8219 - val_root_mean_squared_error: 0.8484\n",
            "Epoch 78/100\n",
            "80/80 [==============================] - 3s 43ms/step - loss: 0.1031 - root_mean_squared_error: 0.0378 - val_loss: 0.8211 - val_root_mean_squared_error: 0.8485\n",
            "Epoch 79/100\n",
            "80/80 [==============================] - 3s 43ms/step - loss: 0.1021 - root_mean_squared_error: 0.0373 - val_loss: 0.8194 - val_root_mean_squared_error: 0.8481\n",
            "Epoch 80/100\n",
            "80/80 [==============================] - 3s 43ms/step - loss: 0.1010 - root_mean_squared_error: 0.0366 - val_loss: 0.8184 - val_root_mean_squared_error: 0.8481\n",
            "Epoch 81/100\n",
            "80/80 [==============================] - 4s 44ms/step - loss: 0.1000 - root_mean_squared_error: 0.0360 - val_loss: 0.8173 - val_root_mean_squared_error: 0.8480\n",
            "Epoch 82/100\n",
            "80/80 [==============================] - 3s 43ms/step - loss: 0.0990 - root_mean_squared_error: 0.0354 - val_loss: 0.8158 - val_root_mean_squared_error: 0.8477\n",
            "Epoch 83/100\n",
            "80/80 [==============================] - 3s 43ms/step - loss: 0.0979 - root_mean_squared_error: 0.0347 - val_loss: 0.8153 - val_root_mean_squared_error: 0.8480\n",
            "Epoch 84/100\n",
            "80/80 [==============================] - 3s 43ms/step - loss: 0.0969 - root_mean_squared_error: 0.0340 - val_loss: 0.8138 - val_root_mean_squared_error: 0.8477\n",
            "Epoch 85/100\n",
            "80/80 [==============================] - 3s 42ms/step - loss: 0.0959 - root_mean_squared_error: 0.0334 - val_loss: 0.8123 - val_root_mean_squared_error: 0.8474\n",
            "Epoch 86/100\n",
            "80/80 [==============================] - 3s 43ms/step - loss: 0.0949 - root_mean_squared_error: 0.0330 - val_loss: 0.8114 - val_root_mean_squared_error: 0.8474\n",
            "Epoch 87/100\n",
            "80/80 [==============================] - 3s 44ms/step - loss: 0.0938 - root_mean_squared_error: 0.0326 - val_loss: 0.8106 - val_root_mean_squared_error: 0.8475\n",
            "Epoch 88/100\n",
            "80/80 [==============================] - 3s 42ms/step - loss: 0.0928 - root_mean_squared_error: 0.0320 - val_loss: 0.8088 - val_root_mean_squared_error: 0.8470\n",
            "Epoch 89/100\n",
            "80/80 [==============================] - 3s 43ms/step - loss: 0.0918 - root_mean_squared_error: 0.0316 - val_loss: 0.8076 - val_root_mean_squared_error: 0.8469\n",
            "Epoch 90/100\n",
            "80/80 [==============================] - 3s 44ms/step - loss: 0.0908 - root_mean_squared_error: 0.0309 - val_loss: 0.8066 - val_root_mean_squared_error: 0.8469\n",
            "Epoch 91/100\n",
            "80/80 [==============================] - 3s 42ms/step - loss: 0.0899 - root_mean_squared_error: 0.0306 - val_loss: 0.8058 - val_root_mean_squared_error: 0.8470\n",
            "Epoch 92/100\n",
            "80/80 [==============================] - 4s 44ms/step - loss: 0.0889 - root_mean_squared_error: 0.0300 - val_loss: 0.8043 - val_root_mean_squared_error: 0.8467\n",
            "Epoch 93/100\n",
            "80/80 [==============================] - 3s 43ms/step - loss: 0.0879 - root_mean_squared_error: 0.0296 - val_loss: 0.8033 - val_root_mean_squared_error: 0.8466\n",
            "Epoch 94/100\n",
            "80/80 [==============================] - 4s 44ms/step - loss: 0.0869 - root_mean_squared_error: 0.0291 - val_loss: 0.8020 - val_root_mean_squared_error: 0.8464\n",
            "Epoch 95/100\n",
            "80/80 [==============================] - 3s 43ms/step - loss: 0.0860 - root_mean_squared_error: 0.0285 - val_loss: 0.8006 - val_root_mean_squared_error: 0.8461\n",
            "Epoch 96/100\n",
            "80/80 [==============================] - 3s 43ms/step - loss: 0.0850 - root_mean_squared_error: 0.0283 - val_loss: 0.7996 - val_root_mean_squared_error: 0.8461\n",
            "Epoch 97/100\n",
            "80/80 [==============================] - 3s 43ms/step - loss: 0.0840 - root_mean_squared_error: 0.0279 - val_loss: 0.7985 - val_root_mean_squared_error: 0.8460\n",
            "Epoch 98/100\n",
            "80/80 [==============================] - 3s 43ms/step - loss: 0.0831 - root_mean_squared_error: 0.0275 - val_loss: 0.7976 - val_root_mean_squared_error: 0.8460\n",
            "Epoch 99/100\n",
            "80/80 [==============================] - 3s 43ms/step - loss: 0.0822 - root_mean_squared_error: 0.0271 - val_loss: 0.7962 - val_root_mean_squared_error: 0.8457\n",
            "Epoch 100/100\n",
            "80/80 [==============================] - 3s 43ms/step - loss: 0.0812 - root_mean_squared_error: 0.0266 - val_loss: 0.7953 - val_root_mean_squared_error: 0.8457\n"
          ]
        }
      ]
    },
    {
      "cell_type": "code",
      "metadata": {
        "colab": {
          "base_uri": "https://localhost:8080/"
        },
        "id": "b0BKvtnrEBFi",
        "outputId": "57146615-1fe2-4a3b-8676-a8311390c1fb"
      },
      "source": [
        "#Gated Recurrent Units RNN(GRU)\n",
        "model = tf.keras.Sequential([\n",
        "    tf.keras.layers.Embedding(vocab_size, embedding_dim, input_length=max_length),\n",
        "    tf.keras.layers.Bidirectional(tf.keras.layers.GRU(32)),\n",
        "    tf.keras.layers.Dense(1)\n",
        "])\n",
        "\n",
        "# Default learning rate for the Adam optimizer is 0.001\n",
        "# Let's slow down the learning rate by 10.\n",
        "learning_rate = 0.00003\n",
        "model.compile(loss='mean_squared_error',optimizer=tf.keras.optimizers.Adam(learning_rate), metrics=[RootMeanSquaredError()])\n",
        "model.summary()"
      ],
      "execution_count": 48,
      "outputs": [
        {
          "output_type": "stream",
          "name": "stdout",
          "text": [
            "Model: \"sequential_3\"\n",
            "_________________________________________________________________\n",
            "Layer (type)                 Output Shape              Param #   \n",
            "=================================================================\n",
            "embedding_3 (Embedding)      (None, 50, 64)            3266432   \n",
            "_________________________________________________________________\n",
            "bidirectional (Bidirectional (None, 64)                18816     \n",
            "_________________________________________________________________\n",
            "dense_5 (Dense)              (None, 1)                 65        \n",
            "=================================================================\n",
            "Total params: 3,285,313\n",
            "Trainable params: 3,285,313\n",
            "Non-trainable params: 0\n",
            "_________________________________________________________________\n"
          ]
        }
      ]
    },
    {
      "cell_type": "code",
      "metadata": {
        "colab": {
          "base_uri": "https://localhost:8080/"
        },
        "id": "AzOesDGCEIpV",
        "outputId": "b79dd455-fe0a-47e4-c612-1c9c9ed88831"
      },
      "source": [
        "num_epochs = 35\n",
        "history = model.fit(training_padded, training_labels_final, epochs=num_epochs, \n",
        "                    validation_split=0.1,\n",
        "                    #validation_data=(validation_padded, validation_labels_final),\n",
        "                   callbacks=[early_stopping,learning_rate_reduction])"
      ],
      "execution_count": 49,
      "outputs": [
        {
          "output_type": "stream",
          "name": "stdout",
          "text": [
            "Epoch 1/35\n",
            "80/80 [==============================] - 11s 85ms/step - loss: 1.9354 - root_mean_squared_error: 1.3912 - val_loss: 1.9729 - val_root_mean_squared_error: 1.4046\n",
            "Epoch 2/35\n",
            "80/80 [==============================] - 6s 74ms/step - loss: 1.8424 - root_mean_squared_error: 1.3574 - val_loss: 1.8833 - val_root_mean_squared_error: 1.3723\n",
            "Epoch 3/35\n",
            "80/80 [==============================] - 6s 75ms/step - loss: 1.7415 - root_mean_squared_error: 1.3196 - val_loss: 1.7836 - val_root_mean_squared_error: 1.3355\n",
            "Epoch 4/35\n",
            "80/80 [==============================] - 6s 74ms/step - loss: 1.6284 - root_mean_squared_error: 1.2761 - val_loss: 1.6733 - val_root_mean_squared_error: 1.2935\n",
            "Epoch 5/35\n",
            "80/80 [==============================] - 6s 74ms/step - loss: 1.5034 - root_mean_squared_error: 1.2261 - val_loss: 1.5520 - val_root_mean_squared_error: 1.2458\n",
            "Epoch 6/35\n",
            "80/80 [==============================] - 6s 74ms/step - loss: 1.3677 - root_mean_squared_error: 1.1695 - val_loss: 1.4260 - val_root_mean_squared_error: 1.1942\n",
            "Epoch 7/35\n",
            "80/80 [==============================] - 6s 75ms/step - loss: 1.2314 - root_mean_squared_error: 1.1097 - val_loss: 1.3083 - val_root_mean_squared_error: 1.1438\n",
            "Epoch 8/35\n",
            "80/80 [==============================] - 6s 75ms/step - loss: 1.1094 - root_mean_squared_error: 1.0533 - val_loss: 1.2150 - val_root_mean_squared_error: 1.1023\n",
            "Epoch 9/35\n",
            "80/80 [==============================] - 6s 76ms/step - loss: 1.0224 - root_mean_squared_error: 1.0111 - val_loss: 1.1638 - val_root_mean_squared_error: 1.0788\n",
            "Epoch 10/35\n",
            "80/80 [==============================] - 6s 75ms/step - loss: 0.9740 - root_mean_squared_error: 0.9869 - val_loss: 1.1393 - val_root_mean_squared_error: 1.0674\n",
            "Epoch 11/35\n",
            "80/80 [==============================] - 6s 76ms/step - loss: 0.9429 - root_mean_squared_error: 0.9710 - val_loss: 1.1209 - val_root_mean_squared_error: 1.0587\n",
            "Epoch 12/35\n",
            "80/80 [==============================] - 6s 77ms/step - loss: 0.9115 - root_mean_squared_error: 0.9547 - val_loss: 1.0997 - val_root_mean_squared_error: 1.0487\n",
            "Epoch 13/35\n",
            "80/80 [==============================] - 7s 83ms/step - loss: 0.8757 - root_mean_squared_error: 0.9358 - val_loss: 1.0744 - val_root_mean_squared_error: 1.0365\n",
            "Epoch 14/35\n",
            "80/80 [==============================] - 6s 74ms/step - loss: 0.8336 - root_mean_squared_error: 0.9130 - val_loss: 1.0445 - val_root_mean_squared_error: 1.0220\n",
            "Epoch 15/35\n",
            "80/80 [==============================] - 6s 73ms/step - loss: 0.7837 - root_mean_squared_error: 0.8853 - val_loss: 1.0075 - val_root_mean_squared_error: 1.0037\n",
            "Epoch 16/35\n",
            "80/80 [==============================] - 6s 73ms/step - loss: 0.7224 - root_mean_squared_error: 0.8499 - val_loss: 0.9623 - val_root_mean_squared_error: 0.9810\n",
            "Epoch 17/35\n",
            "80/80 [==============================] - 6s 74ms/step - loss: 0.6436 - root_mean_squared_error: 0.8023 - val_loss: 0.9014 - val_root_mean_squared_error: 0.9494\n",
            "Epoch 18/35\n",
            "80/80 [==============================] - 6s 73ms/step - loss: 0.5409 - root_mean_squared_error: 0.7355 - val_loss: 0.8254 - val_root_mean_squared_error: 0.9085\n",
            "Epoch 19/35\n",
            "80/80 [==============================] - 6s 75ms/step - loss: 0.4314 - root_mean_squared_error: 0.6568 - val_loss: 0.7706 - val_root_mean_squared_error: 0.8778\n",
            "Epoch 20/35\n",
            "80/80 [==============================] - 6s 75ms/step - loss: 0.3535 - root_mean_squared_error: 0.5946 - val_loss: 0.7528 - val_root_mean_squared_error: 0.8676\n",
            "Epoch 21/35\n",
            "80/80 [==============================] - 6s 74ms/step - loss: 0.3012 - root_mean_squared_error: 0.5488 - val_loss: 0.7514 - val_root_mean_squared_error: 0.8668\n",
            "Epoch 22/35\n",
            "80/80 [==============================] - 6s 74ms/step - loss: 0.2638 - root_mean_squared_error: 0.5136 - val_loss: 0.7515 - val_root_mean_squared_error: 0.8669\n",
            "Epoch 23/35\n",
            "80/80 [==============================] - 6s 74ms/step - loss: 0.2325 - root_mean_squared_error: 0.4821 - val_loss: 0.7553 - val_root_mean_squared_error: 0.8691\n",
            "Epoch 24/35\n",
            "80/80 [==============================] - 6s 74ms/step - loss: 0.2064 - root_mean_squared_error: 0.4543 - val_loss: 0.7549 - val_root_mean_squared_error: 0.8689\n",
            "\n",
            "Epoch 00024: ReduceLROnPlateau reducing learning rate to 1.4999999621068127e-05.\n",
            "Epoch 25/35\n",
            "80/80 [==============================] - 6s 73ms/step - loss: 0.1852 - root_mean_squared_error: 0.4304 - val_loss: 0.7589 - val_root_mean_squared_error: 0.8712\n",
            "Epoch 26/35\n",
            "80/80 [==============================] - 6s 74ms/step - loss: 0.1754 - root_mean_squared_error: 0.4188 - val_loss: 0.7622 - val_root_mean_squared_error: 0.8730\n"
          ]
        }
      ]
    },
    {
      "cell_type": "code",
      "metadata": {
        "colab": {
          "base_uri": "https://localhost:8080/"
        },
        "id": "8KofKCf5EUOb",
        "outputId": "ea98653f-03be-4f13-caf1-6ca1b33a79cf"
      },
      "source": [
        "#Bidirectional Long Short Term Memory (LSTM)\n",
        "model = tf.keras.Sequential([\n",
        "    tf.keras.layers.Embedding(vocab_size, embedding_dim, input_length=max_length),\n",
        "    tf.keras.layers.Bidirectional(tf.keras.layers.LSTM(embedding_dim)), \n",
        "    tf.keras.layers.Dense(1)\n",
        "])\n",
        "\n",
        "# Default learning rate for the Adam optimizer is 0.001\n",
        "# Let's slow down the learning rate by 10.\n",
        "learning_rate = 0.00003\n",
        "model.compile(loss='mean_squared_error',optimizer=tf.keras.optimizers.Adam(learning_rate), metrics=[RootMeanSquaredError()])\n",
        "model.summary()"
      ],
      "execution_count": 50,
      "outputs": [
        {
          "output_type": "stream",
          "name": "stdout",
          "text": [
            "Model: \"sequential_4\"\n",
            "_________________________________________________________________\n",
            "Layer (type)                 Output Shape              Param #   \n",
            "=================================================================\n",
            "embedding_4 (Embedding)      (None, 50, 64)            3266432   \n",
            "_________________________________________________________________\n",
            "bidirectional_1 (Bidirection (None, 128)               66048     \n",
            "_________________________________________________________________\n",
            "dense_6 (Dense)              (None, 1)                 129       \n",
            "=================================================================\n",
            "Total params: 3,332,609\n",
            "Trainable params: 3,332,609\n",
            "Non-trainable params: 0\n",
            "_________________________________________________________________\n"
          ]
        }
      ]
    },
    {
      "cell_type": "code",
      "metadata": {
        "colab": {
          "base_uri": "https://localhost:8080/"
        },
        "id": "oNxejacxEbt1",
        "outputId": "65c8b06a-abba-463a-ccaf-e3fc4c5052c7"
      },
      "source": [
        "num_epochs = 35\n",
        "history = model.fit(training_padded, training_labels_final, epochs=num_epochs, \n",
        "                    validation_split=0.1,\n",
        "                    #validation_data=(validation_padded, validation_labels_final),\n",
        "                   callbacks=[early_stopping,learning_rate_reduction])"
      ],
      "execution_count": 51,
      "outputs": [
        {
          "output_type": "stream",
          "name": "stdout",
          "text": [
            "Epoch 1/35\n",
            "80/80 [==============================] - 11s 98ms/step - loss: 1.9411 - root_mean_squared_error: 1.3932 - val_loss: 1.9779 - val_root_mean_squared_error: 1.4064\n",
            "Epoch 2/35\n",
            "80/80 [==============================] - 7s 87ms/step - loss: 1.8281 - root_mean_squared_error: 1.3521 - val_loss: 1.8206 - val_root_mean_squared_error: 1.3493\n",
            "Epoch 3/35\n",
            "80/80 [==============================] - 7s 86ms/step - loss: 1.4515 - root_mean_squared_error: 1.2048 - val_loss: 1.1810 - val_root_mean_squared_error: 1.0867\n",
            "Epoch 4/35\n",
            "80/80 [==============================] - 7s 90ms/step - loss: 0.9886 - root_mean_squared_error: 0.9943 - val_loss: 1.0960 - val_root_mean_squared_error: 1.0469\n",
            "Epoch 5/35\n",
            "80/80 [==============================] - 7s 88ms/step - loss: 0.8806 - root_mean_squared_error: 0.9384 - val_loss: 0.9970 - val_root_mean_squared_error: 0.9985\n",
            "Epoch 6/35\n",
            "80/80 [==============================] - 7s 89ms/step - loss: 0.7282 - root_mean_squared_error: 0.8534 - val_loss: 0.8777 - val_root_mean_squared_error: 0.9368\n",
            "Epoch 7/35\n",
            "80/80 [==============================] - 7s 89ms/step - loss: 0.5706 - root_mean_squared_error: 0.7554 - val_loss: 0.8137 - val_root_mean_squared_error: 0.9021\n",
            "Epoch 8/35\n",
            "80/80 [==============================] - 7s 90ms/step - loss: 0.4573 - root_mean_squared_error: 0.6762 - val_loss: 0.8040 - val_root_mean_squared_error: 0.8966\n",
            "Epoch 9/35\n",
            "80/80 [==============================] - 7s 88ms/step - loss: 0.3842 - root_mean_squared_error: 0.6198 - val_loss: 0.8102 - val_root_mean_squared_error: 0.9001\n",
            "Epoch 10/35\n",
            "80/80 [==============================] - 7s 90ms/step - loss: 0.3239 - root_mean_squared_error: 0.5691 - val_loss: 0.8174 - val_root_mean_squared_error: 0.9041\n",
            "Epoch 11/35\n",
            "80/80 [==============================] - 7s 91ms/step - loss: 0.2781 - root_mean_squared_error: 0.5273 - val_loss: 0.8342 - val_root_mean_squared_error: 0.9133\n",
            "\n",
            "Epoch 00011: ReduceLROnPlateau reducing learning rate to 1.4999999621068127e-05.\n",
            "Epoch 12/35\n",
            "80/80 [==============================] - 7s 89ms/step - loss: 0.2411 - root_mean_squared_error: 0.4910 - val_loss: 0.8480 - val_root_mean_squared_error: 0.9209\n",
            "Epoch 13/35\n",
            "80/80 [==============================] - 7s 89ms/step - loss: 0.2249 - root_mean_squared_error: 0.4743 - val_loss: 0.8548 - val_root_mean_squared_error: 0.9245\n"
          ]
        }
      ]
    },
    {
      "cell_type": "code",
      "metadata": {
        "colab": {
          "base_uri": "https://localhost:8080/"
        },
        "id": "rv-2bm30Ek7x",
        "outputId": "69f7d71d-bcbd-463e-ae9d-b14c8fc9cc38"
      },
      "source": [
        "#Multiple Bidirectional Long Short Term Memory (LSTM)\n",
        "model = tf.keras.Sequential([\n",
        "    tf.keras.layers.Embedding(vocab_size, embedding_dim, input_length=max_length),\n",
        "    tf.keras.layers.Bidirectional(tf.keras.layers.LSTM(embedding_dim, \n",
        "                                                       return_sequences=True)),\n",
        "    tf.keras.layers.Bidirectional(tf.keras.layers.LSTM(embedding_dim)),\n",
        "    tf.keras.layers.Dense(1)\n",
        "])\n",
        "\n",
        "# Default learning rate for the Adam optimizer is 0.001\n",
        "# Let's slow down the learning rate by 10.\n",
        "learning_rate = 0.00003\n",
        "model.compile(loss='mean_squared_error',optimizer=tf.keras.optimizers.Adam(learning_rate), metrics=[RootMeanSquaredError()])\n",
        "model.summary()"
      ],
      "execution_count": 52,
      "outputs": [
        {
          "output_type": "stream",
          "name": "stdout",
          "text": [
            "Model: \"sequential_5\"\n",
            "_________________________________________________________________\n",
            "Layer (type)                 Output Shape              Param #   \n",
            "=================================================================\n",
            "embedding_5 (Embedding)      (None, 50, 64)            3266432   \n",
            "_________________________________________________________________\n",
            "bidirectional_2 (Bidirection (None, 50, 128)           66048     \n",
            "_________________________________________________________________\n",
            "bidirectional_3 (Bidirection (None, 128)               98816     \n",
            "_________________________________________________________________\n",
            "dense_7 (Dense)              (None, 1)                 129       \n",
            "=================================================================\n",
            "Total params: 3,431,425\n",
            "Trainable params: 3,431,425\n",
            "Non-trainable params: 0\n",
            "_________________________________________________________________\n"
          ]
        }
      ]
    },
    {
      "cell_type": "code",
      "metadata": {
        "colab": {
          "base_uri": "https://localhost:8080/"
        },
        "id": "wOhswTuSErw7",
        "outputId": "15945011-cb55-4e3f-98c7-36e9cf4fff8d"
      },
      "source": [
        "num_epochs = 35\n",
        "history = model.fit(training_padded, training_labels_final, epochs=num_epochs, \n",
        "                    validation_split=0.1,\n",
        "                    #validation_data=(validation_padded, validation_labels_final),\n",
        "                   callbacks=[early_stopping,learning_rate_reduction])"
      ],
      "execution_count": 53,
      "outputs": [
        {
          "output_type": "stream",
          "name": "stdout",
          "text": [
            "Epoch 1/35\n",
            "80/80 [==============================] - 20s 165ms/step - loss: 1.9124 - root_mean_squared_error: 1.3829 - val_loss: 1.8910 - val_root_mean_squared_error: 1.3751\n",
            "Epoch 2/35\n",
            "80/80 [==============================] - 12s 149ms/step - loss: 1.5054 - root_mean_squared_error: 1.2270 - val_loss: 1.1932 - val_root_mean_squared_error: 1.0923\n",
            "Epoch 3/35\n",
            "80/80 [==============================] - 12s 146ms/step - loss: 1.0287 - root_mean_squared_error: 1.0143 - val_loss: 1.1258 - val_root_mean_squared_error: 1.0610\n",
            "Epoch 4/35\n",
            "80/80 [==============================] - 12s 148ms/step - loss: 0.9535 - root_mean_squared_error: 0.9765 - val_loss: 1.0483 - val_root_mean_squared_error: 1.0238\n",
            "Epoch 5/35\n",
            "80/80 [==============================] - 12s 148ms/step - loss: 0.8362 - root_mean_squared_error: 0.9144 - val_loss: 0.9121 - val_root_mean_squared_error: 0.9551\n",
            "Epoch 6/35\n",
            "80/80 [==============================] - 12s 148ms/step - loss: 0.6385 - root_mean_squared_error: 0.7991 - val_loss: 0.7727 - val_root_mean_squared_error: 0.8790\n",
            "Epoch 7/35\n",
            "80/80 [==============================] - 12s 147ms/step - loss: 0.4834 - root_mean_squared_error: 0.6952 - val_loss: 0.7405 - val_root_mean_squared_error: 0.8605\n",
            "Epoch 8/35\n",
            "80/80 [==============================] - 12s 147ms/step - loss: 0.3930 - root_mean_squared_error: 0.6269 - val_loss: 0.7246 - val_root_mean_squared_error: 0.8513\n",
            "Epoch 9/35\n",
            "80/80 [==============================] - 12s 149ms/step - loss: 0.3234 - root_mean_squared_error: 0.5687 - val_loss: 0.7187 - val_root_mean_squared_error: 0.8478\n",
            "Epoch 10/35\n",
            "80/80 [==============================] - 12s 149ms/step - loss: 0.2693 - root_mean_squared_error: 0.5189 - val_loss: 0.7198 - val_root_mean_squared_error: 0.8484\n",
            "Epoch 11/35\n",
            "80/80 [==============================] - 12s 149ms/step - loss: 0.2249 - root_mean_squared_error: 0.4742 - val_loss: 0.7216 - val_root_mean_squared_error: 0.8495\n",
            "Epoch 12/35\n",
            "80/80 [==============================] - 12s 149ms/step - loss: 0.1878 - root_mean_squared_error: 0.4334 - val_loss: 0.7306 - val_root_mean_squared_error: 0.8548\n",
            "\n",
            "Epoch 00012: ReduceLROnPlateau reducing learning rate to 1.4999999621068127e-05.\n",
            "Epoch 13/35\n",
            "80/80 [==============================] - 12s 148ms/step - loss: 0.1588 - root_mean_squared_error: 0.3985 - val_loss: 0.7360 - val_root_mean_squared_error: 0.8579\n",
            "Epoch 14/35\n",
            "80/80 [==============================] - 12s 149ms/step - loss: 0.1456 - root_mean_squared_error: 0.3815 - val_loss: 0.7416 - val_root_mean_squared_error: 0.8612\n"
          ]
        }
      ]
    },
    {
      "cell_type": "code",
      "metadata": {
        "id": "cy9qtNBQE3kr"
      },
      "source": [
        "#Exploring Hyper Parameter Tuning with Keras\n",
        "#Let's define a function to build our model. Try optimizing units and learning rate.\n",
        "def model_builder(hp):\n",
        "  model = keras.Sequential()\n",
        "  model.add(tf.keras.layers.Embedding(vocab_size, embedding_dim, input_length=max_length))\n",
        "\n",
        "  # Tune the number of units in the first Dense layer\n",
        "  # Choose an optimal value between 32-512\n",
        "  hp_units = hp.Int('units', min_value=16, max_value=256, step=8)\n",
        "  model.add(keras.layers.Dense(units=hp_units, activation='relu'))\n",
        "  model.add(keras.layers.Dense(1))\n",
        "\n",
        "  # Tune the learning rate for the optimizer\n",
        "  # Choose an optimal value from 0.01, 0.001, or 0.0001\n",
        "  hp_learning_rate = hp.Choice('learning_rate', values=[1e-3, 1e-4])\n",
        "\n",
        "  model.compile(optimizer=keras.optimizers.Adam(learning_rate=hp_learning_rate),\n",
        "                loss=keras.losses.MeanSquaredError(),\n",
        "                metrics=[RootMeanSquaredError()])\n",
        "\n",
        "  return model"
      ],
      "execution_count": 54,
      "outputs": []
    },
    {
      "cell_type": "code",
      "metadata": {
        "id": "CNp08SJAFAas"
      },
      "source": [
        "tuner_search=kt.RandomSearch(model_builder,\n",
        "                       objective = kt.Objective(\"val_root_mean_squared_error\", direction=\"min\"),\n",
        "                       max_trials=5,directory='output',project_name=\"nlp\")"
      ],
      "execution_count": 58,
      "outputs": []
    },
    {
      "cell_type": "code",
      "metadata": {
        "colab": {
          "base_uri": "https://localhost:8080/"
        },
        "id": "WXpT6njeFjun",
        "outputId": "38a4e03f-640d-41a0-be15-5cf518ee1ee9"
      },
      "source": [
        "tuner_search.search(training_padded,training_labels_final,epochs=10,validation_split=0.1)"
      ],
      "execution_count": 59,
      "outputs": [
        {
          "output_type": "stream",
          "name": "stdout",
          "text": [
            "Trial 5 Complete [00h 00m 39s]\n",
            "val_root_mean_squared_error: 1.0308570861816406\n",
            "\n",
            "Best val_root_mean_squared_error So Far: 1.0225557088851929\n",
            "Total elapsed time: 00h 02m 52s\n",
            "INFO:tensorflow:Oracle triggered exit\n"
          ]
        }
      ]
    },
    {
      "cell_type": "code",
      "metadata": {
        "id": "Ma1LmlbKF0_c"
      },
      "source": [
        "#Hyperband\n",
        "tuner = kt.Hyperband(model_builder,\n",
        "                     max_epochs=10,\n",
        "                     objective = kt.Objective(\"val_root_mean_squared_error\", direction=\"min\"),\n",
        "                     factor=3,\n",
        "                     directory='my_dir',\n",
        "                     project_name='intro_to_kt')"
      ],
      "execution_count": 60,
      "outputs": []
    },
    {
      "cell_type": "code",
      "metadata": {
        "id": "bPqjs8wHGYCB"
      },
      "source": [
        "stop_early = tf.keras.callbacks.EarlyStopping(monitor='val_loss', patience=5)\n"
      ],
      "execution_count": 61,
      "outputs": []
    },
    {
      "cell_type": "code",
      "metadata": {
        "colab": {
          "base_uri": "https://localhost:8080/"
        },
        "id": "_R-vZIoyGb0h",
        "outputId": "60830ecf-72e9-4a5b-8228-faffaacc3246"
      },
      "source": [
        "tuner.search(training_padded, training_labels_final, epochs=5, validation_split=0.1, callbacks=[stop_early])\n",
        "# Get the optimal hyperparameters\n",
        "best_hps=tuner.get_best_hyperparameters(num_trials=1)[0]\n",
        "print(f\"\"\"The hyperparameter search is complete. The optimal number of units in the first densely-connected layer is {best_hps.get('units')} and the optimal learning rate for the optimizeris {best_hps.get('learning_rate')}.\"\"\")"
      ],
      "execution_count": 62,
      "outputs": [
        {
          "output_type": "stream",
          "name": "stdout",
          "text": [
            "Trial 30 Complete [00h 00m 23s]\n",
            "val_root_mean_squared_error: 1.024280071258545\n",
            "\n",
            "Best val_root_mean_squared_error So Far: 1.0225090980529785\n",
            "Total elapsed time: 00h 08m 24s\n",
            "INFO:tensorflow:Oracle triggered exit\n",
            "The hyperparameter search is complete. The optimal number of units in the first densely-connected layer is 232 and the optimal learning rate for the optimizeris 0.001.\n"
          ]
        }
      ]
    },
    {
      "cell_type": "code",
      "metadata": {
        "id": "Mekl_EMuGj_M"
      },
      "source": [
        "#Glove Embeddings\n",
        "glove_embeddings = dict()\n",
        "f = open('glove.6B.50d.txt')\n",
        "for line in f:\n",
        " values = line.split()\n",
        " word = values[0]\n",
        " coefs = np.asarray(values[1:], dtype='float32')\n",
        " glove_embeddings[word] = coefs\n",
        "f.close()"
      ],
      "execution_count": 64,
      "outputs": []
    },
    {
      "cell_type": "code",
      "metadata": {
        "id": "F09Cm3B0GyEB"
      },
      "source": [
        "# this function creates a normalized vector for the whole sentence\n",
        "def sent2vec(s):\n",
        "    words = str(s).lower()\n",
        "    words = word_tokenize(words)\n",
        "    words = [w for w in words if not w in stop_words]\n",
        "    words = [w for w in words if w.isalpha()]\n",
        "    M = []\n",
        "    for w in words:\n",
        "        try:\n",
        "            M.append(glove_embeddings[w])\n",
        "        except:\n",
        "            continue\n",
        "    M = np.array(M)\n",
        "    v = M.sum(axis=0)\n",
        "    if type(v) != np.ndarray:\n",
        "        return np.zeros(50)\n",
        "    return v / np.sqrt((v ** 2).sum())"
      ],
      "execution_count": 65,
      "outputs": []
    },
    {
      "cell_type": "code",
      "metadata": {
        "id": "Y9E05OpdG0HX"
      },
      "source": [
        "#Extreme Gradient Boosting Regressor\n",
        "xtrain, xvalid, ytrain, yvalid = train_test_split(df_train.excerpt_clean, df_train.target, \n",
        " \n",
        "                                                  random_state=42, \n",
        "                                                  test_size=0.1, shuffle=True)"
      ],
      "execution_count": 66,
      "outputs": []
    },
    {
      "cell_type": "code",
      "metadata": {
        "id": "32LkhhkbG8qD"
      },
      "source": [
        "# create sentence vectors using the above function for training and validation set\n",
        "xtrain_glove = [sent2vec(x) for x in xtrain]\n",
        "xvalid_glove = [sent2vec(x) for x in xvalid]"
      ],
      "execution_count": 69,
      "outputs": []
    },
    {
      "cell_type": "code",
      "metadata": {
        "id": "lb5nmTb7G9TO"
      },
      "source": [
        "xtrain_glove = np.array(xtrain_glove)\n",
        "xvalid_glove = np.array(xvalid_glove)"
      ],
      "execution_count": 70,
      "outputs": []
    },
    {
      "cell_type": "code",
      "metadata": {
        "colab": {
          "base_uri": "https://localhost:8080/"
        },
        "id": "K2fmxOjIG_pb",
        "outputId": "ad39ee88-a38b-4706-ec38-0e79df748cd9"
      },
      "source": [
        "# Fitting a simple xgboost on glove features\n",
        "clf = xgb.XGBRegressor(max_depth=7, n_estimators=200, colsample_bytree=0.8, \n",
        "                        subsample=0.8, nthread=10, learning_rate=0.1, silent=False)\n",
        "clf.fit(xtrain_glove, ytrain)\n",
        "predictions = clf.predict(xvalid_glove)\n",
        "\n",
        "print (\"MSE: %f \" % mse(yvalid, predictions))"
      ],
      "execution_count": 71,
      "outputs": [
        {
          "output_type": "stream",
          "name": "stdout",
          "text": [
            "[14:53:09] WARNING: /workspace/src/objective/regression_obj.cu:152: reg:linear is now deprecated in favor of reg:squarederror.\n",
            "MSE: 0.619243 \n"
          ]
        }
      ]
    },
    {
      "cell_type": "code",
      "metadata": {
        "id": "tQG3RvBGHMKM"
      },
      "source": [
        "#GloVe Stacked LSTM\n",
        "embedding_dim = 50\n",
        "vocab_size = 51308"
      ],
      "execution_count": 72,
      "outputs": []
    },
    {
      "cell_type": "code",
      "metadata": {
        "id": "5ndINPZ8HP9r"
      },
      "source": [
        "embedding_matrix = np.zeros((vocab_size, embedding_dim))\n",
        "for word, index in tokenizer.word_index.items():\n",
        " if index > vocab_size - 1:\n",
        "     break\n",
        " else:\n",
        "     embedding_vector = glove_embeddings.get(word)\n",
        " if embedding_vector is not None:\n",
        "     embedding_matrix[index] = embedding_vector"
      ],
      "execution_count": 73,
      "outputs": []
    },
    {
      "cell_type": "code",
      "metadata": {
        "id": "nyCMsvQJHUCH"
      },
      "source": [
        "model = tf.keras.Sequential([\n",
        " tf.keras.layers.Embedding(vocab_size, embedding_dim, weights=[embedding_matrix], trainable=False),\n",
        " tf.keras.layers.Bidirectional(tf.keras.layers.LSTM(embedding_dim,\n",
        " return_sequences=True)),\n",
        " tf.keras.layers.Bidirectional(tf.keras.layers.LSTM(embedding_dim)),\n",
        " tf.keras.layers.Dense(24, activation='relu'),\n",
        " tf.keras.layers.Dense(1)\n",
        "])"
      ],
      "execution_count": 74,
      "outputs": []
    },
    {
      "cell_type": "code",
      "metadata": {
        "colab": {
          "base_uri": "https://localhost:8080/"
        },
        "id": "SvcK-3nuHWKN",
        "outputId": "34c6c7f1-c720-45d5-afff-5cca3fa61ab1"
      },
      "source": [
        "learning_rate = 0.00003\n",
        "model.compile(loss='mean_squared_error',optimizer=tf.keras.optimizers.Adam(learning_rate), metrics=[RootMeanSquaredError()])\n",
        "model.summary()"
      ],
      "execution_count": 75,
      "outputs": [
        {
          "output_type": "stream",
          "name": "stdout",
          "text": [
            "Model: \"sequential_1\"\n",
            "_________________________________________________________________\n",
            "Layer (type)                 Output Shape              Param #   \n",
            "=================================================================\n",
            "embedding_1 (Embedding)      (None, None, 50)          2565400   \n",
            "_________________________________________________________________\n",
            "bidirectional (Bidirectional (None, None, 100)         40400     \n",
            "_________________________________________________________________\n",
            "bidirectional_1 (Bidirection (None, 100)               60400     \n",
            "_________________________________________________________________\n",
            "dense_2 (Dense)              (None, 24)                2424      \n",
            "_________________________________________________________________\n",
            "dense_3 (Dense)              (None, 1)                 25        \n",
            "=================================================================\n",
            "Total params: 2,668,649\n",
            "Trainable params: 103,249\n",
            "Non-trainable params: 2,565,400\n",
            "_________________________________________________________________\n"
          ]
        }
      ]
    },
    {
      "cell_type": "code",
      "metadata": {
        "colab": {
          "base_uri": "https://localhost:8080/"
        },
        "id": "ZCUZWnl5HXH1",
        "outputId": "5910632a-57b1-43ed-a7f1-c26a7a3265bf"
      },
      "source": [
        "num_epochs = 100\n",
        "history = model.fit(training_padded, training_labels_final, epochs=num_epochs, \n",
        "                    validation_split=0.3,\n",
        "                    #validation_data=(validation_padded, validation_labels_final),\n",
        "                   callbacks=[early_stopping,learning_rate_reduction])"
      ],
      "execution_count": 76,
      "outputs": [
        {
          "output_type": "stream",
          "name": "stdout",
          "text": [
            "Epoch 1/100\n",
            "62/62 [==============================] - 15s 134ms/step - loss: 1.9518 - root_mean_squared_error: 1.3971 - val_loss: 1.3822 - val_root_mean_squared_error: 1.1757\n",
            "Epoch 2/100\n",
            "62/62 [==============================] - 6s 98ms/step - loss: 1.4963 - root_mean_squared_error: 1.2232 - val_loss: 1.0985 - val_root_mean_squared_error: 1.0481\n",
            "Epoch 3/100\n",
            "62/62 [==============================] - 6s 97ms/step - loss: 1.2681 - root_mean_squared_error: 1.1261 - val_loss: 1.0216 - val_root_mean_squared_error: 1.0108\n",
            "Epoch 4/100\n",
            "62/62 [==============================] - 6s 96ms/step - loss: 1.1761 - root_mean_squared_error: 1.0845 - val_loss: 0.9721 - val_root_mean_squared_error: 0.9859\n",
            "Epoch 5/100\n",
            "62/62 [==============================] - 6s 99ms/step - loss: 1.1006 - root_mean_squared_error: 1.0491 - val_loss: 0.9124 - val_root_mean_squared_error: 0.9552\n",
            "Epoch 6/100\n",
            "62/62 [==============================] - 6s 97ms/step - loss: 1.0172 - root_mean_squared_error: 1.0086 - val_loss: 0.8484 - val_root_mean_squared_error: 0.9211\n",
            "Epoch 7/100\n",
            "62/62 [==============================] - 6s 99ms/step - loss: 0.9295 - root_mean_squared_error: 0.9641 - val_loss: 0.7938 - val_root_mean_squared_error: 0.8910\n",
            "Epoch 8/100\n",
            "62/62 [==============================] - 6s 98ms/step - loss: 0.8500 - root_mean_squared_error: 0.9219 - val_loss: 0.7489 - val_root_mean_squared_error: 0.8654\n",
            "Epoch 9/100\n",
            "62/62 [==============================] - 6s 98ms/step - loss: 0.7909 - root_mean_squared_error: 0.8893 - val_loss: 0.7384 - val_root_mean_squared_error: 0.8593\n",
            "Epoch 10/100\n",
            "62/62 [==============================] - 6s 96ms/step - loss: 0.7412 - root_mean_squared_error: 0.8609 - val_loss: 0.7085 - val_root_mean_squared_error: 0.8417\n",
            "Epoch 11/100\n",
            "62/62 [==============================] - 6s 98ms/step - loss: 0.7025 - root_mean_squared_error: 0.8381 - val_loss: 0.6877 - val_root_mean_squared_error: 0.8293\n",
            "Epoch 12/100\n",
            "62/62 [==============================] - 6s 97ms/step - loss: 0.6700 - root_mean_squared_error: 0.8185 - val_loss: 0.6509 - val_root_mean_squared_error: 0.8068\n",
            "Epoch 13/100\n",
            "62/62 [==============================] - 6s 99ms/step - loss: 0.6452 - root_mean_squared_error: 0.8032 - val_loss: 0.6470 - val_root_mean_squared_error: 0.8043\n",
            "Epoch 14/100\n",
            "62/62 [==============================] - 6s 96ms/step - loss: 0.6266 - root_mean_squared_error: 0.7916 - val_loss: 0.6195 - val_root_mean_squared_error: 0.7871\n",
            "Epoch 15/100\n",
            "62/62 [==============================] - 6s 96ms/step - loss: 0.6100 - root_mean_squared_error: 0.7810 - val_loss: 0.6160 - val_root_mean_squared_error: 0.7849\n",
            "Epoch 16/100\n",
            "62/62 [==============================] - 6s 98ms/step - loss: 0.5981 - root_mean_squared_error: 0.7734 - val_loss: 0.6040 - val_root_mean_squared_error: 0.7772\n",
            "Epoch 17/100\n",
            "62/62 [==============================] - 6s 99ms/step - loss: 0.5881 - root_mean_squared_error: 0.7669 - val_loss: 0.6133 - val_root_mean_squared_error: 0.7831\n",
            "Epoch 18/100\n",
            "62/62 [==============================] - 6s 97ms/step - loss: 0.5806 - root_mean_squared_error: 0.7619 - val_loss: 0.5922 - val_root_mean_squared_error: 0.7695\n",
            "Epoch 19/100\n",
            "62/62 [==============================] - 6s 96ms/step - loss: 0.5722 - root_mean_squared_error: 0.7564 - val_loss: 0.6054 - val_root_mean_squared_error: 0.7781\n",
            "Epoch 20/100\n",
            "62/62 [==============================] - 6s 97ms/step - loss: 0.5686 - root_mean_squared_error: 0.7541 - val_loss: 0.5894 - val_root_mean_squared_error: 0.7678\n",
            "Epoch 21/100\n",
            "62/62 [==============================] - 6s 98ms/step - loss: 0.5639 - root_mean_squared_error: 0.7510 - val_loss: 0.5881 - val_root_mean_squared_error: 0.7668\n",
            "Epoch 22/100\n",
            "62/62 [==============================] - 6s 96ms/step - loss: 0.5585 - root_mean_squared_error: 0.7473 - val_loss: 0.5933 - val_root_mean_squared_error: 0.7703\n",
            "Epoch 23/100\n",
            "62/62 [==============================] - 6s 98ms/step - loss: 0.5559 - root_mean_squared_error: 0.7456 - val_loss: 0.5847 - val_root_mean_squared_error: 0.7646\n",
            "Epoch 24/100\n",
            "62/62 [==============================] - 6s 97ms/step - loss: 0.5520 - root_mean_squared_error: 0.7429 - val_loss: 0.5852 - val_root_mean_squared_error: 0.7650\n",
            "Epoch 25/100\n",
            "62/62 [==============================] - 6s 97ms/step - loss: 0.5468 - root_mean_squared_error: 0.7394 - val_loss: 0.5860 - val_root_mean_squared_error: 0.7655\n",
            "Epoch 26/100\n",
            "62/62 [==============================] - 6s 97ms/step - loss: 0.5446 - root_mean_squared_error: 0.7380 - val_loss: 0.5823 - val_root_mean_squared_error: 0.7631\n",
            "Epoch 27/100\n",
            "62/62 [==============================] - 6s 96ms/step - loss: 0.5431 - root_mean_squared_error: 0.7369 - val_loss: 0.5852 - val_root_mean_squared_error: 0.7650\n",
            "Epoch 28/100\n",
            "62/62 [==============================] - 6s 97ms/step - loss: 0.5384 - root_mean_squared_error: 0.7337 - val_loss: 0.5834 - val_root_mean_squared_error: 0.7638\n",
            "Epoch 29/100\n",
            "62/62 [==============================] - 6s 99ms/step - loss: 0.5365 - root_mean_squared_error: 0.7325 - val_loss: 0.5789 - val_root_mean_squared_error: 0.7608\n",
            "Epoch 30/100\n",
            "62/62 [==============================] - 6s 95ms/step - loss: 0.5336 - root_mean_squared_error: 0.7305 - val_loss: 0.5813 - val_root_mean_squared_error: 0.7624\n",
            "Epoch 31/100\n",
            "62/62 [==============================] - 6s 96ms/step - loss: 0.5307 - root_mean_squared_error: 0.7285 - val_loss: 0.5819 - val_root_mean_squared_error: 0.7628\n",
            "Epoch 32/100\n",
            "62/62 [==============================] - 6s 96ms/step - loss: 0.5275 - root_mean_squared_error: 0.7263 - val_loss: 0.5797 - val_root_mean_squared_error: 0.7614\n",
            "\n",
            "Epoch 00032: ReduceLROnPlateau reducing learning rate to 1.4999999621068127e-05.\n",
            "Epoch 33/100\n",
            "62/62 [==============================] - 6s 98ms/step - loss: 0.5247 - root_mean_squared_error: 0.7244 - val_loss: 0.5810 - val_root_mean_squared_error: 0.7622\n",
            "Epoch 34/100\n",
            "62/62 [==============================] - 6s 97ms/step - loss: 0.5217 - root_mean_squared_error: 0.7223 - val_loss: 0.5795 - val_root_mean_squared_error: 0.7612\n"
          ]
        }
      ]
    },
    {
      "cell_type": "code",
      "metadata": {
        "colab": {
          "base_uri": "https://localhost:8080/",
          "height": 145,
          "referenced_widgets": [
            "d6134efdcfdf4f0eb9d161644e1e6e77",
            "3fb5ccb6823c4f58a12db46e49f63bea",
            "34916987a55c4313977c1e3798126aed",
            "bdfa4024a5034df3a6196cedafd79ef6",
            "478dc9d768db4fea99d204fb76d28f9b",
            "ee2f0896512341179d8e273ff1f88f9b",
            "28054fd055f3451496d8c2b6a5dcff34",
            "55695ad958f946f89162ee9d1027578e",
            "c3d722831a8b4ce18549b20aee4be0b2",
            "5305d47d30a64091a7e9c6424ae8c208",
            "6151518cf176482eb0317c2789db0c38",
            "f343e3ece7094bf89113bd6a66415cab",
            "a313e10695da4290a27b5b119340b1e2",
            "48cb3c53148f43fa9b6f87e2d78b1116",
            "ea6279968c9240ac81a0d66b9919b3ac",
            "acf4ef95420b4aac89d41775765a9741",
            "cf0fb7f8986b4f6da4f232283235c37f",
            "07e65f20132b4aa18376d7c2ab39010e",
            "4f94a71cd3874635aa54c26a3067d360",
            "689da93d77b74e219e68ae0e75c77e2b",
            "b4e977cd71894f55acc1358abfd68312",
            "1c0fa7ba776c46c7be40b77f998747dd",
            "60bb4443a5f14652b411002748f1aca9",
            "d9a8122728de4258b2236503f4791186",
            "23590ee070c5458b95880ca28d687313",
            "fbf54c55224c48f88257cfef718e218b",
            "a5d44b1a1df149529ebccede915fcbda",
            "4ee8c922966e4c248d3372bad7391982",
            "76e60c1336f04e138a586330645639fe",
            "084adca8ca3440088a58fbceadf8e500",
            "7024497307984895b28499dd808009b0",
            "ff4b314be54144b0956e5fb719536c5d",
            "32789bd15bca45deb4f142fdbceeb746",
            "f82958f4ab1c43b9b5658ea262a7dec6",
            "ed3defba92254cca982097de0312a343",
            "d31e7db13f6240c18631c06c51226571",
            "87792fad38b8436589dcd48b71ee25a0",
            "8ccfa0ebc82949cd93ba62ca5549b482",
            "f2f861ade5b74065b655324e625fd073",
            "79a4be10b7044d369d5db55b821db376",
            "3d1895c2935b445dad421bb53850b0b7",
            "cabc4d75948b4143b4eb2f936d8b59be",
            "c885cba0e2f0477d849b8edb8543ef05",
            "c7de6448f08c4e798d67ccbe5094e389"
          ]
        },
        "id": "-QDVZtALJ_Sn",
        "outputId": "2ef805b4-d996-4f8f-fd3f-bed649072fbe"
      },
      "source": [
        "#HuggingFace TFBertModel\n",
        "tokenizer = BertTokenizer.from_pretrained('bert-large-uncased', do_lower_case=True)"
      ],
      "execution_count": 77,
      "outputs": [
        {
          "output_type": "display_data",
          "data": {
            "application/vnd.jupyter.widget-view+json": {
              "model_id": "d6134efdcfdf4f0eb9d161644e1e6e77",
              "version_minor": 0,
              "version_major": 2
            },
            "text/plain": [
              "Downloading:   0%|          | 0.00/226k [00:00<?, ?B/s]"
            ]
          },
          "metadata": {}
        },
        {
          "output_type": "display_data",
          "data": {
            "application/vnd.jupyter.widget-view+json": {
              "model_id": "f343e3ece7094bf89113bd6a66415cab",
              "version_minor": 0,
              "version_major": 2
            },
            "text/plain": [
              "Downloading:   0%|          | 0.00/28.0 [00:00<?, ?B/s]"
            ]
          },
          "metadata": {}
        },
        {
          "output_type": "display_data",
          "data": {
            "application/vnd.jupyter.widget-view+json": {
              "model_id": "60bb4443a5f14652b411002748f1aca9",
              "version_minor": 0,
              "version_major": 2
            },
            "text/plain": [
              "Downloading:   0%|          | 0.00/455k [00:00<?, ?B/s]"
            ]
          },
          "metadata": {}
        },
        {
          "output_type": "display_data",
          "data": {
            "application/vnd.jupyter.widget-view+json": {
              "model_id": "f82958f4ab1c43b9b5658ea262a7dec6",
              "version_minor": 0,
              "version_major": 2
            },
            "text/plain": [
              "Downloading:   0%|          | 0.00/571 [00:00<?, ?B/s]"
            ]
          },
          "metadata": {}
        }
      ]
    },
    {
      "cell_type": "code",
      "metadata": {
        "id": "1TRcPQkaKS7q"
      },
      "source": [
        "def bert_encode(data,maximum_length) :\n",
        "  input_ids = []\n",
        "  attention_masks = []\n",
        "  \n",
        "\n",
        "  for i in range(len(data.excerpt)):\n",
        "      encoded = tokenizer.encode_plus(\n",
        "        \n",
        "        data.excerpt[i],\n",
        "        add_special_tokens=True,\n",
        "        max_length=maximum_length,\n",
        "        pad_to_max_length=True,\n",
        "        \n",
        "        return_attention_mask=True,\n",
        "        \n",
        "      )\n",
        "      \n",
        "      input_ids.append(encoded['input_ids'])\n",
        "      attention_masks.append(encoded['attention_mask'])\n",
        "  return np.array(input_ids),np.array(attention_masks)"
      ],
      "execution_count": 78,
      "outputs": []
    },
    {
      "cell_type": "code",
      "metadata": {
        "colab": {
          "base_uri": "https://localhost:8080/"
        },
        "id": "A4AVEnKEKT0c",
        "outputId": "0a1d5d52-e4c9-4114-c93f-99545920c274"
      },
      "source": [
        "train_input_ids,train_attention_masks = bert_encode(df_train,60)\n",
        "test_input_ids,test_attention_masks = bert_encode(df_test,60)"
      ],
      "execution_count": 79,
      "outputs": [
        {
          "output_type": "stream",
          "name": "stderr",
          "text": [
            "Truncation was not explicitly activated but `max_length` is provided a specific value, please use `truncation=True` to explicitly truncate examples to max length. Defaulting to 'longest_first' truncation strategy. If you encode pairs of sequences (GLUE-style) with the tokenizer you can select this strategy more precisely by providing a specific strategy to `truncation`.\n",
            "/usr/local/lib/python3.7/dist-packages/transformers/tokenization_utils_base.py:2218: FutureWarning: The `pad_to_max_length` argument is deprecated and will be removed in a future version, use `padding=True` or `padding='longest'` to pad to the longest sequence in the batch, or use `padding='max_length'` to pad to a max length. In this case, you can give a specific length with `max_length` (e.g. `max_length=45`) or leave max_length to None to pad to the maximal input size of the model (e.g. 512 for Bert).\n",
            "  FutureWarning,\n"
          ]
        }
      ]
    },
    {
      "cell_type": "code",
      "metadata": {
        "id": "NmCvCu9PKspj"
      },
      "source": [
        "def create_model(bert_model):\n",
        "  input_ids = tf.keras.Input(shape=(60,),dtype='int32')\n",
        "  attention_masks = tf.keras.Input(shape=(60,),dtype='int32')\n",
        "  \n",
        "  output = bert_model([input_ids,attention_masks])\n",
        "  output = output[1]\n",
        "  #output = tf.keras.layers.Dense(32,activation='relu')(output)\n",
        "  #output = tf.keras.layers.Dropout(0.2)(output)\n",
        "\n",
        "  output = tf.keras.layers.Dense(1)(output)\n",
        "  model = tf.keras.models.Model(inputs = [input_ids,attention_masks],outputs = output)\n",
        "  model.compile(tf.keras.optimizers.Adam(lr=6e-6), loss='mean_squared_error', metrics=[RootMeanSquaredError()])\n",
        "  return model"
      ],
      "execution_count": 80,
      "outputs": []
    },
    {
      "cell_type": "code",
      "metadata": {
        "colab": {
          "base_uri": "https://localhost:8080/",
          "height": 154,
          "referenced_widgets": [
            "ebaa49ff022844b698f7247eb751cb23",
            "a84a46cfdbbc46d893aaa130ddef055f",
            "47ffe577b78345688ad9c5088b92d126",
            "0a54e24f5bfb42758a263d2525ab222d",
            "fdc35234b2114ae9a394afe20fba2c57",
            "5b0009425cf64356893eded4c2b6c5e3",
            "7bacd3aadeb34e7cadaa9fa02fad52bb",
            "b0e95b19c7574e9c9a7cf2c4f799367f",
            "87a4b6758b294c8b921e73304f4fa382",
            "9e80da85ccaa4848b0080e0069900ea5",
            "c0f8f7f02b7b43ed8551e723eaa9ed66"
          ]
        },
        "id": "3sLTIAseKvnl",
        "outputId": "cc41d2af-9143-444a-ffb6-30d63dacfe57"
      },
      "source": [
        "bert_model = TFBertModel.from_pretrained('bert-large-uncased')"
      ],
      "execution_count": 81,
      "outputs": [
        {
          "output_type": "display_data",
          "data": {
            "application/vnd.jupyter.widget-view+json": {
              "model_id": "ebaa49ff022844b698f7247eb751cb23",
              "version_minor": 0,
              "version_major": 2
            },
            "text/plain": [
              "Downloading:   0%|          | 0.00/1.37G [00:00<?, ?B/s]"
            ]
          },
          "metadata": {}
        },
        {
          "output_type": "stream",
          "name": "stderr",
          "text": [
            "Some layers from the model checkpoint at bert-large-uncased were not used when initializing TFBertModel: ['mlm___cls', 'nsp___cls']\n",
            "- This IS expected if you are initializing TFBertModel from the checkpoint of a model trained on another task or with another architecture (e.g. initializing a BertForSequenceClassification model from a BertForPreTraining model).\n",
            "- This IS NOT expected if you are initializing TFBertModel from the checkpoint of a model that you expect to be exactly identical (initializing a BertForSequenceClassification model from a BertForSequenceClassification model).\n",
            "All the layers of TFBertModel were initialized from the model checkpoint at bert-large-uncased.\n",
            "If your task is similar to the task the model of the checkpoint was trained on, you can already use TFBertModel for predictions without further training.\n"
          ]
        }
      ]
    },
    {
      "cell_type": "code",
      "metadata": {
        "colab": {
          "base_uri": "https://localhost:8080/"
        },
        "id": "tu3UGrjkK4RL",
        "outputId": "91107ede-5ba8-4d6f-95b2-60adf62eb19a"
      },
      "source": [
        "model = create_model(bert_model)\n",
        "model.summary()"
      ],
      "execution_count": 82,
      "outputs": [
        {
          "output_type": "stream",
          "name": "stdout",
          "text": [
            "Model: \"model\"\n",
            "__________________________________________________________________________________________________\n",
            "Layer (type)                    Output Shape         Param #     Connected to                     \n",
            "==================================================================================================\n",
            "input_1 (InputLayer)            [(None, 60)]         0                                            \n",
            "__________________________________________________________________________________________________\n",
            "input_2 (InputLayer)            [(None, 60)]         0                                            \n",
            "__________________________________________________________________________________________________\n",
            "tf_bert_model (TFBertModel)     TFBaseModelOutputWit 335141888   input_1[0][0]                    \n",
            "                                                                 input_2[0][0]                    \n",
            "__________________________________________________________________________________________________\n",
            "dense_4 (Dense)                 (None, 1)            1025        tf_bert_model[0][1]              \n",
            "==================================================================================================\n",
            "Total params: 335,142,913\n",
            "Trainable params: 335,142,913\n",
            "Non-trainable params: 0\n",
            "__________________________________________________________________________________________________\n"
          ]
        },
        {
          "output_type": "stream",
          "name": "stderr",
          "text": [
            "/usr/local/lib/python3.7/dist-packages/keras/optimizer_v2/optimizer_v2.py:356: UserWarning: The `lr` argument is deprecated, use `learning_rate` instead.\n",
            "  \"The `lr` argument is deprecated, use `learning_rate` instead.\")\n"
          ]
        }
      ]
    },
    {
      "cell_type": "code",
      "metadata": {
        "colab": {
          "base_uri": "https://localhost:8080/"
        },
        "id": "xWx8M9H7K_O3",
        "outputId": "84e80d89-194b-482f-b897-975377373e16"
      },
      "source": [
        "history = model.fit([train_input_ids,train_attention_masks],df_train.target,validation_split=0.3, epochs=2,batch_size=10)"
      ],
      "execution_count": 83,
      "outputs": [
        {
          "output_type": "stream",
          "name": "stdout",
          "text": [
            "Epoch 1/2\n",
            "199/199 [==============================] - 4836s 24s/step - loss: 0.6661 - root_mean_squared_error: 0.8161 - val_loss: 0.4862 - val_root_mean_squared_error: 0.6973\n",
            "Epoch 2/2\n",
            "199/199 [==============================] - 4800s 24s/step - loss: 0.3665 - root_mean_squared_error: 0.6054 - val_loss: 0.4941 - val_root_mean_squared_error: 0.7029\n"
          ]
        }
      ]
    },
    {
      "cell_type": "code",
      "metadata": {
        "colab": {
          "base_uri": "https://localhost:8080/",
          "height": 295
        },
        "id": "VCaJPIW7LPkq",
        "outputId": "206bf7e4-f0a1-4424-c667-e2812d9a4994"
      },
      "source": [
        "plt.plot(history.history['loss'])\n",
        "plt.plot(history.history['val_loss'])\n",
        "plt.title('model loss')\n",
        "plt.ylabel('loss')\n",
        "plt.xlabel('epoch')\n",
        "plt.legend(['train', 'test'], loc='upper left')\n",
        "plt.show()"
      ],
      "execution_count": 86,
      "outputs": [
        {
          "output_type": "display_data",
          "data": {
            "image/png": "[encoded data removed]",
            "text/plain": [
              "<Figure size 432x288 with 1 Axes>"
            ]
          },
          "metadata": {
            "needs_background": "light"
          }
        }
      ]
    },
    {
      "cell_type": "code",
      "metadata": {
        "colab": {
          "base_uri": "https://localhost:8080/",
          "height": 282,
          "referenced_widgets": [
            "72a0c78bacf34a3aa6ce104c5d35ee98",
            "94ae67a5965d4d1cb9c43dc4c9db17eb",
            "df3bd4ec09224847a7702cf26a842ca0",
            "3d55653d39cd41ffa1fb8379f073417b",
            "ca4b2d4371c943a0be6909ea92479dd0",
            "79e44554d756474fb2e7ef994545ffe0",
            "5579f6829cfa48ef94ed769ca1569eae",
            "c3e13718e8b94e52b8751e7ab4fddb47",
            "d35408e91fc544c5a01de1a80c1aeedd",
            "51f5c89094c346229139cd9e6f0dc5b9",
            "f76940785c1a4a1fa8f6256f118a9028",
            "a04f0a462dce4adb9e69cf2c4dd1d0ef",
            "650e4503f5bc468098d6a647aa9a1fb7",
            "e3a51b040333489ab55d93a5e31b57da",
            "1421be27e2d94326aabefbf2aaa9790a",
            "f7ef884a8e51455780fae30d28c7c3d2",
            "44daa5ed3e0342ec9f8e4f3ec05a15ed",
            "c15d4fef682c4c24b7834860d2b21f59",
            "ef6a79d1c447450e90030ab57cef8520",
            "814ed51f5d184bb59ad77bdf5286d370",
            "9b858faa36254288bb227b2c89b157a5",
            "fbce02f9f71c4b47a602f59912633be6",
            "d34ee00663d64aebb502e9056134c8ab",
            "c0d03b4afdc0425cba035aff7de4bafb",
            "34346314a9d5459da75dc1aa9e7b211c",
            "f3d529fff2d74d29b90875d5a21f09d1",
            "772be41ea3e44dd2a7eb29891cb226f8",
            "d066ba60bdc148d9a4c276036b86a70c",
            "44d976e59337473598101d19986a9afd",
            "3376b41621184db3b4196427cc23f6fa",
            "e7f113b1a6734b6dbe177e5db5222599",
            "94db9c1a7b9d42a3b5271a724bf34200",
            "5d9d69203af14f0a906cc30eca2181b1",
            "c4426d80f3674bf597f61135673a279c",
            "9a3ebdaf8ca4452a858423db9789a5ee",
            "a8da3998a58341d6a0c68e886b984b49",
            "522bcfef6aff4749abb6874d62c07c80",
            "6235f900530344f6835d1975c1e506e4",
            "d0a3b4c34b584dfcbb992547fbc4dbd8",
            "16abad7301dc4953a3a78f82b2f2a918",
            "9ce9aa9b7c4e41399fefd3ade48e2645",
            "8ac76fc59d1541b990c82f8efd6075f1",
            "d0e42d12b40d4cb8b6d3c945fed842d9",
            "686341f6850a4ba3af606cf96cd2ce7a",
            "00819e3797ee404082dccd46120765f3",
            "a224913c678c4b20b1e3313681b21d92",
            "7d6c90f709c44dca92f28af0dd29d79a",
            "b5fd4fb724764ac383bd7c6333930aab",
            "6df7d3cac66d47979fe342326551d759",
            "1953c1cab65146268259d3605c90d7b1",
            "bd8b2a7b09c64852abb1aca6d214992c",
            "32730224c1094a7299dcaf5454878f2a",
            "15446afdd7a4466aab0263f1af1c1d71",
            "5cbbea6b18af4673981fd94f38fb8f8c",
            "540df20065204cef959c34bc555acc2d"
          ]
        },
        "id": "rDABoNFXLQj0",
        "outputId": "a253012f-34d4-4cdd-efdb-ed83fca6125b"
      },
      "source": [
        "#roberta-base Hugging Face Transformer\n",
        "tokenizer = RobertaTokenizer.from_pretrained('roberta-base')\n",
        "BASE_MODEL = TFRobertaModel.from_pretrained('roberta-base')"
      ],
      "execution_count": 87,
      "outputs": [
        {
          "output_type": "display_data",
          "data": {
            "application/vnd.jupyter.widget-view+json": {
              "model_id": "72a0c78bacf34a3aa6ce104c5d35ee98",
              "version_minor": 0,
              "version_major": 2
            },
            "text/plain": [
              "Downloading:   0%|          | 0.00/878k [00:00<?, ?B/s]"
            ]
          },
          "metadata": {}
        },
        {
          "output_type": "display_data",
          "data": {
            "application/vnd.jupyter.widget-view+json": {
              "model_id": "a04f0a462dce4adb9e69cf2c4dd1d0ef",
              "version_minor": 0,
              "version_major": 2
            },
            "text/plain": [
              "Downloading:   0%|          | 0.00/446k [00:00<?, ?B/s]"
            ]
          },
          "metadata": {}
        },
        {
          "output_type": "display_data",
          "data": {
            "application/vnd.jupyter.widget-view+json": {
              "model_id": "d34ee00663d64aebb502e9056134c8ab",
              "version_minor": 0,
              "version_major": 2
            },
            "text/plain": [
              "Downloading:   0%|          | 0.00/1.29M [00:00<?, ?B/s]"
            ]
          },
          "metadata": {}
        },
        {
          "output_type": "display_data",
          "data": {
            "application/vnd.jupyter.widget-view+json": {
              "model_id": "c4426d80f3674bf597f61135673a279c",
              "version_minor": 0,
              "version_major": 2
            },
            "text/plain": [
              "Downloading:   0%|          | 0.00/481 [00:00<?, ?B/s]"
            ]
          },
          "metadata": {}
        },
        {
          "output_type": "display_data",
          "data": {
            "application/vnd.jupyter.widget-view+json": {
              "model_id": "00819e3797ee404082dccd46120765f3",
              "version_minor": 0,
              "version_major": 2
            },
            "text/plain": [
              "Downloading:   0%|          | 0.00/627M [00:00<?, ?B/s]"
            ]
          },
          "metadata": {}
        },
        {
          "output_type": "stream",
          "name": "stderr",
          "text": [
            "Some layers from the model checkpoint at roberta-base were not used when initializing TFRobertaModel: ['lm_head']\n",
            "- This IS expected if you are initializing TFRobertaModel from the checkpoint of a model trained on another task or with another architecture (e.g. initializing a BertForSequenceClassification model from a BertForPreTraining model).\n",
            "- This IS NOT expected if you are initializing TFRobertaModel from the checkpoint of a model that you expect to be exactly identical (initializing a BertForSequenceClassification model from a BertForSequenceClassification model).\n",
            "All the layers of TFRobertaModel were initialized from the model checkpoint at roberta-base.\n",
            "If your task is similar to the task the model of the checkpoint was trained on, you can already use TFRobertaModel for predictions without further training.\n"
          ]
        }
      ]
    },
    {
      "cell_type": "code",
      "metadata": {
        "colab": {
          "base_uri": "https://localhost:8080/"
        },
        "id": "T1iNuxLZLdkg",
        "outputId": "dc86c343-58e2-454c-87ac-ea63cae2236a"
      },
      "source": [
        "def create_model(bert_model):\n",
        "  input_ids = tf.keras.Input(shape=(60,),dtype='int32')\n",
        "  attention_masks = tf.keras.Input(shape=(60,),dtype='int32')\n",
        "  \n",
        "  output = bert_model([input_ids,attention_masks])\n",
        "  output = output[1]\n",
        "  output = tf.keras.layers.Dense(32,activation='relu')(output)\n",
        "  output = tf.keras.layers.Dropout(0.2)(output)\n",
        "\n",
        "  output = tf.keras.layers.Dense(1)(output)\n",
        "  model = tf.keras.models.Model(inputs = [input_ids,attention_masks],outputs = output)\n",
        "  \n",
        "  return model\n",
        "model = create_model(BASE_MODEL)\n",
        "model.compile(tf.keras.optimizers.Adam(lr=6e-6), loss='mean_squared_error', metrics=[RootMeanSquaredError()])\n",
        "    \n",
        "model.summary()\n"
      ],
      "execution_count": 89,
      "outputs": [
        {
          "output_type": "stream",
          "name": "stdout",
          "text": [
            "Model: \"model_1\"\n",
            "__________________________________________________________________________________________________\n",
            "Layer (type)                    Output Shape         Param #     Connected to                     \n",
            "==================================================================================================\n",
            "input_3 (InputLayer)            [(None, 60)]         0                                            \n",
            "__________________________________________________________________________________________________\n",
            "input_4 (InputLayer)            [(None, 60)]         0                                            \n",
            "__________________________________________________________________________________________________\n",
            "tf_roberta_model (TFRobertaMode TFBaseModelOutputWit 124645632   input_3[0][0]                    \n",
            "                                                                 input_4[0][0]                    \n",
            "__________________________________________________________________________________________________\n",
            "dense_5 (Dense)                 (None, 32)           24608       tf_roberta_model[0][1]           \n",
            "__________________________________________________________________________________________________\n",
            "dropout_110 (Dropout)           (None, 32)           0           dense_5[0][0]                    \n",
            "__________________________________________________________________________________________________\n",
            "dense_6 (Dense)                 (None, 1)            33          dropout_110[0][0]                \n",
            "==================================================================================================\n",
            "Total params: 124,670,273\n",
            "Trainable params: 124,670,273\n",
            "Non-trainable params: 0\n",
            "__________________________________________________________________________________________________\n"
          ]
        },
        {
          "output_type": "stream",
          "name": "stderr",
          "text": [
            "/usr/local/lib/python3.7/dist-packages/keras/optimizer_v2/optimizer_v2.py:356: UserWarning: The `lr` argument is deprecated, use `learning_rate` instead.\n",
            "  \"The `lr` argument is deprecated, use `learning_rate` instead.\")\n"
          ]
        }
      ]
    },
    {
      "cell_type": "code",
      "metadata": {
        "colab": {
          "base_uri": "https://localhost:8080/"
        },
        "id": "IYOT74xj1Pgm",
        "outputId": "e9c1f643-b201-4aae-b9fc-dc7e92b0edc3"
      },
      "source": [
        "history = model.fit([train_input_ids,train_attention_masks],df_train.target,validation_split=0.3, epochs=2,batch_size=10)"
      ],
      "execution_count": 90,
      "outputs": [
        {
          "output_type": "stream",
          "name": "stdout",
          "text": [
            "Epoch 1/2\n",
            "199/199 [==============================] - 1428s 7s/step - loss: 1.1264 - root_mean_squared_error: 1.0613 - val_loss: 0.7846 - val_root_mean_squared_error: 0.8858\n",
            "Epoch 2/2\n",
            "199/199 [==============================] - 1398s 7s/step - loss: 0.9577 - root_mean_squared_error: 0.9786 - val_loss: 0.7611 - val_root_mean_squared_error: 0.8724\n"
          ]
        }
      ]
    },
    {
      "cell_type": "code",
      "metadata": {
        "id": "coTxfK991gOj"
      },
      "source": [
        ""
      ],
      "execution_count": null,
      "outputs": []
    }
  ]
}